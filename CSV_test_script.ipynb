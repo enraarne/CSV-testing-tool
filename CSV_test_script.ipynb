{
 "cells": [
  {
   "cell_type": "markdown",
   "id": "8628dfca",
   "metadata": {},
   "source": [
    "                 \n",
    "<div style=\"background-color: #50586C\"><br><br><br>\n",
    "    <h1 style=\"font-size: 36pt; color: #DCE2F0; text-align: center; padding-left: 20px; padding-right: 20px\">How to validate data in large CSV-files with Python</h1>\n",
    "    <h2 style=\"font-size: 26pt; color: #DCE2F0; text-align: center\">a quick and easy solution</h2><br><br><br>\n",
    "</div>\n",
    "<div style=\"background-color: #DCE2F0\"><br>\n",
    "   <h3 style=\"font-size: 16pt; color: #50586C; text-align: center; padding-left: 20px; padding-right: 20px\">A supplemental notebook  ... </h3><br><br>\n",
    "</div>"
   ]
  },
  {
   "cell_type": "code",
   "execution_count": 1,
   "id": "ce0c996f",
   "metadata": {},
   "outputs": [
    {
     "name": "stderr",
     "output_type": "stream",
     "text": [
      "C:\\Users\\ARFEV\\Anaconda3\\lib\\site-packages\\scipy\\__init__.py:146: UserWarning: A NumPy version >=1.16.5 and <1.23.0 is required for this version of SciPy (detected version 1.24.2\n",
      "  warnings.warn(f\"A NumPy version >={np_minversion} and <{np_maxversion}\"\n"
     ]
    },
    {
     "data": {
      "text/html": [
       "<style>.container { width:80% !important; }</style>"
      ],
      "text/plain": [
       "<IPython.core.display.HTML object>"
      ]
     },
     "metadata": {},
     "output_type": "display_data"
    }
   ],
   "source": [
    "# LIbraries\n",
    "import pandas as pd\n",
    "import numpy as np\n",
    "import random\n",
    "import csv\n",
    "import zipfile\n",
    "import hashlib\n",
    "import sys\n",
    "import os\n",
    "import time\n",
    "import matplotlib.pyplot as plt\n",
    "import seaborn as sns\n",
    "\n",
    "# Alter size of display\n",
    "from IPython.display import display, HTML\n",
    "display(HTML(\"<style>.container { width:80% !important; }</style>\"))\n",
    "\n",
    "#pd.set_option('display.max_colwidth', None)"
   ]
  },
  {
   "cell_type": "markdown",
   "id": "3a0f0ac8",
   "metadata": {},
   "source": [
    "<div style=\"background-color: #DCE2F0\"><br>\n",
    "   <h2 style=\"font-size: 26pt; color: #50586C; padding-left: 40px;\">1. Determining encoding and counting the number of rows</h2>\n",
    "</div>\n",
    "<div style=\"background-color: #DCE2F0\"><br>\n",
    "    <span style=\"color: #50586C; padding-left: 40px\">Her er litt vanlig skrift</span><br>\n",
    "    <span style=\"color: #50586C; padding-left: 40px\">The data used in this notebook can be found here:<br><br>\n",
    "</div>"
   ]
  },
  {
   "cell_type": "code",
   "execution_count": 2,
   "id": "a652742e",
   "metadata": {},
   "outputs": [
    {
     "name": "stdout",
     "output_type": "stream",
     "text": [
      "The encoding of the file is: cp1252\n",
      "The number of lines in the file is: 72,759,549\n"
     ]
    }
   ],
   "source": [
    "# Get encoding and number of lines of CSV-file\n",
    "with open('data/VGO_EUV_Tema_2022.csv') as file:\n",
    "    encoding = file.encoding\n",
    "    print(f\"The encoding of the file is: {encoding}\")\n",
    "    for number_of_lines, line in enumerate(file):\n",
    "        ...\n",
    "    number_of_lines += 1 \n",
    "    print(f\"The number of lines in the file is: {number_of_lines:,}\")"
   ]
  },
  {
   "cell_type": "code",
   "execution_count": 3,
   "id": "645c44c9",
   "metadata": {
    "scrolled": false
   },
   "outputs": [
    {
     "data": {
      "text/html": [
       "<div>\n",
       "<style scoped>\n",
       "    .dataframe tbody tr th:only-of-type {\n",
       "        vertical-align: middle;\n",
       "    }\n",
       "\n",
       "    .dataframe tbody tr th {\n",
       "        vertical-align: top;\n",
       "    }\n",
       "\n",
       "    .dataframe thead th {\n",
       "        text-align: right;\n",
       "    }\n",
       "</style>\n",
       "<table border=\"1\" class=\"dataframe\">\n",
       "  <thead>\n",
       "    <tr style=\"text-align: right;\">\n",
       "      <th></th>\n",
       "      <th>TemaNivaa</th>\n",
       "      <th>Temakode</th>\n",
       "      <th>Temanavn</th>\n",
       "      <th>SpoersmaalNivaa</th>\n",
       "      <th>Spoersmaalkode</th>\n",
       "      <th>Spoersmaalnavn</th>\n",
       "      <th>SvaralternativNivaa</th>\n",
       "      <th>SvaralternativKode</th>\n",
       "      <th>SvaralternativNavn</th>\n",
       "      <th>Skoleaarnavn</th>\n",
       "      <th>...</th>\n",
       "      <th>EierformNivaa</th>\n",
       "      <th>Eierformkode</th>\n",
       "      <th>EierformNavn</th>\n",
       "      <th>Score</th>\n",
       "      <th>Standardavvik</th>\n",
       "      <th>AndelBesvart</th>\n",
       "      <th>AntallBesvart</th>\n",
       "      <th>Sidenummer</th>\n",
       "      <th>RaderSide</th>\n",
       "      <th>RaderTotalt</th>\n",
       "    </tr>\n",
       "  </thead>\n",
       "  <tbody>\n",
       "    <tr>\n",
       "      <th>0</th>\n",
       "      <td>1</td>\n",
       "      <td>EUTema_36</td>\n",
       "      <td>T27 - Arbeidsmiljø</td>\n",
       "      <td>2</td>\n",
       "      <td>EUSpoersmaal_Q7132</td>\n",
       "      <td>I hvilken grad er du enig i følgende påstander...</td>\n",
       "      <td>0</td>\n",
       "      <td>Alle</td>\n",
       "      <td>Alle svar</td>\n",
       "      <td>2022-23</td>\n",
       "      <td>...</td>\n",
       "      <td>1</td>\n",
       "      <td>3</td>\n",
       "      <td>Offentlig skole</td>\n",
       "      <td>*</td>\n",
       "      <td>*</td>\n",
       "      <td>*</td>\n",
       "      <td>*</td>\n",
       "      <td>1</td>\n",
       "      <td>7236</td>\n",
       "      <td>72759548</td>\n",
       "    </tr>\n",
       "    <tr>\n",
       "      <th>1</th>\n",
       "      <td>1</td>\n",
       "      <td>EUTema_36</td>\n",
       "      <td>T27 - Arbeidsmiljø</td>\n",
       "      <td>2</td>\n",
       "      <td>EUSpoersmaal_Q7132</td>\n",
       "      <td>I hvilken grad er du enig i følgende påstander...</td>\n",
       "      <td>0</td>\n",
       "      <td>Alle</td>\n",
       "      <td>Alle svar</td>\n",
       "      <td>2022-23</td>\n",
       "      <td>...</td>\n",
       "      <td>0</td>\n",
       "      <td>-10</td>\n",
       "      <td>Alle eierformer</td>\n",
       "      <td>*</td>\n",
       "      <td>*</td>\n",
       "      <td>*</td>\n",
       "      <td>*</td>\n",
       "      <td>1</td>\n",
       "      <td>7236</td>\n",
       "      <td>72759548</td>\n",
       "    </tr>\n",
       "    <tr>\n",
       "      <th>2</th>\n",
       "      <td>1</td>\n",
       "      <td>EUTema_36</td>\n",
       "      <td>T27 - Arbeidsmiljø</td>\n",
       "      <td>2</td>\n",
       "      <td>EUSpoersmaal_Q7132</td>\n",
       "      <td>I hvilken grad er du enig i følgende påstander...</td>\n",
       "      <td>0</td>\n",
       "      <td>Alle</td>\n",
       "      <td>Alle svar</td>\n",
       "      <td>2022-23</td>\n",
       "      <td>...</td>\n",
       "      <td>1</td>\n",
       "      <td>3</td>\n",
       "      <td>Offentlig skole</td>\n",
       "      <td>*</td>\n",
       "      <td>*</td>\n",
       "      <td>*</td>\n",
       "      <td>*</td>\n",
       "      <td>1</td>\n",
       "      <td>7236</td>\n",
       "      <td>72759548</td>\n",
       "    </tr>\n",
       "    <tr>\n",
       "      <th>3</th>\n",
       "      <td>1</td>\n",
       "      <td>EUTema_36</td>\n",
       "      <td>T27 - Arbeidsmiljø</td>\n",
       "      <td>2</td>\n",
       "      <td>EUSpoersmaal_Q7132</td>\n",
       "      <td>I hvilken grad er du enig i følgende påstander...</td>\n",
       "      <td>0</td>\n",
       "      <td>Alle</td>\n",
       "      <td>Alle svar</td>\n",
       "      <td>2022-23</td>\n",
       "      <td>...</td>\n",
       "      <td>0</td>\n",
       "      <td>-10</td>\n",
       "      <td>Alle eierformer</td>\n",
       "      <td>*</td>\n",
       "      <td>*</td>\n",
       "      <td>*</td>\n",
       "      <td>*</td>\n",
       "      <td>1</td>\n",
       "      <td>7236</td>\n",
       "      <td>72759548</td>\n",
       "    </tr>\n",
       "    <tr>\n",
       "      <th>4</th>\n",
       "      <td>1</td>\n",
       "      <td>EUTema_35</td>\n",
       "      <td>T26 - Arbeidsmiljø</td>\n",
       "      <td>2</td>\n",
       "      <td>EUSpoersmaal_Q7119</td>\n",
       "      <td>Er du blitt utsatt for urettferdig behandling/...</td>\n",
       "      <td>0</td>\n",
       "      <td>Alle</td>\n",
       "      <td>Alle svar</td>\n",
       "      <td>2022-23</td>\n",
       "      <td>...</td>\n",
       "      <td>0</td>\n",
       "      <td>-10</td>\n",
       "      <td>Alle eierformer</td>\n",
       "      <td>*</td>\n",
       "      <td>*</td>\n",
       "      <td>*</td>\n",
       "      <td>*</td>\n",
       "      <td>1</td>\n",
       "      <td>7236</td>\n",
       "      <td>72759548</td>\n",
       "    </tr>\n",
       "    <tr>\n",
       "      <th>5</th>\n",
       "      <td>1</td>\n",
       "      <td>EUTema_35</td>\n",
       "      <td>T26 - Arbeidsmiljø</td>\n",
       "      <td>2</td>\n",
       "      <td>EUSpoersmaal_Q7119</td>\n",
       "      <td>Er du blitt utsatt for urettferdig behandling/...</td>\n",
       "      <td>0</td>\n",
       "      <td>Alle</td>\n",
       "      <td>Alle svar</td>\n",
       "      <td>2022-23</td>\n",
       "      <td>...</td>\n",
       "      <td>1</td>\n",
       "      <td>3</td>\n",
       "      <td>Offentlig skole</td>\n",
       "      <td>*</td>\n",
       "      <td>*</td>\n",
       "      <td>*</td>\n",
       "      <td>*</td>\n",
       "      <td>1</td>\n",
       "      <td>7236</td>\n",
       "      <td>72759548</td>\n",
       "    </tr>\n",
       "    <tr>\n",
       "      <th>6</th>\n",
       "      <td>1</td>\n",
       "      <td>EUTema_35</td>\n",
       "      <td>T26 - Arbeidsmiljø</td>\n",
       "      <td>2</td>\n",
       "      <td>EUSpoersmaal_Q7119</td>\n",
       "      <td>Er du blitt utsatt for urettferdig behandling/...</td>\n",
       "      <td>0</td>\n",
       "      <td>Alle</td>\n",
       "      <td>Alle svar</td>\n",
       "      <td>2022-23</td>\n",
       "      <td>...</td>\n",
       "      <td>0</td>\n",
       "      <td>-10</td>\n",
       "      <td>Alle eierformer</td>\n",
       "      <td>*</td>\n",
       "      <td>*</td>\n",
       "      <td>*</td>\n",
       "      <td>*</td>\n",
       "      <td>1</td>\n",
       "      <td>7236</td>\n",
       "      <td>72759548</td>\n",
       "    </tr>\n",
       "    <tr>\n",
       "      <th>7</th>\n",
       "      <td>1</td>\n",
       "      <td>EUTema_35</td>\n",
       "      <td>T26 - Arbeidsmiljø</td>\n",
       "      <td>2</td>\n",
       "      <td>EUSpoersmaal_Q7119</td>\n",
       "      <td>Er du blitt utsatt for urettferdig behandling/...</td>\n",
       "      <td>0</td>\n",
       "      <td>Alle</td>\n",
       "      <td>Alle svar</td>\n",
       "      <td>2022-23</td>\n",
       "      <td>...</td>\n",
       "      <td>1</td>\n",
       "      <td>3</td>\n",
       "      <td>Offentlig skole</td>\n",
       "      <td>*</td>\n",
       "      <td>*</td>\n",
       "      <td>*</td>\n",
       "      <td>*</td>\n",
       "      <td>1</td>\n",
       "      <td>7236</td>\n",
       "      <td>72759548</td>\n",
       "    </tr>\n",
       "    <tr>\n",
       "      <th>8</th>\n",
       "      <td>1</td>\n",
       "      <td>EUTema_35</td>\n",
       "      <td>T26 - Arbeidsmiljø</td>\n",
       "      <td>2</td>\n",
       "      <td>EUSpoersmaal_Q7119</td>\n",
       "      <td>Er du blitt utsatt for urettferdig behandling/...</td>\n",
       "      <td>0</td>\n",
       "      <td>Alle</td>\n",
       "      <td>Alle svar</td>\n",
       "      <td>2022-23</td>\n",
       "      <td>...</td>\n",
       "      <td>1</td>\n",
       "      <td>3</td>\n",
       "      <td>Offentlig skole</td>\n",
       "      <td>*</td>\n",
       "      <td>*</td>\n",
       "      <td>*</td>\n",
       "      <td>*</td>\n",
       "      <td>1</td>\n",
       "      <td>7236</td>\n",
       "      <td>72759548</td>\n",
       "    </tr>\n",
       "    <tr>\n",
       "      <th>9</th>\n",
       "      <td>1</td>\n",
       "      <td>EUTema_35</td>\n",
       "      <td>T26 - Arbeidsmiljø</td>\n",
       "      <td>2</td>\n",
       "      <td>EUSpoersmaal_Q7119</td>\n",
       "      <td>Er du blitt utsatt for urettferdig behandling/...</td>\n",
       "      <td>0</td>\n",
       "      <td>Alle</td>\n",
       "      <td>Alle svar</td>\n",
       "      <td>2022-23</td>\n",
       "      <td>...</td>\n",
       "      <td>1</td>\n",
       "      <td>3</td>\n",
       "      <td>Offentlig skole</td>\n",
       "      <td>*</td>\n",
       "      <td>*</td>\n",
       "      <td>*</td>\n",
       "      <td>*</td>\n",
       "      <td>1</td>\n",
       "      <td>7236</td>\n",
       "      <td>72759548</td>\n",
       "    </tr>\n",
       "  </tbody>\n",
       "</table>\n",
       "<p>10 rows × 41 columns</p>\n",
       "</div>"
      ],
      "text/plain": [
       "   TemaNivaa   Temakode            Temanavn  SpoersmaalNivaa  \\\n",
       "0          1  EUTema_36  T27 - Arbeidsmiljø                2   \n",
       "1          1  EUTema_36  T27 - Arbeidsmiljø                2   \n",
       "2          1  EUTema_36  T27 - Arbeidsmiljø                2   \n",
       "3          1  EUTema_36  T27 - Arbeidsmiljø                2   \n",
       "4          1  EUTema_35  T26 - Arbeidsmiljø                2   \n",
       "5          1  EUTema_35  T26 - Arbeidsmiljø                2   \n",
       "6          1  EUTema_35  T26 - Arbeidsmiljø                2   \n",
       "7          1  EUTema_35  T26 - Arbeidsmiljø                2   \n",
       "8          1  EUTema_35  T26 - Arbeidsmiljø                2   \n",
       "9          1  EUTema_35  T26 - Arbeidsmiljø                2   \n",
       "\n",
       "       Spoersmaalkode                                     Spoersmaalnavn  \\\n",
       "0  EUSpoersmaal_Q7132  I hvilken grad er du enig i følgende påstander...   \n",
       "1  EUSpoersmaal_Q7132  I hvilken grad er du enig i følgende påstander...   \n",
       "2  EUSpoersmaal_Q7132  I hvilken grad er du enig i følgende påstander...   \n",
       "3  EUSpoersmaal_Q7132  I hvilken grad er du enig i følgende påstander...   \n",
       "4  EUSpoersmaal_Q7119  Er du blitt utsatt for urettferdig behandling/...   \n",
       "5  EUSpoersmaal_Q7119  Er du blitt utsatt for urettferdig behandling/...   \n",
       "6  EUSpoersmaal_Q7119  Er du blitt utsatt for urettferdig behandling/...   \n",
       "7  EUSpoersmaal_Q7119  Er du blitt utsatt for urettferdig behandling/...   \n",
       "8  EUSpoersmaal_Q7119  Er du blitt utsatt for urettferdig behandling/...   \n",
       "9  EUSpoersmaal_Q7119  Er du blitt utsatt for urettferdig behandling/...   \n",
       "\n",
       "   SvaralternativNivaa SvaralternativKode SvaralternativNavn Skoleaarnavn  \\\n",
       "0                    0               Alle          Alle svar      2022-23   \n",
       "1                    0               Alle          Alle svar      2022-23   \n",
       "2                    0               Alle          Alle svar      2022-23   \n",
       "3                    0               Alle          Alle svar      2022-23   \n",
       "4                    0               Alle          Alle svar      2022-23   \n",
       "5                    0               Alle          Alle svar      2022-23   \n",
       "6                    0               Alle          Alle svar      2022-23   \n",
       "7                    0               Alle          Alle svar      2022-23   \n",
       "8                    0               Alle          Alle svar      2022-23   \n",
       "9                    0               Alle          Alle svar      2022-23   \n",
       "\n",
       "   ...  EierformNivaa Eierformkode     EierformNavn  Score Standardavvik  \\\n",
       "0  ...              1            3  Offentlig skole      *             *   \n",
       "1  ...              0          -10  Alle eierformer      *             *   \n",
       "2  ...              1            3  Offentlig skole      *             *   \n",
       "3  ...              0          -10  Alle eierformer      *             *   \n",
       "4  ...              0          -10  Alle eierformer      *             *   \n",
       "5  ...              1            3  Offentlig skole      *             *   \n",
       "6  ...              0          -10  Alle eierformer      *             *   \n",
       "7  ...              1            3  Offentlig skole      *             *   \n",
       "8  ...              1            3  Offentlig skole      *             *   \n",
       "9  ...              1            3  Offentlig skole      *             *   \n",
       "\n",
       "   AndelBesvart AntallBesvart  Sidenummer RaderSide RaderTotalt  \n",
       "0             *             *           1      7236    72759548  \n",
       "1             *             *           1      7236    72759548  \n",
       "2             *             *           1      7236    72759548  \n",
       "3             *             *           1      7236    72759548  \n",
       "4             *             *           1      7236    72759548  \n",
       "5             *             *           1      7236    72759548  \n",
       "6             *             *           1      7236    72759548  \n",
       "7             *             *           1      7236    72759548  \n",
       "8             *             *           1      7236    72759548  \n",
       "9             *             *           1      7236    72759548  \n",
       "\n",
       "[10 rows x 41 columns]"
      ]
     },
     "execution_count": 3,
     "metadata": {},
     "output_type": "execute_result"
    }
   ],
   "source": [
    "# Importing the first 10-rows into a Pandas dataframe, to look at the data\n",
    "df = pd.read_csv('data/VGO_EUV_Tema_2022.csv', nrows=10, sep=\";\", encoding='cp1252')\n",
    "df"
   ]
  },
  {
   "cell_type": "markdown",
   "id": "e10a1da4",
   "metadata": {},
   "source": [
    "<div style=\"background-color: #DCE2F0\"><br>\n",
    "   <h2 style=\"font-size: 26pt; color: #50586C; padding-left: 40px;\">2. Transforming Test Data into Hashed Keys</h2>\n",
    "</div>\n",
    "\n",
    "\n",
    "<div style=\"background-color: #DCE2F0\"><br>\n",
    "    <span style=\"color: #50586C; padding-left: 40px\">Her er litt vanlig skrift</span><br>\n",
    "    <span style=\"color: #50586C; padding-left: 40px\">'ISO-8859-1'</span><br><br>\n",
    "</div>"
   ]
  },
  {
   "cell_type": "code",
   "execution_count": 22,
   "id": "5a2b1861",
   "metadata": {},
   "outputs": [],
   "source": [
    "def key_maker(input_file, output_file, limit_empty, limit_stop=float('inf'), delimiter_input=\";\", skip_columns=[]):\n",
    "    \"\"\"\n",
    "    This function reads a CSV file, processes specified columns, concatenates their values, and hashes the result using SHA256.\n",
    "    The hashed keys are then written to an output file in a single-row CSV format.\n",
    "\n",
    "    Parameters:\n",
    "    - input_file (str): The path to the input CSV file.\n",
    "    - output_file (str): The path to the output file where hashed keys will be stored.\n",
    "    - limit_empty (int): The maximum number of rows to accumulate before writing to the output file.\n",
    "    - limit_stop (int, optional): The maximum number of rows to process from the input file (default is infinity).\n",
    "    - delimiter_input (str, optional): The delimiter used in the input CSV file (default is semicolon ';').\n",
    "    - skip_columns (list, optional): A list of column indices to skip while creating keys.\n",
    "\n",
    "    Returns:\n",
    "    None\n",
    "\n",
    "    Example:\n",
    "    key_maker('input.csv', 'output.csv', limit_empty=1000, limit_stop=5000, delimiter_input=',', skip_columns=[2, 4])\n",
    "    \"\"\"\n",
    "\n",
    "    # Record the start time for performance measurement\n",
    "    start = time.perf_counter()\n",
    "\n",
    "    # Open the input CSV file for reading\n",
    "    with open(input_file) as file_read:\n",
    "        csv_reader = csv.reader(file_read, delimiter=delimiter_input)\n",
    "\n",
    "        # Initialize variables for iteration and key storage\n",
    "        iteration_count = 1\n",
    "        key_list = []\n",
    "\n",
    "        # Iterate through the rows in the input CSV file\n",
    "        for row_count, data in enumerate(csv_reader, 1):\n",
    "            \n",
    "            # Check if the row count exceeds the specified limit_stop\n",
    "            if row_count > limit_stop: \n",
    "                break\n",
    "            \n",
    "            # Create hashed keys by concatenating specified columns and hashing with SHA256\n",
    "            key = str()\n",
    "            for skip, element in enumerate(data):\n",
    "                if skip not in skip_columns:\n",
    "                    key += str(element)\n",
    "            key = hashlib.sha256(key.encode('utf-8')).hexdigest()\n",
    "            key += \"\\n\"\n",
    "            key_list.append(key)\n",
    "\n",
    "            # Write to the output file every limit_empty rows\n",
    "            if (row_count > 1) and (row_count % limit_empty) == 0: \n",
    "                with open(output_file, 'a') as file_write:\n",
    "                    file_write.writelines(key_list)\n",
    "                key_list = []\n",
    "                print(f\"Iteration {iteration_count: <5} |  Total Rows Written: {row_count: >10}  |  Output File: {output_file}\")\n",
    "                iteration_count += 1\n",
    "\n",
    "        # Write the remaining rows to the output file    \n",
    "        if key_list:\n",
    "            with open(output_file, 'a') as file_write:\n",
    "                file_write.writelines(key_list)\n",
    "                print(f\"Iteration {iteration_count: <5} |  Total Rows Written: {row_count: >10}  |  Output File: {output_file}\")\n",
    "        del key_list\n",
    "\n",
    "    # Record the end time for performance measurement\n",
    "    end = time.perf_counter()\n",
    "\n",
    "    # Print the total time taken for the execution\n",
    "    print(\"\")\n",
    "    print(\"Time in seconds:\", round(end - start, 2))"
   ]
  },
  {
   "cell_type": "code",
   "execution_count": 23,
   "id": "bcf27898",
   "metadata": {},
   "outputs": [
    {
     "name": "stdout",
     "output_type": "stream",
     "text": [
      "Iteration 1    ... A total of 100000 rows written to data/test_data.csv\n",
      "Iteration 2    ... A total of 200000 rows written to data/test_data.csv\n",
      "Iteration 3    ... A total of 300000 rows written to data/test_data.csv\n",
      "Iteration 4    ... A total of 400000 rows written to data/test_data.csv\n",
      "Iteration 5    ... A total of 500000 rows written to data/test_data.csv\n",
      "Iteration 6    ... A total of 600000 rows written to data/test_data.csv\n",
      "Iteration 7    ... A total of 700000 rows written to data/test_data.csv\n",
      "Iteration 8    ... A total of 800000 rows written to data/test_data.csv\n",
      "Iteration 9    ... A total of 900000 rows written to data/test_data.csv\n",
      "Iteration 10   ... A total of 1000000 rows written to data/test_data.csv\n",
      "\n",
      "Time in seconds: 19.98\n"
     ]
    }
   ],
   "source": [
    "input_file      = 'data/VGO_EUV_Tema_2022.csv'\n",
    "output_file     = 'data/test_data1.csv'\n",
    "limit_empty     =  100000\n",
    "limit_stop      = 1000000\n",
    "delimiter_input = ';'\n",
    "skip_columns    = []\n",
    "\n",
    "key_maker(input_file, output_file, limit_empty, limit_stop, delimiter_input, skip_columns)"
   ]
  },
  {
   "cell_type": "code",
   "execution_count": 25,
   "id": "77b166b2",
   "metadata": {},
   "outputs": [
    {
     "data": {
      "text/html": [
       "<div>\n",
       "<style scoped>\n",
       "    .dataframe tbody tr th:only-of-type {\n",
       "        vertical-align: middle;\n",
       "    }\n",
       "\n",
       "    .dataframe tbody tr th {\n",
       "        vertical-align: top;\n",
       "    }\n",
       "\n",
       "    .dataframe thead th {\n",
       "        text-align: right;\n",
       "    }\n",
       "</style>\n",
       "<table border=\"1\" class=\"dataframe\">\n",
       "  <thead>\n",
       "    <tr style=\"text-align: right;\">\n",
       "      <th></th>\n",
       "      <th>Test-keys</th>\n",
       "    </tr>\n",
       "  </thead>\n",
       "  <tbody>\n",
       "    <tr>\n",
       "      <th>0</th>\n",
       "      <td>c253b970f8916e770c33781216459583118350ffe168b8...</td>\n",
       "    </tr>\n",
       "    <tr>\n",
       "      <th>1</th>\n",
       "      <td>773bfe13dcdd0fbcf4968b1a3975d5d4261922f53dc97a...</td>\n",
       "    </tr>\n",
       "    <tr>\n",
       "      <th>2</th>\n",
       "      <td>c6f9d7b14505dbb5eb7c362685cd62c3c5f32c91abd0bd...</td>\n",
       "    </tr>\n",
       "    <tr>\n",
       "      <th>3</th>\n",
       "      <td>28fb5a8ff629d985828652d9dabd24ce265765941514a0...</td>\n",
       "    </tr>\n",
       "    <tr>\n",
       "      <th>4</th>\n",
       "      <td>9e0c6e6c7405c36e74b013dfe5fead457cb83c5b49fc74...</td>\n",
       "    </tr>\n",
       "  </tbody>\n",
       "</table>\n",
       "</div>"
      ],
      "text/plain": [
       "                                           Test-keys\n",
       "0  c253b970f8916e770c33781216459583118350ffe168b8...\n",
       "1  773bfe13dcdd0fbcf4968b1a3975d5d4261922f53dc97a...\n",
       "2  c6f9d7b14505dbb5eb7c362685cd62c3c5f32c91abd0bd...\n",
       "3  28fb5a8ff629d985828652d9dabd24ce265765941514a0...\n",
       "4  9e0c6e6c7405c36e74b013dfe5fead457cb83c5b49fc74..."
      ]
     },
     "execution_count": 25,
     "metadata": {},
     "output_type": "execute_result"
    }
   ],
   "source": [
    "# Confirming that the data looks fine\n",
    "df_test_data = pd.read_csv('data/test_data.csv', header=None, names=[\"Test-keys\"], nrows=5)\n",
    "df_test_data"
   ]
  },
  {
   "cell_type": "markdown",
   "id": "8198a267",
   "metadata": {},
   "source": [
    "<div style=\"background-color: #DCE2F0\"><br>\n",
    "   <h2 style=\"font-size: 26pt; color: #50586C; padding-left: 40px;\">3. Data Validity Testing</h2>\n",
    "</div>\n",
    "\n",
    "\n",
    "<div style=\"background-color: #DCE2F0\"><br>\n",
    "    <span style=\"color: #50586C; padding-left: 40px\">Her er litt vanlig skrift</span><br>\n",
    "    <span style=\"color: #50586C; padding-left: 40px\">'ISO-8859-1'</span><br><br>\n",
    "</div>"
   ]
  },
  {
   "cell_type": "markdown",
   "id": "a83ebb78",
   "metadata": {},
   "source": [
    "<div style=\"background-color: #50586C\"><br>\n",
    "   <h2 style=\"font-size: 16pt; color: #DCE2F0; padding-left: 40px;\">Comparison</h2><br><br>\n",
    "</div>"
   ]
  },
  {
   "cell_type": "code",
   "execution_count": 24,
   "id": "48ec9cbf",
   "metadata": {},
   "outputs": [
    {
     "name": "stderr",
     "output_type": "stream",
     "text": [
      "C:\\Users\\ARFEV\\AppData\\Local\\Temp\\ipykernel_10308\\2646446910.py:2: DtypeWarning: Columns (7,15,37) have mixed types. Specify dtype option on import or set low_memory=False.\n",
      "  df_normal = pd.read_csv('data/VGO_EUV_Tema_2022.csv', nrows=1000000, sep=\";\", encoding='cp1252')\n"
     ]
    }
   ],
   "source": [
    "# Importing the first 10-rows into a Pandas dataframe, to look at the data\n",
    "df_normal = pd.read_csv('data/VGO_EUV_Tema_2022.csv', nrows=1000000, sep=\";\", encoding='cp1252')\n",
    "df_normal.to_csv(\"data/normal.csv\", index=False, sep=\";\")"
   ]
  },
  {
   "cell_type": "code",
   "execution_count": 25,
   "id": "a37ec28c",
   "metadata": {},
   "outputs": [
    {
     "data": {
      "text/plain": [
       "2059554625"
      ]
     },
     "execution_count": 25,
     "metadata": {},
     "output_type": "execute_result"
    }
   ],
   "source": [
    "sys.getsizeof(df_normal)"
   ]
  },
  {
   "cell_type": "code",
   "execution_count": 28,
   "id": "c27c26f7",
   "metadata": {},
   "outputs": [],
   "source": [
    "ndarray_normal = np.loadtxt(open(\"data/normal.csv\", \"rb\"), delimiter=\";\", skiprows=1, dtype=object)"
   ]
  },
  {
   "cell_type": "code",
   "execution_count": 29,
   "id": "3ff8bd7b",
   "metadata": {},
   "outputs": [
    {
     "data": {
      "text/plain": [
       "328000000"
      ]
     },
     "execution_count": 29,
     "metadata": {},
     "output_type": "execute_result"
    }
   ],
   "source": [
    "ndarray_normal.nbytes"
   ]
  },
  {
   "cell_type": "code",
   "execution_count": 33,
   "id": "5565c093",
   "metadata": {},
   "outputs": [
    {
     "data": {
      "text/html": [
       "<div>\n",
       "<style scoped>\n",
       "    .dataframe tbody tr th:only-of-type {\n",
       "        vertical-align: middle;\n",
       "    }\n",
       "\n",
       "    .dataframe tbody tr th {\n",
       "        vertical-align: top;\n",
       "    }\n",
       "\n",
       "    .dataframe thead th {\n",
       "        text-align: right;\n",
       "    }\n",
       "</style>\n",
       "<table border=\"1\" class=\"dataframe\">\n",
       "  <thead>\n",
       "    <tr style=\"text-align: right;\">\n",
       "      <th></th>\n",
       "      <th>Test-keys</th>\n",
       "    </tr>\n",
       "  </thead>\n",
       "  <tbody>\n",
       "    <tr>\n",
       "      <th>0</th>\n",
       "      <td>773bfe13dcdd0fbcf4968b1a3975d5d4261922f53dc97a...</td>\n",
       "    </tr>\n",
       "    <tr>\n",
       "      <th>1</th>\n",
       "      <td>c6f9d7b14505dbb5eb7c362685cd62c3c5f32c91abd0bd...</td>\n",
       "    </tr>\n",
       "    <tr>\n",
       "      <th>2</th>\n",
       "      <td>28fb5a8ff629d985828652d9dabd24ce265765941514a0...</td>\n",
       "    </tr>\n",
       "    <tr>\n",
       "      <th>3</th>\n",
       "      <td>9e0c6e6c7405c36e74b013dfe5fead457cb83c5b49fc74...</td>\n",
       "    </tr>\n",
       "    <tr>\n",
       "      <th>4</th>\n",
       "      <td>31d062d6dda1992a70e95102e01f6946c88df428525f7d...</td>\n",
       "    </tr>\n",
       "    <tr>\n",
       "      <th>...</th>\n",
       "      <td>...</td>\n",
       "    </tr>\n",
       "    <tr>\n",
       "      <th>999996</th>\n",
       "      <td>661c28bc4362e7bf20444c85b82516e4f121256af9a389...</td>\n",
       "    </tr>\n",
       "    <tr>\n",
       "      <th>999997</th>\n",
       "      <td>8d318f45745e4fa5280d4d808f7f2a8925dacd95ed06ca...</td>\n",
       "    </tr>\n",
       "    <tr>\n",
       "      <th>999998</th>\n",
       "      <td>4820362828b0b830f74b319762b0a5869770479b519b33...</td>\n",
       "    </tr>\n",
       "    <tr>\n",
       "      <th>999999</th>\n",
       "      <td>823ca7c7a0143152a59137997ad605499f1e7d1e040311...</td>\n",
       "    </tr>\n",
       "    <tr>\n",
       "      <th>1000000</th>\n",
       "      <td>44a014b8efb8674cedebe3330b171dd5d24231881b97b7...</td>\n",
       "    </tr>\n",
       "  </tbody>\n",
       "</table>\n",
       "<p>1000001 rows × 1 columns</p>\n",
       "</div>"
      ],
      "text/plain": [
       "                                                 Test-keys\n",
       "0        773bfe13dcdd0fbcf4968b1a3975d5d4261922f53dc97a...\n",
       "1        c6f9d7b14505dbb5eb7c362685cd62c3c5f32c91abd0bd...\n",
       "2        28fb5a8ff629d985828652d9dabd24ce265765941514a0...\n",
       "3        9e0c6e6c7405c36e74b013dfe5fead457cb83c5b49fc74...\n",
       "4        31d062d6dda1992a70e95102e01f6946c88df428525f7d...\n",
       "...                                                    ...\n",
       "999996   661c28bc4362e7bf20444c85b82516e4f121256af9a389...\n",
       "999997   8d318f45745e4fa5280d4d808f7f2a8925dacd95ed06ca...\n",
       "999998   4820362828b0b830f74b319762b0a5869770479b519b33...\n",
       "999999   823ca7c7a0143152a59137997ad605499f1e7d1e040311...\n",
       "1000000  44a014b8efb8674cedebe3330b171dd5d24231881b97b7...\n",
       "\n",
       "[1000001 rows x 1 columns]"
      ]
     },
     "execution_count": 33,
     "metadata": {},
     "output_type": "execute_result"
    }
   ],
   "source": [
    "df_test_correctness = pd.read_csv(\"data/test_data.csv\", header=None, names=[\"Test-keys\"])\n",
    "df_test_correctness"
   ]
  },
  {
   "cell_type": "code",
   "execution_count": 34,
   "id": "8630de9f",
   "metadata": {},
   "outputs": [],
   "source": [
    "array_true_correctness = np.loadtxt(\"data/test_data.csv\", dtype=object)"
   ]
  },
  {
   "cell_type": "code",
   "execution_count": 35,
   "id": "c890537a",
   "metadata": {},
   "outputs": [
    {
     "data": {
      "text/plain": [
       "(8000008, 121000265)"
      ]
     },
     "execution_count": 35,
     "metadata": {},
     "output_type": "execute_result"
    }
   ],
   "source": [
    "array_true_correctness.nbytes, sys.getsizeof(df_test_correctness)"
   ]
  },
  {
   "cell_type": "markdown",
   "id": "f095f49a",
   "metadata": {},
   "source": [
    "<div style=\"background-color: #50586C\"><br>\n",
    "   <h2 style=\"font-size: 16pt; color: #DCE2F0; padding-left: 40px;\">Test for correctness of data</h2><br><br>\n",
    "</div>"
   ]
  },
  {
   "cell_type": "code",
   "execution_count": 12,
   "id": "55e55005",
   "metadata": {},
   "outputs": [
    {
     "data": {
      "text/html": [
       "<div>\n",
       "<style scoped>\n",
       "    .dataframe tbody tr th:only-of-type {\n",
       "        vertical-align: middle;\n",
       "    }\n",
       "\n",
       "    .dataframe tbody tr th {\n",
       "        vertical-align: top;\n",
       "    }\n",
       "\n",
       "    .dataframe thead th {\n",
       "        text-align: right;\n",
       "    }\n",
       "</style>\n",
       "<table border=\"1\" class=\"dataframe\">\n",
       "  <thead>\n",
       "    <tr style=\"text-align: right;\">\n",
       "      <th></th>\n",
       "      <th>Test-keys</th>\n",
       "    </tr>\n",
       "  </thead>\n",
       "  <tbody>\n",
       "    <tr>\n",
       "      <th>0</th>\n",
       "      <td>773bfe13dcdd0fbcf4968b1a3975d5d4261922f53dc97a...</td>\n",
       "    </tr>\n",
       "    <tr>\n",
       "      <th>1</th>\n",
       "      <td>c6f9d7b14505dbb5eb7c362685cd62c3c5f32c91abd0bd...</td>\n",
       "    </tr>\n",
       "    <tr>\n",
       "      <th>2</th>\n",
       "      <td>28fb5a8ff629d985828652d9dabd24ce265765941514a0...</td>\n",
       "    </tr>\n",
       "    <tr>\n",
       "      <th>3</th>\n",
       "      <td>9e0c6e6c7405c36e74b013dfe5fead457cb83c5b49fc74...</td>\n",
       "    </tr>\n",
       "    <tr>\n",
       "      <th>4</th>\n",
       "      <td>31d062d6dda1992a70e95102e01f6946c88df428525f7d...</td>\n",
       "    </tr>\n",
       "    <tr>\n",
       "      <th>...</th>\n",
       "      <td>...</td>\n",
       "    </tr>\n",
       "    <tr>\n",
       "      <th>999996</th>\n",
       "      <td>661c28bc4362e7bf20444c85b82516e4f121256af9a389...</td>\n",
       "    </tr>\n",
       "    <tr>\n",
       "      <th>999997</th>\n",
       "      <td>8d318f45745e4fa5280d4d808f7f2a8925dacd95ed06ca...</td>\n",
       "    </tr>\n",
       "    <tr>\n",
       "      <th>999998</th>\n",
       "      <td>4820362828b0b830f74b319762b0a5869770479b519b33...</td>\n",
       "    </tr>\n",
       "    <tr>\n",
       "      <th>999999</th>\n",
       "      <td>823ca7c7a0143152a59137997ad605499f1e7d1e040311...</td>\n",
       "    </tr>\n",
       "    <tr>\n",
       "      <th>1000000</th>\n",
       "      <td>44a014b8efb8674cedebe3330b171dd5d24231881b97b7...</td>\n",
       "    </tr>\n",
       "  </tbody>\n",
       "</table>\n",
       "<p>1000001 rows × 1 columns</p>\n",
       "</div>"
      ],
      "text/plain": [
       "                                                 Test-keys\n",
       "0        773bfe13dcdd0fbcf4968b1a3975d5d4261922f53dc97a...\n",
       "1        c6f9d7b14505dbb5eb7c362685cd62c3c5f32c91abd0bd...\n",
       "2        28fb5a8ff629d985828652d9dabd24ce265765941514a0...\n",
       "3        9e0c6e6c7405c36e74b013dfe5fead457cb83c5b49fc74...\n",
       "4        31d062d6dda1992a70e95102e01f6946c88df428525f7d...\n",
       "...                                                    ...\n",
       "999996   661c28bc4362e7bf20444c85b82516e4f121256af9a389...\n",
       "999997   8d318f45745e4fa5280d4d808f7f2a8925dacd95ed06ca...\n",
       "999998   4820362828b0b830f74b319762b0a5869770479b519b33...\n",
       "999999   823ca7c7a0143152a59137997ad605499f1e7d1e040311...\n",
       "1000000  44a014b8efb8674cedebe3330b171dd5d24231881b97b7...\n",
       "\n",
       "[1000001 rows x 1 columns]"
      ]
     },
     "execution_count": 12,
     "metadata": {},
     "output_type": "execute_result"
    }
   ],
   "source": [
    "df_test_correctness = pd.read_csv(\"data/test_data.csv\", header=None, names=[\"Test-keys\"])\n",
    "df_test_correctness"
   ]
  },
  {
   "cell_type": "code",
   "execution_count": 20,
   "id": "0ff70af6",
   "metadata": {},
   "outputs": [],
   "source": [
    "array_true_correctness = array_true_correctness.astype(object)"
   ]
  },
  {
   "cell_type": "code",
   "execution_count": 13,
   "id": "553672c3",
   "metadata": {},
   "outputs": [],
   "source": [
    "array_true_correctness = np.loadtxt(\"data/test_data.csv\", dtype=object) #dtype=str"
   ]
  },
  {
   "cell_type": "code",
   "execution_count": 21,
   "id": "b6834cb1",
   "metadata": {},
   "outputs": [
    {
     "data": {
      "text/plain": [
       "(8000008, 121000265)"
      ]
     },
     "execution_count": 21,
     "metadata": {},
     "output_type": "execute_result"
    }
   ],
   "source": [
    "array_true_correctness.nbytes, sys.getsizeof(df_test_correctness)"
   ]
  },
  {
   "cell_type": "code",
   "execution_count": 14,
   "id": "207ac37e",
   "metadata": {},
   "outputs": [
    {
     "data": {
      "text/plain": [
       "(8000008, 121000265)"
      ]
     },
     "execution_count": 14,
     "metadata": {},
     "output_type": "execute_result"
    }
   ],
   "source": [
    "array_true_correctness.nbytes, sys.getsizeof(df_test_correctness)"
   ]
  },
  {
   "cell_type": "code",
   "execution_count": 18,
   "id": "4f3fb224",
   "metadata": {},
   "outputs": [
    {
     "data": {
      "text/plain": [
       "15.125017999982"
      ]
     },
     "execution_count": 18,
     "metadata": {},
     "output_type": "execute_result"
    }
   ],
   "source": [
    "121000265 / 8000008"
   ]
  },
  {
   "cell_type": "code",
   "execution_count": 19,
   "id": "03d4cc28",
   "metadata": {},
   "outputs": [
    {
     "data": {
      "text/plain": [
       "0.4726568124994375"
      ]
     },
     "execution_count": 19,
     "metadata": {},
     "output_type": "execute_result"
    }
   ],
   "source": [
    "121000265 / 256000256"
   ]
  },
  {
   "cell_type": "code",
   "execution_count": 15,
   "id": "07fe67bc",
   "metadata": {},
   "outputs": [
    {
     "data": {
      "text/plain": [
       "64"
      ]
     },
     "execution_count": 15,
     "metadata": {},
     "output_type": "execute_result"
    }
   ],
   "source": [
    "len(array_true_correctness[0])"
   ]
  },
  {
   "cell_type": "code",
   "execution_count": 22,
   "id": "1923ee41",
   "metadata": {},
   "outputs": [
    {
     "name": "stdout",
     "output_type": "stream",
     "text": [
      "True\n",
      "Time in seconds: 0.79\n"
     ]
    }
   ],
   "source": [
    "start = time.perf_counter()\n",
    "result = all(df_test_correctness.isin(array_true_correctness))\n",
    "end = time.perf_counter()\n",
    "print(result)\n",
    "print(\"Time in seconds:\", round(end - start, 2))"
   ]
  },
  {
   "cell_type": "code",
   "execution_count": null,
   "id": "20403d1c",
   "metadata": {},
   "outputs": [],
   "source": [
    "start = time.perf_counter()\n",
    "result = all(np.isin(array_true_correctness, array_true_correctness))\n",
    "end = time.perf_counter()\n",
    "print(result)\n",
    "print(\"Time in seconds:\", round(end - start, 2))"
   ]
  },
  {
   "cell_type": "markdown",
   "id": "bea8e5fc",
   "metadata": {},
   "source": [
    "<div style=\"background-color: #50586C\"><br>\n",
    "   <h2 style=\"font-size: 16pt; color: #DCE2F0; padding-left: 40px;\">Test for duplicate rows</h2><br><br>\n",
    "</div>"
   ]
  },
  {
   "cell_type": "code",
   "execution_count": 67,
   "id": "c0966a2a",
   "metadata": {},
   "outputs": [],
   "source": [
    "test_array = np.loadtxt('data/pandas_test.csv', delimiter=\";\", dtype=str)"
   ]
  },
  {
   "cell_type": "code",
   "execution_count": 69,
   "id": "e6fa72b7",
   "metadata": {},
   "outputs": [
    {
     "data": {
      "text/plain": [
       "1000000"
      ]
     },
     "execution_count": 69,
     "metadata": {},
     "output_type": "execute_result"
    }
   ],
   "source": [
    "len(test_array)"
   ]
  },
  {
   "cell_type": "code",
   "execution_count": 78,
   "id": "e7d494fa",
   "metadata": {},
   "outputs": [
    {
     "data": {
      "text/plain": [
       "112"
      ]
     },
     "execution_count": 78,
     "metadata": {},
     "output_type": "execute_result"
    }
   ],
   "source": [
    "sys.getsizeof(arr)"
   ]
  },
  {
   "cell_type": "code",
   "execution_count": 79,
   "id": "0bfd0d9f",
   "metadata": {},
   "outputs": [
    {
     "name": "stdout",
     "output_type": "stream",
     "text": [
      "1000000\n",
      "1000000\n"
     ]
    }
   ],
   "source": [
    "print(len(arr))\n",
    "print(len( set(arr) ))"
   ]
  },
  {
   "cell_type": "code",
   "execution_count": 80,
   "id": "1080c092",
   "metadata": {},
   "outputs": [],
   "source": [
    "arr2 = np.append(arr, arr[0])"
   ]
  },
  {
   "cell_type": "code",
   "execution_count": 81,
   "id": "bcae5f3d",
   "metadata": {},
   "outputs": [
    {
     "data": {
      "text/plain": [
       "'393DD5409332B4FBF0550B84F328D31F439AEDCCA6A40D0E4B4BF5CF9D96CE4A'"
      ]
     },
     "execution_count": 81,
     "metadata": {},
     "output_type": "execute_result"
    }
   ],
   "source": [
    "arr[0]"
   ]
  },
  {
   "cell_type": "code",
   "execution_count": 82,
   "id": "3219e06f",
   "metadata": {},
   "outputs": [
    {
     "name": "stdout",
     "output_type": "stream",
     "text": [
      "1000001\n",
      "1000000\n"
     ]
    }
   ],
   "source": [
    "print(len(arr2))\n",
    "print(len( set(arr2) ))"
   ]
  },
  {
   "cell_type": "code",
   "execution_count": 85,
   "id": "de634143",
   "metadata": {},
   "outputs": [],
   "source": [
    "unq, unq_idx, unq_cnt = np.unique(arr2, return_inverse=True, return_counts=True)"
   ]
  },
  {
   "cell_type": "code",
   "execution_count": 89,
   "id": "b1ba934e",
   "metadata": {},
   "outputs": [
    {
     "data": {
      "text/plain": [
       "1000000"
      ]
     },
     "execution_count": 89,
     "metadata": {},
     "output_type": "execute_result"
    }
   ],
   "source": [
    "len(unq_cnt)"
   ]
  },
  {
   "cell_type": "code",
   "execution_count": 84,
   "id": "63867649",
   "metadata": {},
   "outputs": [
    {
     "data": {
      "text/plain": [
       "1000000"
      ]
     },
     "execution_count": 84,
     "metadata": {},
     "output_type": "execute_result"
    }
   ],
   "source": [
    "len(np.unique(arr))"
   ]
  },
  {
   "cell_type": "markdown",
   "id": "38b59aa9",
   "metadata": {},
   "source": [
    "https://itecnote.com/tecnote/python-checking-for-and-indexing-non-unique-duplicate-values-in-a-numpy-array/"
   ]
  },
  {
   "cell_type": "markdown",
   "id": "3220fe36",
   "metadata": {},
   "source": [
    "With regular write: time: 9 minutes size: 6.9 GB"
   ]
  },
  {
   "cell_type": "code",
   "execution_count": null,
   "id": "47b73d60",
   "metadata": {},
   "outputs": [],
   "source": []
  },
  {
   "cell_type": "markdown",
   "id": "5d9be55a",
   "metadata": {},
   "source": [
    "<div style=\"background-color: #DCE2F0\"><br>\n",
    "   <h2 style=\"font-size: 26pt; color: #50586C; padding-left: 40px;\">4. Comparing Memory and Storage Use</h2>\n",
    "</div>\n",
    "\n",
    "\n",
    "<div style=\"background-color: #DCE2F0\"><br>\n",
    "    <span style=\"color: #50586C; padding-left: 40px\">A comparison of memory and storage use for CSV-files, Pandas Dataframes and NumPy ndarrays</span><br>\n",
    "    <br>\n",
    "</div>"
   ]
  },
  {
   "cell_type": "code",
   "execution_count": 28,
   "id": "d40ced4e",
   "metadata": {},
   "outputs": [],
   "source": [
    "def data_maker(number_of_rows=1000000, number_of_columns=82, out_file=None):\n",
    "    \n",
    "    url = \"https://raw.githubusercontent.com/sengkchu/dataquest-guided-projects-solutions/master/Guided%20Project_%20Predicting%20House%20Sale%20Prices/AmesHousing.tsv\"\n",
    "    df = pd.read_csv(url, sep=\"\\t\")\n",
    "    size_of_dataset = df.shape[0]\n",
    "    df = df.iloc[ : , : number_of_columns]\n",
    "    \n",
    "    complete_data  = int(number_of_rows / size_of_dataset)\n",
    "    remaining_rows = number_of_rows % size_of_dataset\n",
    "    \n",
    "    # Writing header\n",
    "    df.head(0).to_csv(out_file, index=False, sep=\";\")\n",
    "    \n",
    "    # Duplicate dataset\n",
    "    for i in range(complete_data):\n",
    "        df.to_csv(out_file, mode='a', index=False, header=False, sep=\";\")\n",
    "    \n",
    "    # Write remaining data\n",
    "    df.head(remaining_rows).to_csv(out_file, mode='a', index=False, header=False,  sep=\";\")"
   ]
  },
  {
   "cell_type": "code",
   "execution_count": 29,
   "id": "7cdce782",
   "metadata": {},
   "outputs": [],
   "source": [
    "def data_evaluator(input_file):\n",
    "    \n",
    "    file_stats = os.stat(input_file)\n",
    "    df = pd.read_csv(input_file, sep=\";\")\n",
    "    array = np.loadtxt(open(input_file, \"rb\"), delimiter=\";\", skiprows=1, dtype=object)\n",
    "    \n",
    "    file      = file_stats.st_size / 1000000\n",
    "    dataframe = sys.getsizeof(df)  / 1000000\n",
    "    ndarray   = array.nbytes       / 1000000\n",
    "    \n",
    "    return file, dataframe, ndarray"
   ]
  },
  {
   "cell_type": "markdown",
   "id": "46fdda82",
   "metadata": {},
   "source": [
    "<div style=\"background-color: #DCE2F0\"><br>\n",
    "   <h2 style=\"font-size: 26pt; color: #50586C; padding-left: 40px;\">4. Comparison between 20, 40, 80 columns and hashed keys</h2>\n",
    "</div>\n",
    "\n",
    "\n",
    "<div style=\"background-color: #DCE2F0\"><br>\n",
    "    <span style=\"color: #50586C; padding-left: 40px\">Some text here</span><br>\n",
    "    <br>\n",
    "</div>"
   ]
  },
  {
   "cell_type": "code",
   "execution_count": 50,
   "id": "63ce2d4f",
   "metadata": {},
   "outputs": [],
   "source": [
    "measurements = []"
   ]
  },
  {
   "cell_type": "code",
   "execution_count": 51,
   "id": "7df1b9a3",
   "metadata": {},
   "outputs": [
    {
     "data": {
      "text/plain": [
       "(97.716909, 825.818099, 160.0)"
      ]
     },
     "execution_count": 51,
     "metadata": {},
     "output_type": "execute_result"
    }
   ],
   "source": [
    "data_maker(1000000, 20, \"data/compare_20.csv\")\n",
    "file, dataframe, ndarray = data_evaluator(\"data/compare_20.csv\")\n",
    "for element in (file, dataframe, ndarray):\n",
    "    measurements.append(element)\n",
    "file, dataframe, ndarray"
   ]
  },
  {
   "cell_type": "code",
   "execution_count": 52,
   "id": "196887ed",
   "metadata": {},
   "outputs": [
    {
     "data": {
      "text/plain": [
       "(199.214487, 1670.926389, 320.0)"
      ]
     },
     "execution_count": 52,
     "metadata": {},
     "output_type": "execute_result"
    }
   ],
   "source": [
    "data_maker(1000000, 40, \"data/compare_40.csv\")\n",
    "file, dataframe, ndarray = data_evaluator(\"data/compare_40.csv\")\n",
    "for element in (file, dataframe, ndarray):\n",
    "    measurements.append(element)\n",
    "file, dataframe, ndarray"
   ]
  },
  {
   "cell_type": "code",
   "execution_count": 53,
   "id": "198a3408",
   "metadata": {},
   "outputs": [
    {
     "name": "stderr",
     "output_type": "stream",
     "text": [
      "C:\\Users\\ARFEV\\AppData\\Local\\Temp\\ipykernel_22604\\1604865628.py:4: DtypeWarning: Columns (73) have mixed types. Specify dtype option on import or set low_memory=False.\n",
      "  df = pd.read_csv(input_file, sep=\";\")\n"
     ]
    },
    {
     "data": {
      "text/plain": [
       "(325.132658, 2723.850257, 640.0)"
      ]
     },
     "execution_count": 53,
     "metadata": {},
     "output_type": "execute_result"
    }
   ],
   "source": [
    "data_maker(1000000, 80, \"data/compare_80.csv\")\n",
    "file, dataframe, ndarray = data_evaluator(\"data/compare_80.csv\")\n",
    "for element in (file, dataframe, ndarray):\n",
    "    measurements.append(element)\n",
    "file, dataframe, ndarray"
   ]
  },
  {
   "cell_type": "code",
   "execution_count": 54,
   "id": "69b07c00",
   "metadata": {},
   "outputs": [
    {
     "name": "stdout",
     "output_type": "stream",
     "text": [
      "Iteration 1    ... A total of 100000 rows written to data/compare_hash.csv\n",
      "Iteration 2    ... A total of 200000 rows written to data/compare_hash.csv\n",
      "Iteration 3    ... A total of 300000 rows written to data/compare_hash.csv\n",
      "Iteration 4    ... A total of 400000 rows written to data/compare_hash.csv\n",
      "Iteration 5    ... A total of 500000 rows written to data/compare_hash.csv\n",
      "Iteration 6    ... A total of 600000 rows written to data/compare_hash.csv\n",
      "Iteration 7    ... A total of 700000 rows written to data/compare_hash.csv\n",
      "Iteration 8    ... A total of 800000 rows written to data/compare_hash.csv\n",
      "Iteration 9    ... A total of 900000 rows written to data/compare_hash.csv\n",
      "Iteration 10   ... A total of 1000000 rows written to data/compare_hash.csv\n",
      "\n",
      "Time in seconds: 28.2\n"
     ]
    },
    {
     "data": {
      "text/plain": [
       "(66.0, 121.000023, 7.999992)"
      ]
     },
     "execution_count": 54,
     "metadata": {},
     "output_type": "execute_result"
    }
   ],
   "source": [
    "url = \"https://raw.githubusercontent.com/sengkchu/dataquest-guided-projects-solutions/master/Guided%20Project_%20Predicting%20House%20Sale%20Prices/AmesHousing.tsv\"\n",
    "keys = pd.read_csv(url, sep=\"\\t\", nrows=10).columns\n",
    "\n",
    "input_file      = 'data/compare_80.csv'\n",
    "output_file     = 'data/compare_hash.csv'\n",
    "columns_in_key  = keys[:80]\n",
    "limit_empty     =  100000\n",
    "limit_stop      = 1000000\n",
    "delimiter_input = ';'\n",
    "\n",
    "key_maker(input_file, output_file, limit_empty, limit_stop, delimiter_input)\n",
    "file, dataframe, ndarray = data_evaluator(\"data/compare_hash.csv\")\n",
    "for element in (file, dataframe, ndarray):\n",
    "    measurements.append(element)\n",
    "file, dataframe, ndarray"
   ]
  },
  {
   "cell_type": "code",
   "execution_count": 55,
   "id": "9e8e953b",
   "metadata": {},
   "outputs": [],
   "source": [
    "columns   = ['20 Columns', '20 Columns', '20 Columns', '40 Columns', '40 Columns', '40 Columns', '80 Columns', '80 Columns','80 Columns', '1 Column Hashed', '1 Column Hashed', '1 Column Hashed']\n",
    "data_type = ['CSV-file', 'Pandas Dataframe', 'NumPy ndarray', 'CSV-file', 'Pandas Dataframe', 'NumPy ndarray', 'CSV-file', 'Pandas Dataframe', 'NumPy ndarray', 'CSV-file', 'Pandas Dataframe', 'NumPy ndarray']\n",
    "#values    = [97.716909, 825.818099, 160.0, 199.214487, 1670.926389, 320.0, 325.132658, 2723.850257, 640.0, 66.0, 121.000023, 7.999992]"
   ]
  },
  {
   "cell_type": "code",
   "execution_count": 56,
   "id": "20d594ac",
   "metadata": {
    "scrolled": true
   },
   "outputs": [
    {
     "data": {
      "text/html": [
       "<div>\n",
       "<style scoped>\n",
       "    .dataframe tbody tr th:only-of-type {\n",
       "        vertical-align: middle;\n",
       "    }\n",
       "\n",
       "    .dataframe tbody tr th {\n",
       "        vertical-align: top;\n",
       "    }\n",
       "\n",
       "    .dataframe thead th {\n",
       "        text-align: right;\n",
       "    }\n",
       "</style>\n",
       "<table border=\"1\" class=\"dataframe\">\n",
       "  <thead>\n",
       "    <tr style=\"text-align: right;\">\n",
       "      <th></th>\n",
       "      <th>Columns</th>\n",
       "      <th>Data types</th>\n",
       "      <th>Memory/Storage in Megabytes</th>\n",
       "    </tr>\n",
       "  </thead>\n",
       "  <tbody>\n",
       "    <tr>\n",
       "      <th>0</th>\n",
       "      <td>20 Columns</td>\n",
       "      <td>CSV-file</td>\n",
       "      <td>98.0</td>\n",
       "    </tr>\n",
       "    <tr>\n",
       "      <th>1</th>\n",
       "      <td>20 Columns</td>\n",
       "      <td>Pandas Dataframe</td>\n",
       "      <td>826.0</td>\n",
       "    </tr>\n",
       "    <tr>\n",
       "      <th>2</th>\n",
       "      <td>20 Columns</td>\n",
       "      <td>NumPy ndarray</td>\n",
       "      <td>160.0</td>\n",
       "    </tr>\n",
       "    <tr>\n",
       "      <th>3</th>\n",
       "      <td>40 Columns</td>\n",
       "      <td>CSV-file</td>\n",
       "      <td>199.0</td>\n",
       "    </tr>\n",
       "    <tr>\n",
       "      <th>4</th>\n",
       "      <td>40 Columns</td>\n",
       "      <td>Pandas Dataframe</td>\n",
       "      <td>1671.0</td>\n",
       "    </tr>\n",
       "    <tr>\n",
       "      <th>5</th>\n",
       "      <td>40 Columns</td>\n",
       "      <td>NumPy ndarray</td>\n",
       "      <td>320.0</td>\n",
       "    </tr>\n",
       "    <tr>\n",
       "      <th>6</th>\n",
       "      <td>80 Columns</td>\n",
       "      <td>CSV-file</td>\n",
       "      <td>325.0</td>\n",
       "    </tr>\n",
       "    <tr>\n",
       "      <th>7</th>\n",
       "      <td>80 Columns</td>\n",
       "      <td>Pandas Dataframe</td>\n",
       "      <td>2724.0</td>\n",
       "    </tr>\n",
       "    <tr>\n",
       "      <th>8</th>\n",
       "      <td>80 Columns</td>\n",
       "      <td>NumPy ndarray</td>\n",
       "      <td>640.0</td>\n",
       "    </tr>\n",
       "    <tr>\n",
       "      <th>9</th>\n",
       "      <td>1 Column Hashed</td>\n",
       "      <td>CSV-file</td>\n",
       "      <td>66.0</td>\n",
       "    </tr>\n",
       "    <tr>\n",
       "      <th>10</th>\n",
       "      <td>1 Column Hashed</td>\n",
       "      <td>Pandas Dataframe</td>\n",
       "      <td>121.0</td>\n",
       "    </tr>\n",
       "    <tr>\n",
       "      <th>11</th>\n",
       "      <td>1 Column Hashed</td>\n",
       "      <td>NumPy ndarray</td>\n",
       "      <td>8.0</td>\n",
       "    </tr>\n",
       "  </tbody>\n",
       "</table>\n",
       "</div>"
      ],
      "text/plain": [
       "            Columns        Data types  Memory/Storage in Megabytes\n",
       "0        20 Columns          CSV-file                         98.0\n",
       "1        20 Columns  Pandas Dataframe                        826.0\n",
       "2        20 Columns     NumPy ndarray                        160.0\n",
       "3        40 Columns          CSV-file                        199.0\n",
       "4        40 Columns  Pandas Dataframe                       1671.0\n",
       "5        40 Columns     NumPy ndarray                        320.0\n",
       "6        80 Columns          CSV-file                        325.0\n",
       "7        80 Columns  Pandas Dataframe                       2724.0\n",
       "8        80 Columns     NumPy ndarray                        640.0\n",
       "9   1 Column Hashed          CSV-file                         66.0\n",
       "10  1 Column Hashed  Pandas Dataframe                        121.0\n",
       "11  1 Column Hashed     NumPy ndarray                          8.0"
      ]
     },
     "execution_count": 56,
     "metadata": {},
     "output_type": "execute_result"
    }
   ],
   "source": [
    "df = pd.DataFrame(list(zip(columns, data_type, measurements)), columns=['Columns', 'Data types', 'Memory/Storage in Megabytes'])\n",
    "df = df.round()\n",
    "df"
   ]
  },
  {
   "cell_type": "code",
   "execution_count": 61,
   "id": "2d36e615",
   "metadata": {
    "scrolled": false
   },
   "outputs": [
    {
     "data": {
      "image/png": "[encoded data removed]",
      "text/plain": [
       "<Figure size 1296x720 with 1 Axes>"
      ]
     },
     "metadata": {},
     "output_type": "display_data"
    }
   ],
   "source": [
    "sns.set(font_scale=1.5)\n",
    "sns.set_style(\"white\")\n",
    "\n",
    "fig, ax = plt.subplots(figsize=(18,10))\n",
    "ax = sns.barplot(x = 'Columns',\n",
    "            y = 'Memory/Storage in Megabytes',\n",
    "            hue = 'Data types',\n",
    "            data = df)\n",
    "\n",
    "ax.bar_label(ax.containers[0])\n",
    "ax.bar_label(ax.containers[1])\n",
    "ax.bar_label(ax.containers[2])\n",
    "\n",
    "# Show the plot\n",
    "plt.show()"
   ]
  },
  {
   "cell_type": "markdown",
   "id": "2229c834",
   "metadata": {},
   "source": [
    "<div style=\"background-color: #DCE2F0\"><br>\n",
    "   <h2 style=\"font-size: 26pt; color: #50586C; padding-left: 40px;\">5. An Example of </h2>\n",
    "</div>\n",
    "\n",
    "\n",
    "<div style=\"background-color: #DCE2F0\"><br>\n",
    "    <span style=\"color: #50586C; padding-left: 40px\">Some text here</span><br>\n",
    "    <br>\n",
    "</div>"
   ]
  },
  {
   "cell_type": "code",
   "execution_count": 165,
   "id": "e49a570e",
   "metadata": {},
   "outputs": [],
   "source": [
    "data = {\n",
    "    'Customer name':  ['Bill', 'Paul', 'Lucy', 'Paul', 'Bill'],\n",
    "    'Item purchased': ['Bike - Mountain bike', 'Skis - All-Mountain', 'Bike - Road bike', 'Swimwear', 'Bike - Mountain bike'],\n",
    "    'Order date':     ['03.03.2022', '04.03.2022', '05.03.2022', '04.03.2022', '07.03.2022'],\n",
    "    'Price':          [200, 300, 700, 50, 350],\n",
    "    'Delivered':      [True, True, True, False, True],\n",
    "       }"
   ]
  },
  {
   "cell_type": "code",
   "execution_count": 2,
   "id": "de98cdc5",
   "metadata": {},
   "outputs": [],
   "source": [
    "data = {\n",
    "    'Customer name':  ['Bill', 'Paul', 'Lucy', 'Paul', 'Bill'],\n",
    "    'Item purchased': ['Bike', 'Skis', 'Bike', 'Swimwear', 'Bike'],\n",
    "    'Order date':     ['03.03.2022', '04.03.2022', '05.03.2022', '04.03.2022', '07.03.2022'],\n",
    "    'Price':          [200, 300, 700, 50, 350],\n",
    "    'Delivered':      [True, True, True, False, True],\n",
    "       }"
   ]
  },
  {
   "cell_type": "code",
   "execution_count": 3,
   "id": "cfb67c2b",
   "metadata": {},
   "outputs": [],
   "source": [
    "df = pd.DataFrame.from_dict(data)"
   ]
  },
  {
   "cell_type": "code",
   "execution_count": 4,
   "id": "a1cd819f",
   "metadata": {},
   "outputs": [],
   "source": [
    "column_list = df.columns\n",
    "\n",
    "def key_maker(row):\n",
    "    key = str()\n",
    "    for column in column_list:\n",
    "        key += str(row[column])\n",
    "    return key\n",
    "\n",
    "def hash_maker(input_string):\n",
    "    return hashlib.sha256(input_string.encode('utf-8')).hexdigest()\n",
    "\n",
    "df['Composite key'] = df.apply(key_maker, axis=1)\n",
    "df['Hashed key'] = df['Composite key'].map(hash_maker)"
   ]
  },
  {
   "cell_type": "code",
   "execution_count": 5,
   "id": "6e973a6c",
   "metadata": {},
   "outputs": [
    {
     "data": {
      "text/html": [
       "<div>\n",
       "<style scoped>\n",
       "    .dataframe tbody tr th:only-of-type {\n",
       "        vertical-align: middle;\n",
       "    }\n",
       "\n",
       "    .dataframe tbody tr th {\n",
       "        vertical-align: top;\n",
       "    }\n",
       "\n",
       "    .dataframe thead th {\n",
       "        text-align: right;\n",
       "    }\n",
       "</style>\n",
       "<table border=\"1\" class=\"dataframe\">\n",
       "  <thead>\n",
       "    <tr style=\"text-align: right;\">\n",
       "      <th></th>\n",
       "      <th>Customer name</th>\n",
       "      <th>Item purchased</th>\n",
       "      <th>Order date</th>\n",
       "      <th>Price</th>\n",
       "      <th>Delivered</th>\n",
       "      <th>Composite key</th>\n",
       "      <th>Hashed key</th>\n",
       "    </tr>\n",
       "  </thead>\n",
       "  <tbody>\n",
       "    <tr>\n",
       "      <th>0</th>\n",
       "      <td>Bill</td>\n",
       "      <td>Bike</td>\n",
       "      <td>03.03.2022</td>\n",
       "      <td>200</td>\n",
       "      <td>True</td>\n",
       "      <td>BillBike03.03.2022200True</td>\n",
       "      <td>e923ad0e27e332dfa4667c613a7ab8f8cd6701645331a2...</td>\n",
       "    </tr>\n",
       "    <tr>\n",
       "      <th>1</th>\n",
       "      <td>Paul</td>\n",
       "      <td>Skis</td>\n",
       "      <td>04.03.2022</td>\n",
       "      <td>300</td>\n",
       "      <td>True</td>\n",
       "      <td>PaulSkis04.03.2022300True</td>\n",
       "      <td>d263340236d25235bbf6f162db76880ebc3a3a517b289f...</td>\n",
       "    </tr>\n",
       "    <tr>\n",
       "      <th>2</th>\n",
       "      <td>Lucy</td>\n",
       "      <td>Bike</td>\n",
       "      <td>05.03.2022</td>\n",
       "      <td>700</td>\n",
       "      <td>True</td>\n",
       "      <td>LucyBike05.03.2022700True</td>\n",
       "      <td>29947ba1e503e747ede777d5177a155f528c50ba5b4aac...</td>\n",
       "    </tr>\n",
       "    <tr>\n",
       "      <th>3</th>\n",
       "      <td>Paul</td>\n",
       "      <td>Swimwear</td>\n",
       "      <td>04.03.2022</td>\n",
       "      <td>50</td>\n",
       "      <td>False</td>\n",
       "      <td>PaulSwimwear04.03.202250False</td>\n",
       "      <td>2a8c964a4e2d83c6d628e9950c59eedb5945e444ddc003...</td>\n",
       "    </tr>\n",
       "    <tr>\n",
       "      <th>4</th>\n",
       "      <td>Bill</td>\n",
       "      <td>Bike</td>\n",
       "      <td>07.03.2022</td>\n",
       "      <td>350</td>\n",
       "      <td>True</td>\n",
       "      <td>BillBike07.03.2022350True</td>\n",
       "      <td>7199a3aeb60a5837e783594c301dab5eb8f9d5461fec17...</td>\n",
       "    </tr>\n",
       "  </tbody>\n",
       "</table>\n",
       "</div>"
      ],
      "text/plain": [
       "  Customer name Item purchased  Order date  Price  Delivered  \\\n",
       "0          Bill           Bike  03.03.2022    200       True   \n",
       "1          Paul           Skis  04.03.2022    300       True   \n",
       "2          Lucy           Bike  05.03.2022    700       True   \n",
       "3          Paul       Swimwear  04.03.2022     50      False   \n",
       "4          Bill           Bike  07.03.2022    350       True   \n",
       "\n",
       "                   Composite key  \\\n",
       "0      BillBike03.03.2022200True   \n",
       "1      PaulSkis04.03.2022300True   \n",
       "2      LucyBike05.03.2022700True   \n",
       "3  PaulSwimwear04.03.202250False   \n",
       "4      BillBike07.03.2022350True   \n",
       "\n",
       "                                          Hashed key  \n",
       "0  e923ad0e27e332dfa4667c613a7ab8f8cd6701645331a2...  \n",
       "1  d263340236d25235bbf6f162db76880ebc3a3a517b289f...  \n",
       "2  29947ba1e503e747ede777d5177a155f528c50ba5b4aac...  \n",
       "3  2a8c964a4e2d83c6d628e9950c59eedb5945e444ddc003...  \n",
       "4  7199a3aeb60a5837e783594c301dab5eb8f9d5461fec17...  "
      ]
     },
     "execution_count": 5,
     "metadata": {},
     "output_type": "execute_result"
    }
   ],
   "source": [
    "df"
   ]
  },
  {
   "cell_type": "code",
   "execution_count": null,
   "id": "612df51c",
   "metadata": {},
   "outputs": [],
   "source": []
  },
  {
   "cell_type": "code",
   "execution_count": null,
   "id": "aa3def0c",
   "metadata": {},
   "outputs": [],
   "source": []
  },
  {
   "cell_type": "code",
   "execution_count": null,
   "id": "bc0b3e00",
   "metadata": {},
   "outputs": [],
   "source": []
  },
  {
   "cell_type": "code",
   "execution_count": 87,
   "id": "fde1c569",
   "metadata": {},
   "outputs": [
    {
     "name": "stderr",
     "output_type": "stream",
     "text": [
      "C:\\Users\\ARFEV\\Anaconda3\\lib\\site-packages\\scipy\\__init__.py:146: UserWarning: A NumPy version >=1.16.5 and <1.23.0 is required for this version of SciPy (detected version 1.24.2\n",
      "  warnings.warn(f\"A NumPy version >={np_minversion} and <{np_maxversion}\"\n"
     ]
    },
    {
     "data": {
      "image/png": "[encoded data removed]",
      "text/plain": [
       "<Figure size 432x288 with 1 Axes>"
      ]
     },
     "metadata": {
      "needs_background": "light"
     },
     "output_type": "display_data"
    }
   ],
   "source": [
    "\n",
    "# importing the required library\n",
    "import seaborn as sns\n",
    "import matplotlib.pyplot as plt\n",
    " \n",
    "# read a titanic.csv file\n",
    "# from seaborn library\n",
    "df = sns.load_dataset('titanic')\n",
    " \n",
    " \n",
    "# who v/s fare barplot\n",
    "sns.barplot(x = 'who',\n",
    "            y = 'fare',\n",
    "            hue = 'class',\n",
    "            data = df)\n",
    " \n",
    "# Show the plot\n",
    "plt.show()"
   ]
  },
  {
   "cell_type": "code",
   "execution_count": null,
   "id": "30e8071f",
   "metadata": {},
   "outputs": [],
   "source": []
  },
  {
   "cell_type": "code",
   "execution_count": 24,
   "id": "c0178f8c",
   "metadata": {},
   "outputs": [
    {
     "name": "stderr",
     "output_type": "stream",
     "text": [
      "C:\\Users\\ARFEV\\AppData\\Local\\Temp\\ipykernel_10308\\2646446910.py:2: DtypeWarning: Columns (7,15,37) have mixed types. Specify dtype option on import or set low_memory=False.\n",
      "  df_normal = pd.read_csv('data/VGO_EUV_Tema_2022.csv', nrows=1000000, sep=\";\", encoding='cp1252')\n"
     ]
    }
   ],
   "source": [
    "# Importing the first 10-rows into a Pandas dataframe, to look at the data\n",
    "df_normal = pd.read_csv('data/VGO_EUV_Tema_2022.csv', nrows=1000000, sep=\";\", encoding='cp1252')\n",
    "df_normal.to_csv(\"data/normal.csv\", index=False, sep=\";\")"
   ]
  },
  {
   "cell_type": "code",
   "execution_count": 25,
   "id": "d72bd4f2",
   "metadata": {},
   "outputs": [
    {
     "data": {
      "text/plain": [
       "2059554625"
      ]
     },
     "execution_count": 25,
     "metadata": {},
     "output_type": "execute_result"
    }
   ],
   "source": [
    "sys.getsizeof(df_normal)"
   ]
  },
  {
   "cell_type": "code",
   "execution_count": 28,
   "id": "c731c8e5",
   "metadata": {},
   "outputs": [],
   "source": [
    "ndarray_normal = np.loadtxt(open(\"data/normal.csv\", \"rb\"), delimiter=\";\", skiprows=1, dtype=object)"
   ]
  },
  {
   "cell_type": "code",
   "execution_count": 29,
   "id": "66571e8e",
   "metadata": {},
   "outputs": [
    {
     "data": {
      "text/plain": [
       "328000000"
      ]
     },
     "execution_count": 29,
     "metadata": {},
     "output_type": "execute_result"
    }
   ],
   "source": [
    "ndarray_normal.nbytes"
   ]
  },
  {
   "cell_type": "code",
   "execution_count": 33,
   "id": "bc764950",
   "metadata": {},
   "outputs": [
    {
     "data": {
      "text/html": [
       "<div>\n",
       "<style scoped>\n",
       "    .dataframe tbody tr th:only-of-type {\n",
       "        vertical-align: middle;\n",
       "    }\n",
       "\n",
       "    .dataframe tbody tr th {\n",
       "        vertical-align: top;\n",
       "    }\n",
       "\n",
       "    .dataframe thead th {\n",
       "        text-align: right;\n",
       "    }\n",
       "</style>\n",
       "<table border=\"1\" class=\"dataframe\">\n",
       "  <thead>\n",
       "    <tr style=\"text-align: right;\">\n",
       "      <th></th>\n",
       "      <th>Test-keys</th>\n",
       "    </tr>\n",
       "  </thead>\n",
       "  <tbody>\n",
       "    <tr>\n",
       "      <th>0</th>\n",
       "      <td>773bfe13dcdd0fbcf4968b1a3975d5d4261922f53dc97a...</td>\n",
       "    </tr>\n",
       "    <tr>\n",
       "      <th>1</th>\n",
       "      <td>c6f9d7b14505dbb5eb7c362685cd62c3c5f32c91abd0bd...</td>\n",
       "    </tr>\n",
       "    <tr>\n",
       "      <th>2</th>\n",
       "      <td>28fb5a8ff629d985828652d9dabd24ce265765941514a0...</td>\n",
       "    </tr>\n",
       "    <tr>\n",
       "      <th>3</th>\n",
       "      <td>9e0c6e6c7405c36e74b013dfe5fead457cb83c5b49fc74...</td>\n",
       "    </tr>\n",
       "    <tr>\n",
       "      <th>4</th>\n",
       "      <td>31d062d6dda1992a70e95102e01f6946c88df428525f7d...</td>\n",
       "    </tr>\n",
       "    <tr>\n",
       "      <th>...</th>\n",
       "      <td>...</td>\n",
       "    </tr>\n",
       "    <tr>\n",
       "      <th>999996</th>\n",
       "      <td>661c28bc4362e7bf20444c85b82516e4f121256af9a389...</td>\n",
       "    </tr>\n",
       "    <tr>\n",
       "      <th>999997</th>\n",
       "      <td>8d318f45745e4fa5280d4d808f7f2a8925dacd95ed06ca...</td>\n",
       "    </tr>\n",
       "    <tr>\n",
       "      <th>999998</th>\n",
       "      <td>4820362828b0b830f74b319762b0a5869770479b519b33...</td>\n",
       "    </tr>\n",
       "    <tr>\n",
       "      <th>999999</th>\n",
       "      <td>823ca7c7a0143152a59137997ad605499f1e7d1e040311...</td>\n",
       "    </tr>\n",
       "    <tr>\n",
       "      <th>1000000</th>\n",
       "      <td>44a014b8efb8674cedebe3330b171dd5d24231881b97b7...</td>\n",
       "    </tr>\n",
       "  </tbody>\n",
       "</table>\n",
       "<p>1000001 rows × 1 columns</p>\n",
       "</div>"
      ],
      "text/plain": [
       "                                                 Test-keys\n",
       "0        773bfe13dcdd0fbcf4968b1a3975d5d4261922f53dc97a...\n",
       "1        c6f9d7b14505dbb5eb7c362685cd62c3c5f32c91abd0bd...\n",
       "2        28fb5a8ff629d985828652d9dabd24ce265765941514a0...\n",
       "3        9e0c6e6c7405c36e74b013dfe5fead457cb83c5b49fc74...\n",
       "4        31d062d6dda1992a70e95102e01f6946c88df428525f7d...\n",
       "...                                                    ...\n",
       "999996   661c28bc4362e7bf20444c85b82516e4f121256af9a389...\n",
       "999997   8d318f45745e4fa5280d4d808f7f2a8925dacd95ed06ca...\n",
       "999998   4820362828b0b830f74b319762b0a5869770479b519b33...\n",
       "999999   823ca7c7a0143152a59137997ad605499f1e7d1e040311...\n",
       "1000000  44a014b8efb8674cedebe3330b171dd5d24231881b97b7...\n",
       "\n",
       "[1000001 rows x 1 columns]"
      ]
     },
     "execution_count": 33,
     "metadata": {},
     "output_type": "execute_result"
    }
   ],
   "source": [
    "df_test_correctness = pd.read_csv(\"data/test_data.csv\", header=None, names=[\"Test-keys\"])\n",
    "df_test_correctness"
   ]
  },
  {
   "cell_type": "code",
   "execution_count": 34,
   "id": "2979185a",
   "metadata": {},
   "outputs": [],
   "source": [
    "array_true_correctness = np.loadtxt(\"data/test_data.csv\", dtype=object)"
   ]
  },
  {
   "cell_type": "code",
   "execution_count": 35,
   "id": "30dbd158",
   "metadata": {},
   "outputs": [
    {
     "data": {
      "text/plain": [
       "(8000008, 121000265)"
      ]
     },
     "execution_count": 35,
     "metadata": {},
     "output_type": "execute_result"
    }
   ],
   "source": [
    "array_true_correctness.nbytes, sys.getsizeof(df_test_correctness)"
   ]
  },
  {
   "cell_type": "code",
   "execution_count": null,
   "id": "af95d686",
   "metadata": {},
   "outputs": [],
   "source": []
  },
  {
   "cell_type": "code",
   "execution_count": null,
   "id": "e0388b07",
   "metadata": {},
   "outputs": [],
   "source": []
  },
  {
   "cell_type": "code",
   "execution_count": null,
   "id": "a9a1ac19",
   "metadata": {},
   "outputs": [],
   "source": []
  },
  {
   "cell_type": "code",
   "execution_count": 47,
   "id": "bdd4fbc9",
   "metadata": {},
   "outputs": [
    {
     "data": {
      "text/plain": [
       "121000265"
      ]
     },
     "execution_count": 47,
     "metadata": {},
     "output_type": "execute_result"
    }
   ],
   "source": [
    "sys.getsizeof(df_test_data)"
   ]
  },
  {
   "cell_type": "code",
   "execution_count": 23,
   "id": "dfb68cbc",
   "metadata": {},
   "outputs": [
    {
     "data": {
      "text/plain": [
       "['1EUTema_7Vurdering for læring2EUSpoersmaal_Q7208Har læreren snakket om hva som kreves for å oppnå de ulike karakterene i halvårsvurderingen i fag?11Ikke i noen fag2022-233IHele landet50Trøndelag - Trööndelage974560747Verdal videregående skole1EUGruppe_13419191BAA0AlleAlle utdanningsprogramAlleAlle utdanningsprogram11Videregående trinn 11GGutt0-10Alle eierformer****139723672759548']"
      ]
     },
     "execution_count": 23,
     "metadata": {},
     "output_type": "execute_result"
    }
   ],
   "source": [
    "key_list"
   ]
  },
  {
   "cell_type": "code",
   "execution_count": 16,
   "id": "690d60dd",
   "metadata": {},
   "outputs": [
    {
     "data": {
      "text/plain": [
       "10000001"
      ]
     },
     "execution_count": 16,
     "metadata": {},
     "output_type": "execute_result"
    }
   ],
   "source": [
    "len(key_list)"
   ]
  },
  {
   "cell_type": "code",
   "execution_count": 17,
   "id": "97224801",
   "metadata": {},
   "outputs": [
    {
     "data": {
      "text/plain": [
       "89095160"
      ]
     },
     "execution_count": 17,
     "metadata": {},
     "output_type": "execute_result"
    }
   ],
   "source": [
    "sys.getsizeof(key_list)"
   ]
  },
  {
   "cell_type": "code",
   "execution_count": 6,
   "id": "5850af6c",
   "metadata": {},
   "outputs": [],
   "source": [
    "# Turn all columns into strings\n",
    "dtype_dict = {i: str for i in df.columns}\n",
    "#dtype_dict"
   ]
  },
  {
   "cell_type": "code",
   "execution_count": 11,
   "id": "7c67ac00",
   "metadata": {},
   "outputs": [],
   "source": [
    "column_list = df.columns\n",
    "\n",
    "def key_maker(row):\n",
    "    key = str()\n",
    "    for column in column_list:\n",
    "        key += str(row[column])\n",
    "    return key"
   ]
  },
  {
   "cell_type": "code",
   "execution_count": 12,
   "id": "e307978c",
   "metadata": {},
   "outputs": [],
   "source": [
    "chunks = pd.read_csv('data/VGO_EUV_Tema_2022.csv', sep=\";\", encoding='cp1252', chunksize=1000000, dtype=dtype_dict)"
   ]
  },
  {
   "cell_type": "code",
   "execution_count": null,
   "id": "97f75e21",
   "metadata": {},
   "outputs": [
    {
     "name": "stdout",
     "output_type": "stream",
     "text": [
      "(1000000, 41)\n",
      "(1000000, 41)\n",
      "(1000000, 41)\n",
      "(1000000, 41)\n",
      "(1000000, 41)\n",
      "(1000000, 41)\n",
      "(1000000, 41)\n",
      "(1000000, 41)\n",
      "(1000000, 41)\n",
      "(1000000, 41)\n",
      "(1000000, 41)\n",
      "(1000000, 41)\n",
      "(1000000, 41)\n",
      "(1000000, 41)\n",
      "(1000000, 41)\n",
      "(1000000, 41)\n",
      "(1000000, 41)\n",
      "(1000000, 41)\n",
      "(1000000, 41)\n",
      "(1000000, 41)\n",
      "(1000000, 41)\n",
      "(1000000, 41)\n",
      "(1000000, 41)\n",
      "(1000000, 41)\n"
     ]
    }
   ],
   "source": [
    "for i in chunks:\n",
    "    print(i.shape)"
   ]
  },
  {
   "cell_type": "code",
   "execution_count": null,
   "id": "d03685c4",
   "metadata": {},
   "outputs": [
    {
     "name": "stdout",
     "output_type": "stream",
     "text": [
      "0\n",
      "168.9231761\n",
      "1\n",
      "165.62659589999998\n",
      "2\n"
     ]
    }
   ],
   "source": [
    "for i, chunk in enumerate(chunks):\n",
    "    print(i)\n",
    "\n",
    "    start = time.perf_counter()\n",
    "    df = chunk\n",
    "    df['key'] = df.apply(key_maker, axis=1)\n",
    "    df['key'].to_csv(\"data/new_csv.csv\", sep=\";\")\n",
    "    \n",
    "    end = time.perf_counter()\n",
    "    print(end - start)\n",
    "\n",
    "    if i > 3: break"
   ]
  },
  {
   "cell_type": "code",
   "execution_count": null,
   "id": "a19ba595",
   "metadata": {},
   "outputs": [],
   "source": [
    "# Get encoding and number of lines of CSV-file\n",
    "with open('data/new_csv.csv') as file:\n",
    "    encoding = file.encoding\n",
    "    print(f\"The encoding of the file is: {encoding}\")\n",
    "    for number_of_lines, line in enumerate(file):\n",
    "        ...\n",
    "    number_of_lines += 1 \n",
    "    print(f\"The number of lines in the file is: {number_of_lines:,}\")"
   ]
  },
  {
   "cell_type": "code",
   "execution_count": null,
   "id": "b019f364",
   "metadata": {},
   "outputs": [],
   "source": []
  },
  {
   "cell_type": "code",
   "execution_count": null,
   "id": "b9e54302",
   "metadata": {},
   "outputs": [],
   "source": []
  },
  {
   "cell_type": "code",
   "execution_count": 38,
   "id": "4494c034",
   "metadata": {},
   "outputs": [
    {
     "name": "stderr",
     "output_type": "stream",
     "text": [
      "C:\\Users\\ARFEV\\AppData\\Local\\Temp\\ipykernel_11352\\3279969207.py:1: DtypeWarning: Columns (7,15,37) have mixed types. Specify dtype option on import or set low_memory=False.\n",
      "  df = pd.read_csv('data/VGO-EUV-Tema-2022.zip', nrows=1000000, sep=\";\", encoding='cp1252', compression='zip')\n"
     ]
    },
    {
     "data": {
      "text/html": [
       "<div>\n",
       "<style scoped>\n",
       "    .dataframe tbody tr th:only-of-type {\n",
       "        vertical-align: middle;\n",
       "    }\n",
       "\n",
       "    .dataframe tbody tr th {\n",
       "        vertical-align: top;\n",
       "    }\n",
       "\n",
       "    .dataframe thead th {\n",
       "        text-align: right;\n",
       "    }\n",
       "</style>\n",
       "<table border=\"1\" class=\"dataframe\">\n",
       "  <thead>\n",
       "    <tr style=\"text-align: right;\">\n",
       "      <th></th>\n",
       "      <th>TemaNivaa</th>\n",
       "      <th>Temakode</th>\n",
       "      <th>Temanavn</th>\n",
       "      <th>SpoersmaalNivaa</th>\n",
       "      <th>Spoersmaalkode</th>\n",
       "      <th>Spoersmaalnavn</th>\n",
       "      <th>SvaralternativNivaa</th>\n",
       "      <th>SvaralternativKode</th>\n",
       "      <th>SvaralternativNavn</th>\n",
       "      <th>Skoleaarnavn</th>\n",
       "      <th>...</th>\n",
       "      <th>EierformNivaa</th>\n",
       "      <th>Eierformkode</th>\n",
       "      <th>EierformNavn</th>\n",
       "      <th>Score</th>\n",
       "      <th>Standardavvik</th>\n",
       "      <th>AndelBesvart</th>\n",
       "      <th>AntallBesvart</th>\n",
       "      <th>Sidenummer</th>\n",
       "      <th>RaderSide</th>\n",
       "      <th>RaderTotalt</th>\n",
       "    </tr>\n",
       "  </thead>\n",
       "  <tbody>\n",
       "    <tr>\n",
       "      <th>0</th>\n",
       "      <td>1</td>\n",
       "      <td>EUTema_36</td>\n",
       "      <td>T27 - Arbeidsmiljø</td>\n",
       "      <td>2</td>\n",
       "      <td>EUSpoersmaal_Q7132</td>\n",
       "      <td>I hvilken grad er du enig i følgende påstander...</td>\n",
       "      <td>0</td>\n",
       "      <td>Alle</td>\n",
       "      <td>Alle svar</td>\n",
       "      <td>2022-23</td>\n",
       "      <td>...</td>\n",
       "      <td>1</td>\n",
       "      <td>3</td>\n",
       "      <td>Offentlig skole</td>\n",
       "      <td>*</td>\n",
       "      <td>*</td>\n",
       "      <td>*</td>\n",
       "      <td>*</td>\n",
       "      <td>1</td>\n",
       "      <td>7236</td>\n",
       "      <td>72759548</td>\n",
       "    </tr>\n",
       "    <tr>\n",
       "      <th>1</th>\n",
       "      <td>1</td>\n",
       "      <td>EUTema_36</td>\n",
       "      <td>T27 - Arbeidsmiljø</td>\n",
       "      <td>2</td>\n",
       "      <td>EUSpoersmaal_Q7132</td>\n",
       "      <td>I hvilken grad er du enig i følgende påstander...</td>\n",
       "      <td>0</td>\n",
       "      <td>Alle</td>\n",
       "      <td>Alle svar</td>\n",
       "      <td>2022-23</td>\n",
       "      <td>...</td>\n",
       "      <td>0</td>\n",
       "      <td>-10</td>\n",
       "      <td>Alle eierformer</td>\n",
       "      <td>*</td>\n",
       "      <td>*</td>\n",
       "      <td>*</td>\n",
       "      <td>*</td>\n",
       "      <td>1</td>\n",
       "      <td>7236</td>\n",
       "      <td>72759548</td>\n",
       "    </tr>\n",
       "    <tr>\n",
       "      <th>2</th>\n",
       "      <td>1</td>\n",
       "      <td>EUTema_36</td>\n",
       "      <td>T27 - Arbeidsmiljø</td>\n",
       "      <td>2</td>\n",
       "      <td>EUSpoersmaal_Q7132</td>\n",
       "      <td>I hvilken grad er du enig i følgende påstander...</td>\n",
       "      <td>0</td>\n",
       "      <td>Alle</td>\n",
       "      <td>Alle svar</td>\n",
       "      <td>2022-23</td>\n",
       "      <td>...</td>\n",
       "      <td>1</td>\n",
       "      <td>3</td>\n",
       "      <td>Offentlig skole</td>\n",
       "      <td>*</td>\n",
       "      <td>*</td>\n",
       "      <td>*</td>\n",
       "      <td>*</td>\n",
       "      <td>1</td>\n",
       "      <td>7236</td>\n",
       "      <td>72759548</td>\n",
       "    </tr>\n",
       "    <tr>\n",
       "      <th>3</th>\n",
       "      <td>1</td>\n",
       "      <td>EUTema_36</td>\n",
       "      <td>T27 - Arbeidsmiljø</td>\n",
       "      <td>2</td>\n",
       "      <td>EUSpoersmaal_Q7132</td>\n",
       "      <td>I hvilken grad er du enig i følgende påstander...</td>\n",
       "      <td>0</td>\n",
       "      <td>Alle</td>\n",
       "      <td>Alle svar</td>\n",
       "      <td>2022-23</td>\n",
       "      <td>...</td>\n",
       "      <td>0</td>\n",
       "      <td>-10</td>\n",
       "      <td>Alle eierformer</td>\n",
       "      <td>*</td>\n",
       "      <td>*</td>\n",
       "      <td>*</td>\n",
       "      <td>*</td>\n",
       "      <td>1</td>\n",
       "      <td>7236</td>\n",
       "      <td>72759548</td>\n",
       "    </tr>\n",
       "    <tr>\n",
       "      <th>4</th>\n",
       "      <td>1</td>\n",
       "      <td>EUTema_35</td>\n",
       "      <td>T26 - Arbeidsmiljø</td>\n",
       "      <td>2</td>\n",
       "      <td>EUSpoersmaal_Q7119</td>\n",
       "      <td>Er du blitt utsatt for urettferdig behandling/...</td>\n",
       "      <td>0</td>\n",
       "      <td>Alle</td>\n",
       "      <td>Alle svar</td>\n",
       "      <td>2022-23</td>\n",
       "      <td>...</td>\n",
       "      <td>0</td>\n",
       "      <td>-10</td>\n",
       "      <td>Alle eierformer</td>\n",
       "      <td>*</td>\n",
       "      <td>*</td>\n",
       "      <td>*</td>\n",
       "      <td>*</td>\n",
       "      <td>1</td>\n",
       "      <td>7236</td>\n",
       "      <td>72759548</td>\n",
       "    </tr>\n",
       "    <tr>\n",
       "      <th>...</th>\n",
       "      <td>...</td>\n",
       "      <td>...</td>\n",
       "      <td>...</td>\n",
       "      <td>...</td>\n",
       "      <td>...</td>\n",
       "      <td>...</td>\n",
       "      <td>...</td>\n",
       "      <td>...</td>\n",
       "      <td>...</td>\n",
       "      <td>...</td>\n",
       "      <td>...</td>\n",
       "      <td>...</td>\n",
       "      <td>...</td>\n",
       "      <td>...</td>\n",
       "      <td>...</td>\n",
       "      <td>...</td>\n",
       "      <td>...</td>\n",
       "      <td>...</td>\n",
       "      <td>...</td>\n",
       "      <td>...</td>\n",
       "      <td>...</td>\n",
       "    </tr>\n",
       "    <tr>\n",
       "      <th>999995</th>\n",
       "      <td>1</td>\n",
       "      <td>EUTema_7</td>\n",
       "      <td>Vurdering for læring</td>\n",
       "      <td>2</td>\n",
       "      <td>EUSpoersmaal_Q7208</td>\n",
       "      <td>Har læreren snakket om hva som kreves for å op...</td>\n",
       "      <td>1</td>\n",
       "      <td>1</td>\n",
       "      <td>Ikke i noen fag</td>\n",
       "      <td>2022-23</td>\n",
       "      <td>...</td>\n",
       "      <td>0</td>\n",
       "      <td>-10</td>\n",
       "      <td>Alle eierformer</td>\n",
       "      <td>*</td>\n",
       "      <td>*</td>\n",
       "      <td>*</td>\n",
       "      <td>*</td>\n",
       "      <td>139</td>\n",
       "      <td>7236</td>\n",
       "      <td>72759548</td>\n",
       "    </tr>\n",
       "    <tr>\n",
       "      <th>999996</th>\n",
       "      <td>1</td>\n",
       "      <td>EUTema_7</td>\n",
       "      <td>Vurdering for læring</td>\n",
       "      <td>2</td>\n",
       "      <td>EUSpoersmaal_Q7208</td>\n",
       "      <td>Har læreren snakket om hva som kreves for å op...</td>\n",
       "      <td>1</td>\n",
       "      <td>1</td>\n",
       "      <td>Ikke i noen fag</td>\n",
       "      <td>2022-23</td>\n",
       "      <td>...</td>\n",
       "      <td>0</td>\n",
       "      <td>-10</td>\n",
       "      <td>Alle eierformer</td>\n",
       "      <td>*</td>\n",
       "      <td>*</td>\n",
       "      <td>*</td>\n",
       "      <td>*</td>\n",
       "      <td>139</td>\n",
       "      <td>7236</td>\n",
       "      <td>72759548</td>\n",
       "    </tr>\n",
       "    <tr>\n",
       "      <th>999997</th>\n",
       "      <td>1</td>\n",
       "      <td>EUTema_7</td>\n",
       "      <td>Vurdering for læring</td>\n",
       "      <td>2</td>\n",
       "      <td>EUSpoersmaal_Q7208</td>\n",
       "      <td>Har læreren snakket om hva som kreves for å op...</td>\n",
       "      <td>1</td>\n",
       "      <td>1</td>\n",
       "      <td>Ikke i noen fag</td>\n",
       "      <td>2022-23</td>\n",
       "      <td>...</td>\n",
       "      <td>0</td>\n",
       "      <td>-10</td>\n",
       "      <td>Alle eierformer</td>\n",
       "      <td>*</td>\n",
       "      <td>*</td>\n",
       "      <td>*</td>\n",
       "      <td>*</td>\n",
       "      <td>139</td>\n",
       "      <td>7236</td>\n",
       "      <td>72759548</td>\n",
       "    </tr>\n",
       "    <tr>\n",
       "      <th>999998</th>\n",
       "      <td>1</td>\n",
       "      <td>EUTema_7</td>\n",
       "      <td>Vurdering for læring</td>\n",
       "      <td>2</td>\n",
       "      <td>EUSpoersmaal_Q7208</td>\n",
       "      <td>Har læreren snakket om hva som kreves for å op...</td>\n",
       "      <td>1</td>\n",
       "      <td>1</td>\n",
       "      <td>Ikke i noen fag</td>\n",
       "      <td>2022-23</td>\n",
       "      <td>...</td>\n",
       "      <td>0</td>\n",
       "      <td>-10</td>\n",
       "      <td>Alle eierformer</td>\n",
       "      <td>*</td>\n",
       "      <td>*</td>\n",
       "      <td>*</td>\n",
       "      <td>*</td>\n",
       "      <td>139</td>\n",
       "      <td>7236</td>\n",
       "      <td>72759548</td>\n",
       "    </tr>\n",
       "    <tr>\n",
       "      <th>999999</th>\n",
       "      <td>1</td>\n",
       "      <td>EUTema_7</td>\n",
       "      <td>Vurdering for læring</td>\n",
       "      <td>2</td>\n",
       "      <td>EUSpoersmaal_Q7208</td>\n",
       "      <td>Har læreren snakket om hva som kreves for å op...</td>\n",
       "      <td>1</td>\n",
       "      <td>1</td>\n",
       "      <td>Ikke i noen fag</td>\n",
       "      <td>2022-23</td>\n",
       "      <td>...</td>\n",
       "      <td>0</td>\n",
       "      <td>-10</td>\n",
       "      <td>Alle eierformer</td>\n",
       "      <td>*</td>\n",
       "      <td>*</td>\n",
       "      <td>*</td>\n",
       "      <td>*</td>\n",
       "      <td>139</td>\n",
       "      <td>7236</td>\n",
       "      <td>72759548</td>\n",
       "    </tr>\n",
       "  </tbody>\n",
       "</table>\n",
       "<p>1000000 rows × 41 columns</p>\n",
       "</div>"
      ],
      "text/plain": [
       "        TemaNivaa   Temakode              Temanavn  SpoersmaalNivaa  \\\n",
       "0               1  EUTema_36    T27 - Arbeidsmiljø                2   \n",
       "1               1  EUTema_36    T27 - Arbeidsmiljø                2   \n",
       "2               1  EUTema_36    T27 - Arbeidsmiljø                2   \n",
       "3               1  EUTema_36    T27 - Arbeidsmiljø                2   \n",
       "4               1  EUTema_35    T26 - Arbeidsmiljø                2   \n",
       "...           ...        ...                   ...              ...   \n",
       "999995          1   EUTema_7  Vurdering for læring                2   \n",
       "999996          1   EUTema_7  Vurdering for læring                2   \n",
       "999997          1   EUTema_7  Vurdering for læring                2   \n",
       "999998          1   EUTema_7  Vurdering for læring                2   \n",
       "999999          1   EUTema_7  Vurdering for læring                2   \n",
       "\n",
       "            Spoersmaalkode                                     Spoersmaalnavn  \\\n",
       "0       EUSpoersmaal_Q7132  I hvilken grad er du enig i følgende påstander...   \n",
       "1       EUSpoersmaal_Q7132  I hvilken grad er du enig i følgende påstander...   \n",
       "2       EUSpoersmaal_Q7132  I hvilken grad er du enig i følgende påstander...   \n",
       "3       EUSpoersmaal_Q7132  I hvilken grad er du enig i følgende påstander...   \n",
       "4       EUSpoersmaal_Q7119  Er du blitt utsatt for urettferdig behandling/...   \n",
       "...                    ...                                                ...   \n",
       "999995  EUSpoersmaal_Q7208  Har læreren snakket om hva som kreves for å op...   \n",
       "999996  EUSpoersmaal_Q7208  Har læreren snakket om hva som kreves for å op...   \n",
       "999997  EUSpoersmaal_Q7208  Har læreren snakket om hva som kreves for å op...   \n",
       "999998  EUSpoersmaal_Q7208  Har læreren snakket om hva som kreves for å op...   \n",
       "999999  EUSpoersmaal_Q7208  Har læreren snakket om hva som kreves for å op...   \n",
       "\n",
       "        SvaralternativNivaa SvaralternativKode SvaralternativNavn  \\\n",
       "0                         0               Alle          Alle svar   \n",
       "1                         0               Alle          Alle svar   \n",
       "2                         0               Alle          Alle svar   \n",
       "3                         0               Alle          Alle svar   \n",
       "4                         0               Alle          Alle svar   \n",
       "...                     ...                ...                ...   \n",
       "999995                    1                  1    Ikke i noen fag   \n",
       "999996                    1                  1    Ikke i noen fag   \n",
       "999997                    1                  1    Ikke i noen fag   \n",
       "999998                    1                  1    Ikke i noen fag   \n",
       "999999                    1                  1    Ikke i noen fag   \n",
       "\n",
       "       Skoleaarnavn  ...  EierformNivaa Eierformkode     EierformNavn  Score  \\\n",
       "0           2022-23  ...              1            3  Offentlig skole      *   \n",
       "1           2022-23  ...              0          -10  Alle eierformer      *   \n",
       "2           2022-23  ...              1            3  Offentlig skole      *   \n",
       "3           2022-23  ...              0          -10  Alle eierformer      *   \n",
       "4           2022-23  ...              0          -10  Alle eierformer      *   \n",
       "...             ...  ...            ...          ...              ...    ...   \n",
       "999995      2022-23  ...              0          -10  Alle eierformer      *   \n",
       "999996      2022-23  ...              0          -10  Alle eierformer      *   \n",
       "999997      2022-23  ...              0          -10  Alle eierformer      *   \n",
       "999998      2022-23  ...              0          -10  Alle eierformer      *   \n",
       "999999      2022-23  ...              0          -10  Alle eierformer      *   \n",
       "\n",
       "       Standardavvik AndelBesvart AntallBesvart  Sidenummer RaderSide  \\\n",
       "0                  *            *             *           1      7236   \n",
       "1                  *            *             *           1      7236   \n",
       "2                  *            *             *           1      7236   \n",
       "3                  *            *             *           1      7236   \n",
       "4                  *            *             *           1      7236   \n",
       "...              ...          ...           ...         ...       ...   \n",
       "999995             *            *             *         139      7236   \n",
       "999996             *            *             *         139      7236   \n",
       "999997             *            *             *         139      7236   \n",
       "999998             *            *             *         139      7236   \n",
       "999999             *            *             *         139      7236   \n",
       "\n",
       "       RaderTotalt  \n",
       "0         72759548  \n",
       "1         72759548  \n",
       "2         72759548  \n",
       "3         72759548  \n",
       "4         72759548  \n",
       "...            ...  \n",
       "999995    72759548  \n",
       "999996    72759548  \n",
       "999997    72759548  \n",
       "999998    72759548  \n",
       "999999    72759548  \n",
       "\n",
       "[1000000 rows x 41 columns]"
      ]
     },
     "execution_count": 38,
     "metadata": {},
     "output_type": "execute_result"
    }
   ],
   "source": [
    "df = pd.read_csv('data/VGO-EUV-Tema-2022.zip', nrows=1000000, sep=\";\", encoding='cp1252', compression='zip')\n",
    "df"
   ]
  },
  {
   "cell_type": "code",
   "execution_count": null,
   "id": "9a41c91b",
   "metadata": {},
   "outputs": [],
   "source": []
  },
  {
   "cell_type": "markdown",
   "id": "62c2b287",
   "metadata": {},
   "source": [
    "# Testing the time with Pandas Vectorized"
   ]
  },
  {
   "cell_type": "code",
   "execution_count": 44,
   "id": "c47345bf",
   "metadata": {},
   "outputs": [],
   "source": [
    "df_numpy = df.to_numpy()"
   ]
  },
  {
   "cell_type": "code",
   "execution_count": 54,
   "id": "b6e7a0fe",
   "metadata": {},
   "outputs": [
    {
     "data": {
      "text/plain": [
       "dtype('O')"
      ]
     },
     "execution_count": 54,
     "metadata": {},
     "output_type": "execute_result"
    }
   ],
   "source": [
    "df_numpy.dtype"
   ]
  },
  {
   "cell_type": "code",
   "execution_count": 55,
   "id": "9f32cf68",
   "metadata": {},
   "outputs": [],
   "source": [
    "keys = [''.join(str(x)) for x in df_numpy]"
   ]
  },
  {
   "cell_type": "code",
   "execution_count": 49,
   "id": "5491df45",
   "metadata": {},
   "outputs": [
    {
     "name": "stdout",
     "output_type": "stream",
     "text": [
      "1\n",
      "EUTema_36\n",
      "T27 - Arbeidsmiljø\n",
      "2\n",
      "EUSpoersmaal_Q7132\n",
      "I hvilken grad er du enig i følgende påstander om nettvett (informasjonskompetanse og digital dømmekraft)? Skolen har gitt meg god opplæring i kildekritikk (hvordan jeg kan gjøre meg opp en mening om i hvilken grad jeg kan stole på informasjonen som jeg har hentet)\n",
      "0\n",
      "Alle\n",
      "Alle svar\n",
      "2022-23\n",
      "3\n",
      "I\n",
      "Hele landet\n",
      "15\n",
      "Møre og Romsdal\n",
      "974576589\n",
      "Kristiansund videregående skole\n",
      "0\n",
      "Alle\n",
      "Alle grupper\n",
      "2\n",
      "YRK\n",
      "Yrkesfaglig\n",
      "IM\n",
      "Informasjonsteknologi og medieproduksjon\n",
      "1\n",
      "2\n",
      "Videregående trinn 2\n",
      "1\n",
      "G\n",
      "Gutt\n",
      "1\n",
      "3\n",
      "Offentlig skole\n",
      "*\n",
      "*\n",
      "*\n",
      "*\n",
      "1\n",
      "7236\n",
      "72759548\n"
     ]
    }
   ],
   "source": [
    "keys"
   ]
  },
  {
   "cell_type": "code",
   "execution_count": 4,
   "id": "5ba98677",
   "metadata": {},
   "outputs": [],
   "source": [
    "column_list = df.columns\n",
    "\n",
    "def key_tester(row):\n",
    "    key = str()\n",
    "    for column in column_list:\n",
    "        key += str(row[column])\n",
    "    return hashlib.sha256(key.encode('utf-8')).hexdigest()"
   ]
  },
  {
   "cell_type": "code",
   "execution_count": 43,
   "id": "928c6195",
   "metadata": {},
   "outputs": [
    {
     "name": "stderr",
     "output_type": "stream",
     "text": [
      "C:\\Users\\ARFEV\\AppData\\Local\\Temp\\ipykernel_34540\\1379068951.py:1: DtypeWarning: Columns (7,15,37) have mixed types. Specify dtype option on import or set low_memory=False.\n",
      "  df = pd.read_csv('data/VGO_EUV_Tema_2022.csv', nrows=1000000, sep=\";\", encoding='cp1252')\n"
     ]
    },
    {
     "data": {
      "text/html": [
       "<div>\n",
       "<style scoped>\n",
       "    .dataframe tbody tr th:only-of-type {\n",
       "        vertical-align: middle;\n",
       "    }\n",
       "\n",
       "    .dataframe tbody tr th {\n",
       "        vertical-align: top;\n",
       "    }\n",
       "\n",
       "    .dataframe thead th {\n",
       "        text-align: right;\n",
       "    }\n",
       "</style>\n",
       "<table border=\"1\" class=\"dataframe\">\n",
       "  <thead>\n",
       "    <tr style=\"text-align: right;\">\n",
       "      <th></th>\n",
       "      <th>TemaNivaa</th>\n",
       "      <th>Temakode</th>\n",
       "      <th>Temanavn</th>\n",
       "      <th>SpoersmaalNivaa</th>\n",
       "      <th>Spoersmaalkode</th>\n",
       "      <th>Spoersmaalnavn</th>\n",
       "      <th>SvaralternativNivaa</th>\n",
       "      <th>SvaralternativKode</th>\n",
       "      <th>SvaralternativNavn</th>\n",
       "      <th>Skoleaarnavn</th>\n",
       "      <th>...</th>\n",
       "      <th>EierformNivaa</th>\n",
       "      <th>Eierformkode</th>\n",
       "      <th>EierformNavn</th>\n",
       "      <th>Score</th>\n",
       "      <th>Standardavvik</th>\n",
       "      <th>AndelBesvart</th>\n",
       "      <th>AntallBesvart</th>\n",
       "      <th>Sidenummer</th>\n",
       "      <th>RaderSide</th>\n",
       "      <th>RaderTotalt</th>\n",
       "    </tr>\n",
       "  </thead>\n",
       "  <tbody>\n",
       "    <tr>\n",
       "      <th>0</th>\n",
       "      <td>1</td>\n",
       "      <td>EUTema_36</td>\n",
       "      <td>T27 - Arbeidsmiljø</td>\n",
       "      <td>2</td>\n",
       "      <td>EUSpoersmaal_Q7132</td>\n",
       "      <td>I hvilken grad er du enig i følgende påstander...</td>\n",
       "      <td>0</td>\n",
       "      <td>Alle</td>\n",
       "      <td>Alle svar</td>\n",
       "      <td>2022-23</td>\n",
       "      <td>...</td>\n",
       "      <td>1</td>\n",
       "      <td>3</td>\n",
       "      <td>Offentlig skole</td>\n",
       "      <td>*</td>\n",
       "      <td>*</td>\n",
       "      <td>*</td>\n",
       "      <td>*</td>\n",
       "      <td>1</td>\n",
       "      <td>7236</td>\n",
       "      <td>72759548</td>\n",
       "    </tr>\n",
       "    <tr>\n",
       "      <th>1</th>\n",
       "      <td>1</td>\n",
       "      <td>EUTema_36</td>\n",
       "      <td>T27 - Arbeidsmiljø</td>\n",
       "      <td>2</td>\n",
       "      <td>EUSpoersmaal_Q7132</td>\n",
       "      <td>I hvilken grad er du enig i følgende påstander...</td>\n",
       "      <td>0</td>\n",
       "      <td>Alle</td>\n",
       "      <td>Alle svar</td>\n",
       "      <td>2022-23</td>\n",
       "      <td>...</td>\n",
       "      <td>0</td>\n",
       "      <td>-10</td>\n",
       "      <td>Alle eierformer</td>\n",
       "      <td>*</td>\n",
       "      <td>*</td>\n",
       "      <td>*</td>\n",
       "      <td>*</td>\n",
       "      <td>1</td>\n",
       "      <td>7236</td>\n",
       "      <td>72759548</td>\n",
       "    </tr>\n",
       "    <tr>\n",
       "      <th>2</th>\n",
       "      <td>1</td>\n",
       "      <td>EUTema_36</td>\n",
       "      <td>T27 - Arbeidsmiljø</td>\n",
       "      <td>2</td>\n",
       "      <td>EUSpoersmaal_Q7132</td>\n",
       "      <td>I hvilken grad er du enig i følgende påstander...</td>\n",
       "      <td>0</td>\n",
       "      <td>Alle</td>\n",
       "      <td>Alle svar</td>\n",
       "      <td>2022-23</td>\n",
       "      <td>...</td>\n",
       "      <td>1</td>\n",
       "      <td>3</td>\n",
       "      <td>Offentlig skole</td>\n",
       "      <td>*</td>\n",
       "      <td>*</td>\n",
       "      <td>*</td>\n",
       "      <td>*</td>\n",
       "      <td>1</td>\n",
       "      <td>7236</td>\n",
       "      <td>72759548</td>\n",
       "    </tr>\n",
       "    <tr>\n",
       "      <th>3</th>\n",
       "      <td>1</td>\n",
       "      <td>EUTema_36</td>\n",
       "      <td>T27 - Arbeidsmiljø</td>\n",
       "      <td>2</td>\n",
       "      <td>EUSpoersmaal_Q7132</td>\n",
       "      <td>I hvilken grad er du enig i følgende påstander...</td>\n",
       "      <td>0</td>\n",
       "      <td>Alle</td>\n",
       "      <td>Alle svar</td>\n",
       "      <td>2022-23</td>\n",
       "      <td>...</td>\n",
       "      <td>0</td>\n",
       "      <td>-10</td>\n",
       "      <td>Alle eierformer</td>\n",
       "      <td>*</td>\n",
       "      <td>*</td>\n",
       "      <td>*</td>\n",
       "      <td>*</td>\n",
       "      <td>1</td>\n",
       "      <td>7236</td>\n",
       "      <td>72759548</td>\n",
       "    </tr>\n",
       "    <tr>\n",
       "      <th>4</th>\n",
       "      <td>1</td>\n",
       "      <td>EUTema_35</td>\n",
       "      <td>T26 - Arbeidsmiljø</td>\n",
       "      <td>2</td>\n",
       "      <td>EUSpoersmaal_Q7119</td>\n",
       "      <td>Er du blitt utsatt for urettferdig behandling/...</td>\n",
       "      <td>0</td>\n",
       "      <td>Alle</td>\n",
       "      <td>Alle svar</td>\n",
       "      <td>2022-23</td>\n",
       "      <td>...</td>\n",
       "      <td>0</td>\n",
       "      <td>-10</td>\n",
       "      <td>Alle eierformer</td>\n",
       "      <td>*</td>\n",
       "      <td>*</td>\n",
       "      <td>*</td>\n",
       "      <td>*</td>\n",
       "      <td>1</td>\n",
       "      <td>7236</td>\n",
       "      <td>72759548</td>\n",
       "    </tr>\n",
       "    <tr>\n",
       "      <th>...</th>\n",
       "      <td>...</td>\n",
       "      <td>...</td>\n",
       "      <td>...</td>\n",
       "      <td>...</td>\n",
       "      <td>...</td>\n",
       "      <td>...</td>\n",
       "      <td>...</td>\n",
       "      <td>...</td>\n",
       "      <td>...</td>\n",
       "      <td>...</td>\n",
       "      <td>...</td>\n",
       "      <td>...</td>\n",
       "      <td>...</td>\n",
       "      <td>...</td>\n",
       "      <td>...</td>\n",
       "      <td>...</td>\n",
       "      <td>...</td>\n",
       "      <td>...</td>\n",
       "      <td>...</td>\n",
       "      <td>...</td>\n",
       "      <td>...</td>\n",
       "    </tr>\n",
       "    <tr>\n",
       "      <th>999995</th>\n",
       "      <td>1</td>\n",
       "      <td>EUTema_7</td>\n",
       "      <td>Vurdering for læring</td>\n",
       "      <td>2</td>\n",
       "      <td>EUSpoersmaal_Q7208</td>\n",
       "      <td>Har læreren snakket om hva som kreves for å op...</td>\n",
       "      <td>1</td>\n",
       "      <td>1</td>\n",
       "      <td>Ikke i noen fag</td>\n",
       "      <td>2022-23</td>\n",
       "      <td>...</td>\n",
       "      <td>0</td>\n",
       "      <td>-10</td>\n",
       "      <td>Alle eierformer</td>\n",
       "      <td>*</td>\n",
       "      <td>*</td>\n",
       "      <td>*</td>\n",
       "      <td>*</td>\n",
       "      <td>139</td>\n",
       "      <td>7236</td>\n",
       "      <td>72759548</td>\n",
       "    </tr>\n",
       "    <tr>\n",
       "      <th>999996</th>\n",
       "      <td>1</td>\n",
       "      <td>EUTema_7</td>\n",
       "      <td>Vurdering for læring</td>\n",
       "      <td>2</td>\n",
       "      <td>EUSpoersmaal_Q7208</td>\n",
       "      <td>Har læreren snakket om hva som kreves for å op...</td>\n",
       "      <td>1</td>\n",
       "      <td>1</td>\n",
       "      <td>Ikke i noen fag</td>\n",
       "      <td>2022-23</td>\n",
       "      <td>...</td>\n",
       "      <td>0</td>\n",
       "      <td>-10</td>\n",
       "      <td>Alle eierformer</td>\n",
       "      <td>*</td>\n",
       "      <td>*</td>\n",
       "      <td>*</td>\n",
       "      <td>*</td>\n",
       "      <td>139</td>\n",
       "      <td>7236</td>\n",
       "      <td>72759548</td>\n",
       "    </tr>\n",
       "    <tr>\n",
       "      <th>999997</th>\n",
       "      <td>1</td>\n",
       "      <td>EUTema_7</td>\n",
       "      <td>Vurdering for læring</td>\n",
       "      <td>2</td>\n",
       "      <td>EUSpoersmaal_Q7208</td>\n",
       "      <td>Har læreren snakket om hva som kreves for å op...</td>\n",
       "      <td>1</td>\n",
       "      <td>1</td>\n",
       "      <td>Ikke i noen fag</td>\n",
       "      <td>2022-23</td>\n",
       "      <td>...</td>\n",
       "      <td>0</td>\n",
       "      <td>-10</td>\n",
       "      <td>Alle eierformer</td>\n",
       "      <td>*</td>\n",
       "      <td>*</td>\n",
       "      <td>*</td>\n",
       "      <td>*</td>\n",
       "      <td>139</td>\n",
       "      <td>7236</td>\n",
       "      <td>72759548</td>\n",
       "    </tr>\n",
       "    <tr>\n",
       "      <th>999998</th>\n",
       "      <td>1</td>\n",
       "      <td>EUTema_7</td>\n",
       "      <td>Vurdering for læring</td>\n",
       "      <td>2</td>\n",
       "      <td>EUSpoersmaal_Q7208</td>\n",
       "      <td>Har læreren snakket om hva som kreves for å op...</td>\n",
       "      <td>1</td>\n",
       "      <td>1</td>\n",
       "      <td>Ikke i noen fag</td>\n",
       "      <td>2022-23</td>\n",
       "      <td>...</td>\n",
       "      <td>0</td>\n",
       "      <td>-10</td>\n",
       "      <td>Alle eierformer</td>\n",
       "      <td>*</td>\n",
       "      <td>*</td>\n",
       "      <td>*</td>\n",
       "      <td>*</td>\n",
       "      <td>139</td>\n",
       "      <td>7236</td>\n",
       "      <td>72759548</td>\n",
       "    </tr>\n",
       "    <tr>\n",
       "      <th>999999</th>\n",
       "      <td>1</td>\n",
       "      <td>EUTema_7</td>\n",
       "      <td>Vurdering for læring</td>\n",
       "      <td>2</td>\n",
       "      <td>EUSpoersmaal_Q7208</td>\n",
       "      <td>Har læreren snakket om hva som kreves for å op...</td>\n",
       "      <td>1</td>\n",
       "      <td>1</td>\n",
       "      <td>Ikke i noen fag</td>\n",
       "      <td>2022-23</td>\n",
       "      <td>...</td>\n",
       "      <td>0</td>\n",
       "      <td>-10</td>\n",
       "      <td>Alle eierformer</td>\n",
       "      <td>*</td>\n",
       "      <td>*</td>\n",
       "      <td>*</td>\n",
       "      <td>*</td>\n",
       "      <td>139</td>\n",
       "      <td>7236</td>\n",
       "      <td>72759548</td>\n",
       "    </tr>\n",
       "  </tbody>\n",
       "</table>\n",
       "<p>1000000 rows × 41 columns</p>\n",
       "</div>"
      ],
      "text/plain": [
       "        TemaNivaa   Temakode              Temanavn  SpoersmaalNivaa  \\\n",
       "0               1  EUTema_36    T27 - Arbeidsmiljø                2   \n",
       "1               1  EUTema_36    T27 - Arbeidsmiljø                2   \n",
       "2               1  EUTema_36    T27 - Arbeidsmiljø                2   \n",
       "3               1  EUTema_36    T27 - Arbeidsmiljø                2   \n",
       "4               1  EUTema_35    T26 - Arbeidsmiljø                2   \n",
       "...           ...        ...                   ...              ...   \n",
       "999995          1   EUTema_7  Vurdering for læring                2   \n",
       "999996          1   EUTema_7  Vurdering for læring                2   \n",
       "999997          1   EUTema_7  Vurdering for læring                2   \n",
       "999998          1   EUTema_7  Vurdering for læring                2   \n",
       "999999          1   EUTema_7  Vurdering for læring                2   \n",
       "\n",
       "            Spoersmaalkode                                     Spoersmaalnavn  \\\n",
       "0       EUSpoersmaal_Q7132  I hvilken grad er du enig i følgende påstander...   \n",
       "1       EUSpoersmaal_Q7132  I hvilken grad er du enig i følgende påstander...   \n",
       "2       EUSpoersmaal_Q7132  I hvilken grad er du enig i følgende påstander...   \n",
       "3       EUSpoersmaal_Q7132  I hvilken grad er du enig i følgende påstander...   \n",
       "4       EUSpoersmaal_Q7119  Er du blitt utsatt for urettferdig behandling/...   \n",
       "...                    ...                                                ...   \n",
       "999995  EUSpoersmaal_Q7208  Har læreren snakket om hva som kreves for å op...   \n",
       "999996  EUSpoersmaal_Q7208  Har læreren snakket om hva som kreves for å op...   \n",
       "999997  EUSpoersmaal_Q7208  Har læreren snakket om hva som kreves for å op...   \n",
       "999998  EUSpoersmaal_Q7208  Har læreren snakket om hva som kreves for å op...   \n",
       "999999  EUSpoersmaal_Q7208  Har læreren snakket om hva som kreves for å op...   \n",
       "\n",
       "        SvaralternativNivaa SvaralternativKode SvaralternativNavn  \\\n",
       "0                         0               Alle          Alle svar   \n",
       "1                         0               Alle          Alle svar   \n",
       "2                         0               Alle          Alle svar   \n",
       "3                         0               Alle          Alle svar   \n",
       "4                         0               Alle          Alle svar   \n",
       "...                     ...                ...                ...   \n",
       "999995                    1                  1    Ikke i noen fag   \n",
       "999996                    1                  1    Ikke i noen fag   \n",
       "999997                    1                  1    Ikke i noen fag   \n",
       "999998                    1                  1    Ikke i noen fag   \n",
       "999999                    1                  1    Ikke i noen fag   \n",
       "\n",
       "       Skoleaarnavn  ...  EierformNivaa Eierformkode     EierformNavn  Score  \\\n",
       "0           2022-23  ...              1            3  Offentlig skole      *   \n",
       "1           2022-23  ...              0          -10  Alle eierformer      *   \n",
       "2           2022-23  ...              1            3  Offentlig skole      *   \n",
       "3           2022-23  ...              0          -10  Alle eierformer      *   \n",
       "4           2022-23  ...              0          -10  Alle eierformer      *   \n",
       "...             ...  ...            ...          ...              ...    ...   \n",
       "999995      2022-23  ...              0          -10  Alle eierformer      *   \n",
       "999996      2022-23  ...              0          -10  Alle eierformer      *   \n",
       "999997      2022-23  ...              0          -10  Alle eierformer      *   \n",
       "999998      2022-23  ...              0          -10  Alle eierformer      *   \n",
       "999999      2022-23  ...              0          -10  Alle eierformer      *   \n",
       "\n",
       "       Standardavvik AndelBesvart AntallBesvart  Sidenummer RaderSide  \\\n",
       "0                  *            *             *           1      7236   \n",
       "1                  *            *             *           1      7236   \n",
       "2                  *            *             *           1      7236   \n",
       "3                  *            *             *           1      7236   \n",
       "4                  *            *             *           1      7236   \n",
       "...              ...          ...           ...         ...       ...   \n",
       "999995             *            *             *         139      7236   \n",
       "999996             *            *             *         139      7236   \n",
       "999997             *            *             *         139      7236   \n",
       "999998             *            *             *         139      7236   \n",
       "999999             *            *             *         139      7236   \n",
       "\n",
       "       RaderTotalt  \n",
       "0         72759548  \n",
       "1         72759548  \n",
       "2         72759548  \n",
       "3         72759548  \n",
       "4         72759548  \n",
       "...            ...  \n",
       "999995    72759548  \n",
       "999996    72759548  \n",
       "999997    72759548  \n",
       "999998    72759548  \n",
       "999999    72759548  \n",
       "\n",
       "[1000000 rows x 41 columns]"
      ]
     },
     "execution_count": 43,
     "metadata": {},
     "output_type": "execute_result"
    }
   ],
   "source": [
    "df = pd.read_csv('data/VGO_EUV_Tema_2022.csv', nrows=1000000, sep=\";\", encoding='cp1252')\n",
    "df"
   ]
  },
  {
   "cell_type": "code",
   "execution_count": 6,
   "id": "cd2b4cb1",
   "metadata": {},
   "outputs": [
    {
     "name": "stderr",
     "output_type": "stream",
     "text": [
      "C:\\Users\\ARFEV\\AppData\\Local\\Temp\\ipykernel_34540\\2868550784.py:2: DtypeWarning: Columns (7,15,37) have mixed types. Specify dtype option on import or set low_memory=False.\n",
      "  df = pd.read_csv('data/VGO_EUV_Tema_2022.csv', nrows=1000000, sep=\";\", encoding='cp1252')\n"
     ]
    },
    {
     "name": "stdout",
     "output_type": "stream",
     "text": [
      "231.20093480000003\n"
     ]
    }
   ],
   "source": [
    "start = time.perf_counter()\n",
    "df = pd.read_csv('data/VGO_EUV_Tema_2022.csv', nrows=1000000, sep=\";\", encoding='cp1252')\n",
    "df['key'] = df.apply(key_tester, axis=1)\n",
    "df['key'].to_csv(\"data/pandas_test.csv\", mode='a', index=False, header=False)\n",
    "end = time.perf_counter()\n",
    "print(end - start)"
   ]
  },
  {
   "cell_type": "code",
   "execution_count": 10,
   "id": "bfaf8a93",
   "metadata": {},
   "outputs": [],
   "source": [
    "#key_tester = np.vectorize(key_tester)\n",
    "\n",
    "#start = time.perf_counter()\n",
    "#df = pd.read_csv('data/VGO_EUV_Tema_2022.csv', nrows=1000000, sep=\";\", encoding='cp1252')\n",
    "#df = df.astype(str)\n",
    "#df['key'] = df.apply(key_tester, axis=1)\n",
    "#df['key'].to_csv(\"data/pandas_test.csv\", mode='a', index=False, header=False)\n",
    "#end = time.perf_counter()\n",
    "#print(end - start)"
   ]
  },
  {
   "cell_type": "code",
   "execution_count": null,
   "id": "79a9e52d",
   "metadata": {},
   "outputs": [],
   "source": []
  },
  {
   "cell_type": "code",
   "execution_count": 31,
   "id": "3a8c945a",
   "metadata": {},
   "outputs": [],
   "source": [
    "def vectorize_key(df, column_list=df.columns):\n",
    "    key = str()\n",
    "    for column in column_list:\n",
    "        key = key + df[column].astype(str)\n",
    "    return key #hashlib.sha256(key.encode('utf-8')).hexdigest()\n",
    "\n",
    "vectorize_key = np.vectorize(vectorize_key)"
   ]
  },
  {
   "cell_type": "code",
   "execution_count": 30,
   "id": "3ad434f1",
   "metadata": {},
   "outputs": [
    {
     "name": "stderr",
     "output_type": "stream",
     "text": [
      "C:\\Users\\ARFEV\\AppData\\Local\\Temp\\ipykernel_34540\\791050183.py:2: DtypeWarning: Columns (7,15,37) have mixed types. Specify dtype option on import or set low_memory=False.\n",
      "  df = pd.read_csv('data/VGO_EUV_Tema_2022.csv', nrows=1000000, sep=\";\", encoding='cp1252')\n"
     ]
    },
    {
     "name": "stdout",
     "output_type": "stream",
     "text": [
      "51.925437500000044\n"
     ]
    }
   ],
   "source": [
    "start = time.perf_counter()\n",
    "df = pd.read_csv('data/VGO_EUV_Tema_2022.csv', nrows=1000000, sep=\";\", encoding='cp1252')\n",
    "df['key'] = vectorize_key(df, df.columns)\n",
    "df['key'].to_csv(\"data/pandas_test.csv\", mode='a', index=False, header=False)\n",
    "end = time.perf_counter()\n",
    "print(end - start)"
   ]
  },
  {
   "cell_type": "code",
   "execution_count": 32,
   "id": "76d6a73b",
   "metadata": {},
   "outputs": [
    {
     "name": "stderr",
     "output_type": "stream",
     "text": [
      "C:\\Users\\ARFEV\\AppData\\Local\\Temp\\ipykernel_34540\\791050183.py:2: DtypeWarning: Columns (7,15,37) have mixed types. Specify dtype option on import or set low_memory=False.\n",
      "  df = pd.read_csv('data/VGO_EUV_Tema_2022.csv', nrows=1000000, sep=\";\", encoding='cp1252')\n"
     ]
    },
    {
     "ename": "TypeError",
     "evalue": "'int' object is not subscriptable",
     "output_type": "error",
     "traceback": [
      "\u001b[1;31m---------------------------------------------------------------------------\u001b[0m",
      "\u001b[1;31mTypeError\u001b[0m                                 Traceback (most recent call last)",
      "Input \u001b[1;32mIn [32]\u001b[0m, in \u001b[0;36m<cell line: 3>\u001b[1;34m()\u001b[0m\n\u001b[0;32m      1\u001b[0m start \u001b[38;5;241m=\u001b[39m time\u001b[38;5;241m.\u001b[39mperf_counter()\n\u001b[0;32m      2\u001b[0m df \u001b[38;5;241m=\u001b[39m pd\u001b[38;5;241m.\u001b[39mread_csv(\u001b[38;5;124m'\u001b[39m\u001b[38;5;124mdata/VGO_EUV_Tema_2022.csv\u001b[39m\u001b[38;5;124m'\u001b[39m, nrows\u001b[38;5;241m=\u001b[39m\u001b[38;5;241m1000000\u001b[39m, sep\u001b[38;5;241m=\u001b[39m\u001b[38;5;124m\"\u001b[39m\u001b[38;5;124m;\u001b[39m\u001b[38;5;124m\"\u001b[39m, encoding\u001b[38;5;241m=\u001b[39m\u001b[38;5;124m'\u001b[39m\u001b[38;5;124mcp1252\u001b[39m\u001b[38;5;124m'\u001b[39m)\n\u001b[1;32m----> 3\u001b[0m df[\u001b[38;5;124m'\u001b[39m\u001b[38;5;124mkey\u001b[39m\u001b[38;5;124m'\u001b[39m] \u001b[38;5;241m=\u001b[39m \u001b[43mvectorize_key\u001b[49m\u001b[43m(\u001b[49m\u001b[43mdf\u001b[49m\u001b[43m,\u001b[49m\u001b[43m \u001b[49m\u001b[43mdf\u001b[49m\u001b[38;5;241;43m.\u001b[39;49m\u001b[43mcolumns\u001b[49m\u001b[43m)\u001b[49m\n\u001b[0;32m      4\u001b[0m df[\u001b[38;5;124m'\u001b[39m\u001b[38;5;124mkey\u001b[39m\u001b[38;5;124m'\u001b[39m]\u001b[38;5;241m.\u001b[39mto_csv(\u001b[38;5;124m\"\u001b[39m\u001b[38;5;124mdata/pandas_test.csv\u001b[39m\u001b[38;5;124m\"\u001b[39m, mode\u001b[38;5;241m=\u001b[39m\u001b[38;5;124m'\u001b[39m\u001b[38;5;124ma\u001b[39m\u001b[38;5;124m'\u001b[39m, index\u001b[38;5;241m=\u001b[39m\u001b[38;5;28;01mFalse\u001b[39;00m, header\u001b[38;5;241m=\u001b[39m\u001b[38;5;28;01mFalse\u001b[39;00m)\n\u001b[0;32m      5\u001b[0m end \u001b[38;5;241m=\u001b[39m time\u001b[38;5;241m.\u001b[39mperf_counter()\n",
      "File \u001b[1;32m~\\Anaconda3\\lib\\site-packages\\numpy\\lib\\function_base.py:2329\u001b[0m, in \u001b[0;36mvectorize.__call__\u001b[1;34m(self, *args, **kwargs)\u001b[0m\n\u001b[0;32m   2326\u001b[0m     vargs \u001b[38;5;241m=\u001b[39m [args[_i] \u001b[38;5;28;01mfor\u001b[39;00m _i \u001b[38;5;129;01min\u001b[39;00m inds]\n\u001b[0;32m   2327\u001b[0m     vargs\u001b[38;5;241m.\u001b[39mextend([kwargs[_n] \u001b[38;5;28;01mfor\u001b[39;00m _n \u001b[38;5;129;01min\u001b[39;00m names])\n\u001b[1;32m-> 2329\u001b[0m \u001b[38;5;28;01mreturn\u001b[39;00m \u001b[38;5;28;43mself\u001b[39;49m\u001b[38;5;241;43m.\u001b[39;49m\u001b[43m_vectorize_call\u001b[49m\u001b[43m(\u001b[49m\u001b[43mfunc\u001b[49m\u001b[38;5;241;43m=\u001b[39;49m\u001b[43mfunc\u001b[49m\u001b[43m,\u001b[49m\u001b[43m \u001b[49m\u001b[43margs\u001b[49m\u001b[38;5;241;43m=\u001b[39;49m\u001b[43mvargs\u001b[49m\u001b[43m)\u001b[49m\n",
      "File \u001b[1;32m~\\Anaconda3\\lib\\site-packages\\numpy\\lib\\function_base.py:2407\u001b[0m, in \u001b[0;36mvectorize._vectorize_call\u001b[1;34m(self, func, args)\u001b[0m\n\u001b[0;32m   2405\u001b[0m     res \u001b[38;5;241m=\u001b[39m func()\n\u001b[0;32m   2406\u001b[0m \u001b[38;5;28;01melse\u001b[39;00m:\n\u001b[1;32m-> 2407\u001b[0m     ufunc, otypes \u001b[38;5;241m=\u001b[39m \u001b[38;5;28;43mself\u001b[39;49m\u001b[38;5;241;43m.\u001b[39;49m\u001b[43m_get_ufunc_and_otypes\u001b[49m\u001b[43m(\u001b[49m\u001b[43mfunc\u001b[49m\u001b[38;5;241;43m=\u001b[39;49m\u001b[43mfunc\u001b[49m\u001b[43m,\u001b[49m\u001b[43m \u001b[49m\u001b[43margs\u001b[49m\u001b[38;5;241;43m=\u001b[39;49m\u001b[43margs\u001b[49m\u001b[43m)\u001b[49m\n\u001b[0;32m   2409\u001b[0m     \u001b[38;5;66;03m# Convert args to object arrays first\u001b[39;00m\n\u001b[0;32m   2410\u001b[0m     inputs \u001b[38;5;241m=\u001b[39m [asanyarray(a, dtype\u001b[38;5;241m=\u001b[39m\u001b[38;5;28mobject\u001b[39m) \u001b[38;5;28;01mfor\u001b[39;00m a \u001b[38;5;129;01min\u001b[39;00m args]\n",
      "File \u001b[1;32m~\\Anaconda3\\lib\\site-packages\\numpy\\lib\\function_base.py:2367\u001b[0m, in \u001b[0;36mvectorize._get_ufunc_and_otypes\u001b[1;34m(self, func, args)\u001b[0m\n\u001b[0;32m   2363\u001b[0m     \u001b[38;5;28;01mraise\u001b[39;00m \u001b[38;5;167;01mValueError\u001b[39;00m(\u001b[38;5;124m'\u001b[39m\u001b[38;5;124mcannot call `vectorize` on size 0 inputs \u001b[39m\u001b[38;5;124m'\u001b[39m\n\u001b[0;32m   2364\u001b[0m                      \u001b[38;5;124m'\u001b[39m\u001b[38;5;124munless `otypes` is set\u001b[39m\u001b[38;5;124m'\u001b[39m)\n\u001b[0;32m   2366\u001b[0m inputs \u001b[38;5;241m=\u001b[39m [arg\u001b[38;5;241m.\u001b[39mflat[\u001b[38;5;241m0\u001b[39m] \u001b[38;5;28;01mfor\u001b[39;00m arg \u001b[38;5;129;01min\u001b[39;00m args]\n\u001b[1;32m-> 2367\u001b[0m outputs \u001b[38;5;241m=\u001b[39m \u001b[43mfunc\u001b[49m\u001b[43m(\u001b[49m\u001b[38;5;241;43m*\u001b[39;49m\u001b[43minputs\u001b[49m\u001b[43m)\u001b[49m\n\u001b[0;32m   2369\u001b[0m \u001b[38;5;66;03m# Performance note: profiling indicates that -- for simple\u001b[39;00m\n\u001b[0;32m   2370\u001b[0m \u001b[38;5;66;03m# functions at least -- this wrapping can almost double the\u001b[39;00m\n\u001b[0;32m   2371\u001b[0m \u001b[38;5;66;03m# execution time.\u001b[39;00m\n\u001b[0;32m   2372\u001b[0m \u001b[38;5;66;03m# Hence we make it optional.\u001b[39;00m\n\u001b[0;32m   2373\u001b[0m \u001b[38;5;28;01mif\u001b[39;00m \u001b[38;5;28mself\u001b[39m\u001b[38;5;241m.\u001b[39mcache:\n",
      "Input \u001b[1;32mIn [31]\u001b[0m, in \u001b[0;36mvectorize_key\u001b[1;34m(df, column_list)\u001b[0m\n\u001b[0;32m      2\u001b[0m key \u001b[38;5;241m=\u001b[39m \u001b[38;5;28mstr\u001b[39m()\n\u001b[0;32m      3\u001b[0m \u001b[38;5;28;01mfor\u001b[39;00m column \u001b[38;5;129;01min\u001b[39;00m column_list:\n\u001b[1;32m----> 4\u001b[0m     key \u001b[38;5;241m=\u001b[39m key \u001b[38;5;241m+\u001b[39m \u001b[43mdf\u001b[49m\u001b[43m[\u001b[49m\u001b[43mcolumn\u001b[49m\u001b[43m]\u001b[49m\u001b[38;5;241m.\u001b[39mastype(\u001b[38;5;28mstr\u001b[39m)\n\u001b[0;32m      5\u001b[0m \u001b[38;5;28;01mreturn\u001b[39;00m key\n",
      "\u001b[1;31mTypeError\u001b[0m: 'int' object is not subscriptable"
     ]
    }
   ],
   "source": [
    "start = time.perf_counter()\n",
    "df = pd.read_csv('data/VGO_EUV_Tema_2022.csv', nrows=1000000, sep=\";\", encoding='cp1252')\n",
    "df['key'] = vectorize_key(df, df.columns)\n",
    "df['key'].to_csv(\"data/pandas_test.csv\", mode='a', index=False, header=False)\n",
    "end = time.perf_counter()\n",
    "print(end - start)"
   ]
  },
  {
   "cell_type": "markdown",
   "id": "28564752",
   "metadata": {},
   "source": [
    "# Testing the time with Pandas"
   ]
  },
  {
   "cell_type": "code",
   "execution_count": 55,
   "id": "e85029eb",
   "metadata": {},
   "outputs": [],
   "source": [
    "column_list = df.columns\n",
    "\n",
    "def key_tester(row):\n",
    "    key = str()\n",
    "    for column in column_list:\n",
    "        key += str(row[column])\n",
    "    return hashlib.sha256(key.encode('utf-8')).hexdigest()"
   ]
  },
  {
   "cell_type": "code",
   "execution_count": 51,
   "id": "2b4367d9",
   "metadata": {},
   "outputs": [
    {
     "name": "stderr",
     "output_type": "stream",
     "text": [
      "C:\\Users\\ARFEV\\AppData\\Local\\Temp\\ipykernel_12028\\3993179474.py:2: DtypeWarning: Columns (7,15,37) have mixed types. Specify dtype option on import or set low_memory=False.\n",
      "  df = pd.read_csv('data/VGO_EUV_Tema_2022.csv', nrows=1000000, sep=\";\", encoding='cp1252')\n"
     ]
    },
    {
     "data": {
      "text/html": [
       "<div>\n",
       "<style scoped>\n",
       "    .dataframe tbody tr th:only-of-type {\n",
       "        vertical-align: middle;\n",
       "    }\n",
       "\n",
       "    .dataframe tbody tr th {\n",
       "        vertical-align: top;\n",
       "    }\n",
       "\n",
       "    .dataframe thead th {\n",
       "        text-align: right;\n",
       "    }\n",
       "</style>\n",
       "<table border=\"1\" class=\"dataframe\">\n",
       "  <thead>\n",
       "    <tr style=\"text-align: right;\">\n",
       "      <th></th>\n",
       "      <th>TemaNivaa</th>\n",
       "      <th>Temakode</th>\n",
       "      <th>Temanavn</th>\n",
       "      <th>SpoersmaalNivaa</th>\n",
       "      <th>Spoersmaalkode</th>\n",
       "      <th>Spoersmaalnavn</th>\n",
       "      <th>SvaralternativNivaa</th>\n",
       "      <th>SvaralternativKode</th>\n",
       "      <th>SvaralternativNavn</th>\n",
       "      <th>Skoleaarnavn</th>\n",
       "      <th>...</th>\n",
       "      <th>EierformNivaa</th>\n",
       "      <th>Eierformkode</th>\n",
       "      <th>EierformNavn</th>\n",
       "      <th>Score</th>\n",
       "      <th>Standardavvik</th>\n",
       "      <th>AndelBesvart</th>\n",
       "      <th>AntallBesvart</th>\n",
       "      <th>Sidenummer</th>\n",
       "      <th>RaderSide</th>\n",
       "      <th>RaderTotalt</th>\n",
       "    </tr>\n",
       "  </thead>\n",
       "  <tbody>\n",
       "    <tr>\n",
       "      <th>0</th>\n",
       "      <td>1</td>\n",
       "      <td>EUTema_36</td>\n",
       "      <td>T27 - Arbeidsmiljø</td>\n",
       "      <td>2</td>\n",
       "      <td>EUSpoersmaal_Q7132</td>\n",
       "      <td>I hvilken grad er du enig i følgende påstander...</td>\n",
       "      <td>0</td>\n",
       "      <td>Alle</td>\n",
       "      <td>Alle svar</td>\n",
       "      <td>2022-23</td>\n",
       "      <td>...</td>\n",
       "      <td>1</td>\n",
       "      <td>3</td>\n",
       "      <td>Offentlig skole</td>\n",
       "      <td>*</td>\n",
       "      <td>*</td>\n",
       "      <td>*</td>\n",
       "      <td>*</td>\n",
       "      <td>1</td>\n",
       "      <td>7236</td>\n",
       "      <td>72759548</td>\n",
       "    </tr>\n",
       "    <tr>\n",
       "      <th>1</th>\n",
       "      <td>1</td>\n",
       "      <td>EUTema_36</td>\n",
       "      <td>T27 - Arbeidsmiljø</td>\n",
       "      <td>2</td>\n",
       "      <td>EUSpoersmaal_Q7132</td>\n",
       "      <td>I hvilken grad er du enig i følgende påstander...</td>\n",
       "      <td>0</td>\n",
       "      <td>Alle</td>\n",
       "      <td>Alle svar</td>\n",
       "      <td>2022-23</td>\n",
       "      <td>...</td>\n",
       "      <td>0</td>\n",
       "      <td>-10</td>\n",
       "      <td>Alle eierformer</td>\n",
       "      <td>*</td>\n",
       "      <td>*</td>\n",
       "      <td>*</td>\n",
       "      <td>*</td>\n",
       "      <td>1</td>\n",
       "      <td>7236</td>\n",
       "      <td>72759548</td>\n",
       "    </tr>\n",
       "    <tr>\n",
       "      <th>2</th>\n",
       "      <td>1</td>\n",
       "      <td>EUTema_36</td>\n",
       "      <td>T27 - Arbeidsmiljø</td>\n",
       "      <td>2</td>\n",
       "      <td>EUSpoersmaal_Q7132</td>\n",
       "      <td>I hvilken grad er du enig i følgende påstander...</td>\n",
       "      <td>0</td>\n",
       "      <td>Alle</td>\n",
       "      <td>Alle svar</td>\n",
       "      <td>2022-23</td>\n",
       "      <td>...</td>\n",
       "      <td>1</td>\n",
       "      <td>3</td>\n",
       "      <td>Offentlig skole</td>\n",
       "      <td>*</td>\n",
       "      <td>*</td>\n",
       "      <td>*</td>\n",
       "      <td>*</td>\n",
       "      <td>1</td>\n",
       "      <td>7236</td>\n",
       "      <td>72759548</td>\n",
       "    </tr>\n",
       "    <tr>\n",
       "      <th>3</th>\n",
       "      <td>1</td>\n",
       "      <td>EUTema_36</td>\n",
       "      <td>T27 - Arbeidsmiljø</td>\n",
       "      <td>2</td>\n",
       "      <td>EUSpoersmaal_Q7132</td>\n",
       "      <td>I hvilken grad er du enig i følgende påstander...</td>\n",
       "      <td>0</td>\n",
       "      <td>Alle</td>\n",
       "      <td>Alle svar</td>\n",
       "      <td>2022-23</td>\n",
       "      <td>...</td>\n",
       "      <td>0</td>\n",
       "      <td>-10</td>\n",
       "      <td>Alle eierformer</td>\n",
       "      <td>*</td>\n",
       "      <td>*</td>\n",
       "      <td>*</td>\n",
       "      <td>*</td>\n",
       "      <td>1</td>\n",
       "      <td>7236</td>\n",
       "      <td>72759548</td>\n",
       "    </tr>\n",
       "    <tr>\n",
       "      <th>4</th>\n",
       "      <td>1</td>\n",
       "      <td>EUTema_35</td>\n",
       "      <td>T26 - Arbeidsmiljø</td>\n",
       "      <td>2</td>\n",
       "      <td>EUSpoersmaal_Q7119</td>\n",
       "      <td>Er du blitt utsatt for urettferdig behandling/...</td>\n",
       "      <td>0</td>\n",
       "      <td>Alle</td>\n",
       "      <td>Alle svar</td>\n",
       "      <td>2022-23</td>\n",
       "      <td>...</td>\n",
       "      <td>0</td>\n",
       "      <td>-10</td>\n",
       "      <td>Alle eierformer</td>\n",
       "      <td>*</td>\n",
       "      <td>*</td>\n",
       "      <td>*</td>\n",
       "      <td>*</td>\n",
       "      <td>1</td>\n",
       "      <td>7236</td>\n",
       "      <td>72759548</td>\n",
       "    </tr>\n",
       "    <tr>\n",
       "      <th>...</th>\n",
       "      <td>...</td>\n",
       "      <td>...</td>\n",
       "      <td>...</td>\n",
       "      <td>...</td>\n",
       "      <td>...</td>\n",
       "      <td>...</td>\n",
       "      <td>...</td>\n",
       "      <td>...</td>\n",
       "      <td>...</td>\n",
       "      <td>...</td>\n",
       "      <td>...</td>\n",
       "      <td>...</td>\n",
       "      <td>...</td>\n",
       "      <td>...</td>\n",
       "      <td>...</td>\n",
       "      <td>...</td>\n",
       "      <td>...</td>\n",
       "      <td>...</td>\n",
       "      <td>...</td>\n",
       "      <td>...</td>\n",
       "      <td>...</td>\n",
       "    </tr>\n",
       "    <tr>\n",
       "      <th>999995</th>\n",
       "      <td>1</td>\n",
       "      <td>EUTema_7</td>\n",
       "      <td>Vurdering for læring</td>\n",
       "      <td>2</td>\n",
       "      <td>EUSpoersmaal_Q7208</td>\n",
       "      <td>Har læreren snakket om hva som kreves for å op...</td>\n",
       "      <td>1</td>\n",
       "      <td>1</td>\n",
       "      <td>Ikke i noen fag</td>\n",
       "      <td>2022-23</td>\n",
       "      <td>...</td>\n",
       "      <td>0</td>\n",
       "      <td>-10</td>\n",
       "      <td>Alle eierformer</td>\n",
       "      <td>*</td>\n",
       "      <td>*</td>\n",
       "      <td>*</td>\n",
       "      <td>*</td>\n",
       "      <td>139</td>\n",
       "      <td>7236</td>\n",
       "      <td>72759548</td>\n",
       "    </tr>\n",
       "    <tr>\n",
       "      <th>999996</th>\n",
       "      <td>1</td>\n",
       "      <td>EUTema_7</td>\n",
       "      <td>Vurdering for læring</td>\n",
       "      <td>2</td>\n",
       "      <td>EUSpoersmaal_Q7208</td>\n",
       "      <td>Har læreren snakket om hva som kreves for å op...</td>\n",
       "      <td>1</td>\n",
       "      <td>1</td>\n",
       "      <td>Ikke i noen fag</td>\n",
       "      <td>2022-23</td>\n",
       "      <td>...</td>\n",
       "      <td>0</td>\n",
       "      <td>-10</td>\n",
       "      <td>Alle eierformer</td>\n",
       "      <td>*</td>\n",
       "      <td>*</td>\n",
       "      <td>*</td>\n",
       "      <td>*</td>\n",
       "      <td>139</td>\n",
       "      <td>7236</td>\n",
       "      <td>72759548</td>\n",
       "    </tr>\n",
       "    <tr>\n",
       "      <th>999997</th>\n",
       "      <td>1</td>\n",
       "      <td>EUTema_7</td>\n",
       "      <td>Vurdering for læring</td>\n",
       "      <td>2</td>\n",
       "      <td>EUSpoersmaal_Q7208</td>\n",
       "      <td>Har læreren snakket om hva som kreves for å op...</td>\n",
       "      <td>1</td>\n",
       "      <td>1</td>\n",
       "      <td>Ikke i noen fag</td>\n",
       "      <td>2022-23</td>\n",
       "      <td>...</td>\n",
       "      <td>0</td>\n",
       "      <td>-10</td>\n",
       "      <td>Alle eierformer</td>\n",
       "      <td>*</td>\n",
       "      <td>*</td>\n",
       "      <td>*</td>\n",
       "      <td>*</td>\n",
       "      <td>139</td>\n",
       "      <td>7236</td>\n",
       "      <td>72759548</td>\n",
       "    </tr>\n",
       "    <tr>\n",
       "      <th>999998</th>\n",
       "      <td>1</td>\n",
       "      <td>EUTema_7</td>\n",
       "      <td>Vurdering for læring</td>\n",
       "      <td>2</td>\n",
       "      <td>EUSpoersmaal_Q7208</td>\n",
       "      <td>Har læreren snakket om hva som kreves for å op...</td>\n",
       "      <td>1</td>\n",
       "      <td>1</td>\n",
       "      <td>Ikke i noen fag</td>\n",
       "      <td>2022-23</td>\n",
       "      <td>...</td>\n",
       "      <td>0</td>\n",
       "      <td>-10</td>\n",
       "      <td>Alle eierformer</td>\n",
       "      <td>*</td>\n",
       "      <td>*</td>\n",
       "      <td>*</td>\n",
       "      <td>*</td>\n",
       "      <td>139</td>\n",
       "      <td>7236</td>\n",
       "      <td>72759548</td>\n",
       "    </tr>\n",
       "    <tr>\n",
       "      <th>999999</th>\n",
       "      <td>1</td>\n",
       "      <td>EUTema_7</td>\n",
       "      <td>Vurdering for læring</td>\n",
       "      <td>2</td>\n",
       "      <td>EUSpoersmaal_Q7208</td>\n",
       "      <td>Har læreren snakket om hva som kreves for å op...</td>\n",
       "      <td>1</td>\n",
       "      <td>1</td>\n",
       "      <td>Ikke i noen fag</td>\n",
       "      <td>2022-23</td>\n",
       "      <td>...</td>\n",
       "      <td>0</td>\n",
       "      <td>-10</td>\n",
       "      <td>Alle eierformer</td>\n",
       "      <td>*</td>\n",
       "      <td>*</td>\n",
       "      <td>*</td>\n",
       "      <td>*</td>\n",
       "      <td>139</td>\n",
       "      <td>7236</td>\n",
       "      <td>72759548</td>\n",
       "    </tr>\n",
       "  </tbody>\n",
       "</table>\n",
       "<p>1000000 rows × 41 columns</p>\n",
       "</div>"
      ],
      "text/plain": [
       "        TemaNivaa   Temakode              Temanavn  SpoersmaalNivaa  \\\n",
       "0               1  EUTema_36    T27 - Arbeidsmiljø                2   \n",
       "1               1  EUTema_36    T27 - Arbeidsmiljø                2   \n",
       "2               1  EUTema_36    T27 - Arbeidsmiljø                2   \n",
       "3               1  EUTema_36    T27 - Arbeidsmiljø                2   \n",
       "4               1  EUTema_35    T26 - Arbeidsmiljø                2   \n",
       "...           ...        ...                   ...              ...   \n",
       "999995          1   EUTema_7  Vurdering for læring                2   \n",
       "999996          1   EUTema_7  Vurdering for læring                2   \n",
       "999997          1   EUTema_7  Vurdering for læring                2   \n",
       "999998          1   EUTema_7  Vurdering for læring                2   \n",
       "999999          1   EUTema_7  Vurdering for læring                2   \n",
       "\n",
       "            Spoersmaalkode                                     Spoersmaalnavn  \\\n",
       "0       EUSpoersmaal_Q7132  I hvilken grad er du enig i følgende påstander...   \n",
       "1       EUSpoersmaal_Q7132  I hvilken grad er du enig i følgende påstander...   \n",
       "2       EUSpoersmaal_Q7132  I hvilken grad er du enig i følgende påstander...   \n",
       "3       EUSpoersmaal_Q7132  I hvilken grad er du enig i følgende påstander...   \n",
       "4       EUSpoersmaal_Q7119  Er du blitt utsatt for urettferdig behandling/...   \n",
       "...                    ...                                                ...   \n",
       "999995  EUSpoersmaal_Q7208  Har læreren snakket om hva som kreves for å op...   \n",
       "999996  EUSpoersmaal_Q7208  Har læreren snakket om hva som kreves for å op...   \n",
       "999997  EUSpoersmaal_Q7208  Har læreren snakket om hva som kreves for å op...   \n",
       "999998  EUSpoersmaal_Q7208  Har læreren snakket om hva som kreves for å op...   \n",
       "999999  EUSpoersmaal_Q7208  Har læreren snakket om hva som kreves for å op...   \n",
       "\n",
       "        SvaralternativNivaa SvaralternativKode SvaralternativNavn  \\\n",
       "0                         0               Alle          Alle svar   \n",
       "1                         0               Alle          Alle svar   \n",
       "2                         0               Alle          Alle svar   \n",
       "3                         0               Alle          Alle svar   \n",
       "4                         0               Alle          Alle svar   \n",
       "...                     ...                ...                ...   \n",
       "999995                    1                  1    Ikke i noen fag   \n",
       "999996                    1                  1    Ikke i noen fag   \n",
       "999997                    1                  1    Ikke i noen fag   \n",
       "999998                    1                  1    Ikke i noen fag   \n",
       "999999                    1                  1    Ikke i noen fag   \n",
       "\n",
       "       Skoleaarnavn  ...  EierformNivaa Eierformkode     EierformNavn  Score  \\\n",
       "0           2022-23  ...              1            3  Offentlig skole      *   \n",
       "1           2022-23  ...              0          -10  Alle eierformer      *   \n",
       "2           2022-23  ...              1            3  Offentlig skole      *   \n",
       "3           2022-23  ...              0          -10  Alle eierformer      *   \n",
       "4           2022-23  ...              0          -10  Alle eierformer      *   \n",
       "...             ...  ...            ...          ...              ...    ...   \n",
       "999995      2022-23  ...              0          -10  Alle eierformer      *   \n",
       "999996      2022-23  ...              0          -10  Alle eierformer      *   \n",
       "999997      2022-23  ...              0          -10  Alle eierformer      *   \n",
       "999998      2022-23  ...              0          -10  Alle eierformer      *   \n",
       "999999      2022-23  ...              0          -10  Alle eierformer      *   \n",
       "\n",
       "       Standardavvik AndelBesvart AntallBesvart  Sidenummer RaderSide  \\\n",
       "0                  *            *             *           1      7236   \n",
       "1                  *            *             *           1      7236   \n",
       "2                  *            *             *           1      7236   \n",
       "3                  *            *             *           1      7236   \n",
       "4                  *            *             *           1      7236   \n",
       "...              ...          ...           ...         ...       ...   \n",
       "999995             *            *             *         139      7236   \n",
       "999996             *            *             *         139      7236   \n",
       "999997             *            *             *         139      7236   \n",
       "999998             *            *             *         139      7236   \n",
       "999999             *            *             *         139      7236   \n",
       "\n",
       "       RaderTotalt  \n",
       "0         72759548  \n",
       "1         72759548  \n",
       "2         72759548  \n",
       "3         72759548  \n",
       "4         72759548  \n",
       "...            ...  \n",
       "999995    72759548  \n",
       "999996    72759548  \n",
       "999997    72759548  \n",
       "999998    72759548  \n",
       "999999    72759548  \n",
       "\n",
       "[1000000 rows x 41 columns]"
      ]
     },
     "execution_count": 51,
     "metadata": {},
     "output_type": "execute_result"
    }
   ],
   "source": [
    "# Importing the first 10-rows into a Pandas dataframe, to look at the data\n",
    "df = pd.read_csv('data/VGO_EUV_Tema_2022.csv', nrows=1000000, sep=\";\", encoding='cp1252')\n",
    "df"
   ]
  },
  {
   "cell_type": "code",
   "execution_count": 61,
   "id": "f227c7f7",
   "metadata": {},
   "outputs": [
    {
     "name": "stderr",
     "output_type": "stream",
     "text": [
      "C:\\Users\\ARFEV\\AppData\\Local\\Temp\\ipykernel_12028\\2868550784.py:2: DtypeWarning: Columns (7,15,37) have mixed types. Specify dtype option on import or set low_memory=False.\n",
      "  df = pd.read_csv('data/VGO_EUV_Tema_2022.csv', nrows=1000000, sep=\";\", encoding='cp1252')\n"
     ]
    },
    {
     "name": "stdout",
     "output_type": "stream",
     "text": [
      "159.46924379999837\n"
     ]
    }
   ],
   "source": [
    "start = time.perf_counter()\n",
    "df = pd.read_csv('data/VGO_EUV_Tema_2022.csv', nrows=1000000, sep=\";\", encoding='cp1252')\n",
    "df['key'] = df.apply(key_tester, axis=1)\n",
    "df['key'].to_csv(\"data/pandas_test.csv\", mode='a', index=False, header=False)\n",
    "end = time.perf_counter()\n",
    "print(end - start)"
   ]
  },
  {
   "cell_type": "code",
   "execution_count": 59,
   "id": "6b44a4e8",
   "metadata": {},
   "outputs": [
    {
     "data": {
      "text/plain": [
       "4.525"
      ]
     },
     "execution_count": 59,
     "metadata": {},
     "output_type": "execute_result"
    }
   ],
   "source": [
    "181 / 40"
   ]
  },
  {
   "cell_type": "code",
   "execution_count": null,
   "id": "19a22f58",
   "metadata": {},
   "outputs": [],
   "source": []
  },
  {
   "cell_type": "code",
   "execution_count": 40,
   "id": "7de9ed64",
   "metadata": {},
   "outputs": [],
   "source": [
    "column_list = df.columns\n",
    "\n",
    "def key_maker(row):\n",
    "    key = str()\n",
    "    for column in column_list:\n",
    "        key += row[column]\n",
    "    return key\n",
    "\n",
    "def hash_maker(input_string):\n",
    "    return hashlib.sha256(input_string.encode('utf-8')).hexdigest()"
   ]
  },
  {
   "cell_type": "code",
   "execution_count": null,
   "id": "9544e3d7",
   "metadata": {},
   "outputs": [],
   "source": []
  },
  {
   "cell_type": "code",
   "execution_count": 41,
   "id": "0aca4b0f",
   "metadata": {},
   "outputs": [
    {
     "name": "stdout",
     "output_type": "stream",
     "text": [
      "130.14720880000004\n"
     ]
    }
   ],
   "source": [
    "start = time.perf_counter()\n",
    "df['key'] = df.apply(key_maker, axis=1)\n",
    "end = time.perf_counter()\n",
    "print(end - start)"
   ]
  },
  {
   "cell_type": "code",
   "execution_count": 42,
   "id": "e6f5ae2f",
   "metadata": {},
   "outputs": [
    {
     "name": "stdout",
     "output_type": "stream",
     "text": [
      "3.0469804999997905\n"
     ]
    }
   ],
   "source": [
    "start = time.perf_counter()\n",
    "df['key_hash'] = df['key'].map(hash_maker)\n",
    "end = time.perf_counter()\n",
    "print(end - start)"
   ]
  },
  {
   "cell_type": "code",
   "execution_count": null,
   "id": "ce0054c7",
   "metadata": {},
   "outputs": [],
   "source": []
  },
  {
   "cell_type": "code",
   "execution_count": 43,
   "id": "278d379c",
   "metadata": {},
   "outputs": [],
   "source": [
    "hash_series = df['key_hash']\n",
    "test = hash_series.to_numpy()"
   ]
  },
  {
   "cell_type": "code",
   "execution_count": 44,
   "id": "b938c819",
   "metadata": {},
   "outputs": [],
   "source": [
    "hs_1 = hash_series.copy()\n",
    "hs_2 = hash_series.copy()"
   ]
  },
  {
   "cell_type": "code",
   "execution_count": 45,
   "id": "9fa02f07",
   "metadata": {},
   "outputs": [],
   "source": [
    "na_1 = test.copy()\n",
    "na_2 = test.copy()"
   ]
  },
  {
   "cell_type": "code",
   "execution_count": null,
   "id": "b09724e8",
   "metadata": {},
   "outputs": [],
   "source": []
  },
  {
   "cell_type": "code",
   "execution_count": 51,
   "id": "dd0ba3d1",
   "metadata": {},
   "outputs": [
    {
     "ename": "KeyboardInterrupt",
     "evalue": "",
     "output_type": "error",
     "traceback": [
      "\u001b[1;31m---------------------------------------------------------------------------\u001b[0m",
      "\u001b[1;31mKeyboardInterrupt\u001b[0m                         Traceback (most recent call last)",
      "Input \u001b[1;32mIn [51]\u001b[0m, in \u001b[0;36m<cell line: 2>\u001b[1;34m()\u001b[0m\n\u001b[0;32m      1\u001b[0m start \u001b[38;5;241m=\u001b[39m time\u001b[38;5;241m.\u001b[39mperf_counter()\n\u001b[1;32m----> 2\u001b[0m \u001b[38;5;28mprint\u001b[39m( \u001b[38;5;28mlen\u001b[39m(\u001b[43mnp\u001b[49m\u001b[38;5;241;43m.\u001b[39;49m\u001b[43misin\u001b[49m\u001b[43m(\u001b[49m\u001b[43mna_1\u001b[49m\u001b[43m,\u001b[49m\u001b[43m \u001b[49m\u001b[43mna_2\u001b[49m\u001b[43m,\u001b[49m\u001b[43m \u001b[49m\u001b[43minvert\u001b[49m\u001b[38;5;241;43m=\u001b[39;49m\u001b[38;5;28;43;01mTrue\u001b[39;49;00m\u001b[43m)\u001b[49m))\n\u001b[0;32m      3\u001b[0m end \u001b[38;5;241m=\u001b[39m time\u001b[38;5;241m.\u001b[39mperf_counter()\n\u001b[0;32m      4\u001b[0m \u001b[38;5;28mprint\u001b[39m(\u001b[38;5;124m\"\u001b[39m\u001b[38;5;124mtime:\u001b[39m\u001b[38;5;124m\"\u001b[39m, end \u001b[38;5;241m-\u001b[39m start)\n",
      "File \u001b[1;32m<__array_function__ internals>:200\u001b[0m, in \u001b[0;36misin\u001b[1;34m(*args, **kwargs)\u001b[0m\n",
      "File \u001b[1;32m~\\Anaconda3\\lib\\site-packages\\numpy\\lib\\arraysetops.py:890\u001b[0m, in \u001b[0;36misin\u001b[1;34m(element, test_elements, assume_unique, invert, kind)\u001b[0m\n\u001b[0;32m    769\u001b[0m \u001b[38;5;250m\u001b[39m\u001b[38;5;124;03m\"\"\"\u001b[39;00m\n\u001b[0;32m    770\u001b[0m \u001b[38;5;124;03mCalculates ``element in test_elements``, broadcasting over `element` only.\u001b[39;00m\n\u001b[0;32m    771\u001b[0m \u001b[38;5;124;03mReturns a boolean array of the same shape as `element` that is True\u001b[39;00m\n\u001b[1;32m   (...)\u001b[0m\n\u001b[0;32m    887\u001b[0m \u001b[38;5;124;03m       [ True, False]])\u001b[39;00m\n\u001b[0;32m    888\u001b[0m \u001b[38;5;124;03m\"\"\"\u001b[39;00m\n\u001b[0;32m    889\u001b[0m element \u001b[38;5;241m=\u001b[39m np\u001b[38;5;241m.\u001b[39masarray(element)\n\u001b[1;32m--> 890\u001b[0m \u001b[38;5;28;01mreturn\u001b[39;00m \u001b[43min1d\u001b[49m\u001b[43m(\u001b[49m\u001b[43melement\u001b[49m\u001b[43m,\u001b[49m\u001b[43m \u001b[49m\u001b[43mtest_elements\u001b[49m\u001b[43m,\u001b[49m\u001b[43m \u001b[49m\u001b[43massume_unique\u001b[49m\u001b[38;5;241;43m=\u001b[39;49m\u001b[43massume_unique\u001b[49m\u001b[43m,\u001b[49m\n\u001b[0;32m    891\u001b[0m \u001b[43m            \u001b[49m\u001b[43minvert\u001b[49m\u001b[38;5;241;43m=\u001b[39;49m\u001b[43minvert\u001b[49m\u001b[43m,\u001b[49m\u001b[43m \u001b[49m\u001b[43mkind\u001b[49m\u001b[38;5;241;43m=\u001b[39;49m\u001b[43mkind\u001b[49m\u001b[43m)\u001b[49m\u001b[38;5;241m.\u001b[39mreshape(element\u001b[38;5;241m.\u001b[39mshape)\n",
      "File \u001b[1;32m<__array_function__ internals>:200\u001b[0m, in \u001b[0;36min1d\u001b[1;34m(*args, **kwargs)\u001b[0m\n",
      "File \u001b[1;32m~\\Anaconda3\\lib\\site-packages\\numpy\\lib\\arraysetops.py:729\u001b[0m, in \u001b[0;36min1d\u001b[1;34m(ar1, ar2, assume_unique, invert, kind)\u001b[0m\n\u001b[0;32m    727\u001b[0m     mask \u001b[38;5;241m=\u001b[39m np\u001b[38;5;241m.\u001b[39mones(\u001b[38;5;28mlen\u001b[39m(ar1), dtype\u001b[38;5;241m=\u001b[39m\u001b[38;5;28mbool\u001b[39m)\n\u001b[0;32m    728\u001b[0m     \u001b[38;5;28;01mfor\u001b[39;00m a \u001b[38;5;129;01min\u001b[39;00m ar2:\n\u001b[1;32m--> 729\u001b[0m         mask \u001b[38;5;241m&\u001b[39m\u001b[38;5;241m=\u001b[39m (ar1 \u001b[38;5;241m!=\u001b[39m a)\n\u001b[0;32m    730\u001b[0m \u001b[38;5;28;01melse\u001b[39;00m:\n\u001b[0;32m    731\u001b[0m     mask \u001b[38;5;241m=\u001b[39m np\u001b[38;5;241m.\u001b[39mzeros(\u001b[38;5;28mlen\u001b[39m(ar1), dtype\u001b[38;5;241m=\u001b[39m\u001b[38;5;28mbool\u001b[39m)\n",
      "\u001b[1;31mKeyboardInterrupt\u001b[0m: "
     ]
    }
   ],
   "source": [
    "start = time.perf_counter()\n",
    "print( len(np.isin(na_1, na_2, invert=True)))\n",
    "end = time.perf_counter()\n",
    "print(\"time:\", end - start)"
   ]
  },
  {
   "cell_type": "code",
   "execution_count": 48,
   "id": "aa84e52f",
   "metadata": {},
   "outputs": [
    {
     "name": "stdout",
     "output_type": "stream",
     "text": [
      "True\n",
      "0.6687099999999191\n"
     ]
    }
   ],
   "source": [
    "start = time.perf_counter()\n",
    "print( all(hs_1.isin(hs_2[:]) ))\n",
    "end = time.perf_counter()\n",
    "print(end - start)"
   ]
  },
  {
   "cell_type": "code",
   "execution_count": 50,
   "id": "e51fbe7b",
   "metadata": {},
   "outputs": [
    {
     "name": "stdout",
     "output_type": "stream",
     "text": [
      "False\n",
      "0.6025887000000694\n"
     ]
    }
   ],
   "source": [
    "start = time.perf_counter()\n",
    "print(all (hs_1.isin(na_1[1:]) ))\n",
    "end = time.perf_counter()\n",
    "print(end - start)"
   ]
  },
  {
   "cell_type": "code",
   "execution_count": 51,
   "id": "39c62553",
   "metadata": {},
   "outputs": [
    {
     "name": "stdout",
     "output_type": "stream",
     "text": [
      "2000000\n",
      "228053\n"
     ]
    }
   ],
   "source": [
    "print(len(hs_1))\n",
    "print(len(set(hs_1)))"
   ]
  },
  {
   "cell_type": "code",
   "execution_count": 27,
   "id": "07bc4a9f",
   "metadata": {},
   "outputs": [
    {
     "data": {
      "text/plain": [
       "1999000"
      ]
     },
     "execution_count": 27,
     "metadata": {},
     "output_type": "execute_result"
    }
   ],
   "source": [
    "len(na_1[1000:])"
   ]
  },
  {
   "cell_type": "code",
   "execution_count": 19,
   "id": "410d0134",
   "metadata": {},
   "outputs": [
    {
     "data": {
      "text/plain": [
       "0          29a8d06b8693886147e233ccbbe34e36c9f8b9d8550e4e...\n",
       "1          aabbf8a261e44fbb1662b9ec4ab526d66976657fe69c45...\n",
       "2          d7a846a5468d21a2ebacb1c21f78ff702d28c6f682d165...\n",
       "3          f2931cf0de54988d94294845084e0711040247107fb848...\n",
       "4          7ed3b7cbd352c5953b08394a86c7624703ab295b452aad...\n",
       "                                 ...                        \n",
       "1999995    a9474de9276825a5d59bb987d6f6e4ea836becd51831bc...\n",
       "1999996    d43ec5e023e56b5ff0e678f2e7150048f7093d2a3426a2...\n",
       "1999997    23361d3fc15bf32efbf1cd8a054544dfb6b2b8fb78f1fd...\n",
       "1999998    a4df3fcde2d41405317bbf2d03403b6e4a2383f6b28de7...\n",
       "1999999    2589cb6b68bc15400f1bc793fc1191bf3c78e1a23cd0c9...\n",
       "Name: key_hash, Length: 2000000, dtype: object"
      ]
     },
     "execution_count": 19,
     "metadata": {},
     "output_type": "execute_result"
    }
   ],
   "source": [
    "hs_1"
   ]
  },
  {
   "cell_type": "code",
   "execution_count": null,
   "id": "8f21ec09",
   "metadata": {},
   "outputs": [],
   "source": [
    "# Very slow: \n",
    "\n",
    "start = time.perf_counter()\n",
    "np.isin(na_1, na_2)\n",
    "end = time.perf_counter()\n",
    "print(end - start)"
   ]
  },
  {
   "cell_type": "code",
   "execution_count": null,
   "id": "f4d3860c",
   "metadata": {},
   "outputs": [],
   "source": [
    "np.version.version"
   ]
  },
  {
   "cell_type": "code",
   "execution_count": 11,
   "id": "6b724339",
   "metadata": {
    "scrolled": true
   },
   "outputs": [
    {
     "data": {
      "text/plain": [
       "Index                          128\n",
       "TemaNivaa                 16000000\n",
       "Temakode                 131129785\n",
       "Temanavn                 199740430\n",
       "SpoersmaalNivaa           16000000\n",
       "Spoersmaalkode           150000000\n",
       "Spoersmaalnavn           405134807\n",
       "SvaralternativNivaa       16000000\n",
       "SvaralternativKode        90092887\n",
       "SvaralternativNavn       143890328\n",
       "Skoleaarnavn             128000000\n",
       "EnhetNivaa                16000000\n",
       "Nasjonaltkode            116000000\n",
       "Nasjonalt                135994456\n",
       "Fylkekode                 16000000\n",
       "Fylke                    153223497\n",
       "Organisasjonsnummer      107241745\n",
       "EnhetNavn                209238685\n",
       "GruppeNivaa               16000000\n",
       "GruppeKode               139329092\n",
       "GruppeNavn               126933571\n",
       "ProgramomraadeNivaa       16000000\n",
       "UtdanningstypeKode       120587017\n",
       "UtdanningstypeNavn       147995804\n",
       "Utdanningsprogramkode    119792520\n",
       "UtdanningsprogramNavn    155410566\n",
       "TrinnNivaa                16000000\n",
       "TrinnKode                 16000000\n",
       "Trinnnavn                202000000\n",
       "KjoennNivaa               16000000\n",
       "KjoennKode               116000000\n",
       "Kjoenn                   147678221\n",
       "EierformNivaa             16000000\n",
       "Eierformkode              16000000\n",
       "EierformNavn             143782364\n",
       "Score                    111929102\n",
       "Standardavvik            111929102\n",
       "AndelBesvart             115239034\n",
       "AntallBesvart            112479759\n",
       "Sidenummer                16000000\n",
       "RaderSide                 16000000\n",
       "RaderTotalt               16000000\n",
       "key                      214680908\n",
       "key_hash                 242000000\n",
       "dtype: int64"
      ]
     },
     "execution_count": 11,
     "metadata": {},
     "output_type": "execute_result"
    }
   ],
   "source": [
    "df.memory_usage(deep=True)"
   ]
  },
  {
   "cell_type": "code",
   "execution_count": 12,
   "id": "2d3537bf",
   "metadata": {},
   "outputs": [
    {
     "data": {
      "text/plain": [
       "4537453808"
      ]
     },
     "execution_count": 12,
     "metadata": {},
     "output_type": "execute_result"
    }
   ],
   "source": [
    "df.memory_usage(deep=True).sum()"
   ]
  },
  {
   "cell_type": "code",
   "execution_count": 13,
   "id": "1e12eb36",
   "metadata": {},
   "outputs": [
    {
     "data": {
      "text/plain": [
       "242000128"
      ]
     },
     "execution_count": 13,
     "metadata": {},
     "output_type": "execute_result"
    }
   ],
   "source": [
    "df['key_hash'].memory_usage(deep=True)"
   ]
  },
  {
   "cell_type": "code",
   "execution_count": 14,
   "id": "119493dd",
   "metadata": {},
   "outputs": [
    {
     "data": {
      "text/plain": [
       "4537453824"
      ]
     },
     "execution_count": 14,
     "metadata": {},
     "output_type": "execute_result"
    }
   ],
   "source": [
    "import sys\n",
    "sys.getsizeof(df)"
   ]
  },
  {
   "cell_type": "code",
   "execution_count": 15,
   "id": "624c0195",
   "metadata": {},
   "outputs": [
    {
     "data": {
      "text/plain": [
       "242000144"
      ]
     },
     "execution_count": 15,
     "metadata": {},
     "output_type": "execute_result"
    }
   ],
   "source": [
    "sys.getsizeof(df['key_hash'])"
   ]
  },
  {
   "cell_type": "code",
   "execution_count": 114,
   "id": "430aff7a",
   "metadata": {},
   "outputs": [
    {
     "data": {
      "text/plain": [
       "(104, 605000144)"
      ]
     },
     "execution_count": 114,
     "metadata": {},
     "output_type": "execute_result"
    }
   ],
   "source": [
    "sys.getsizeof(test), sys.getsizeof(hash_series)"
   ]
  },
  {
   "cell_type": "code",
   "execution_count": 110,
   "id": "4125d47f",
   "metadata": {},
   "outputs": [
    {
     "data": {
      "text/plain": [
       "5000000"
      ]
     },
     "execution_count": 110,
     "metadata": {},
     "output_type": "execute_result"
    }
   ],
   "source": [
    "len(test)"
   ]
  },
  {
   "cell_type": "code",
   "execution_count": 36,
   "id": "a832d954",
   "metadata": {},
   "outputs": [],
   "source": [
    "hash_series = df['key_hash']"
   ]
  },
  {
   "cell_type": "code",
   "execution_count": 17,
   "id": "eabc68e5",
   "metadata": {},
   "outputs": [
    {
     "data": {
      "text/plain": [
       "242000128"
      ]
     },
     "execution_count": 17,
     "metadata": {},
     "output_type": "execute_result"
    }
   ],
   "source": [
    "hash_series.memory_usage(deep=True)"
   ]
  },
  {
   "cell_type": "code",
   "execution_count": 37,
   "id": "ad66ac5d",
   "metadata": {},
   "outputs": [],
   "source": [
    "test = hash_series.to_numpy()"
   ]
  },
  {
   "cell_type": "code",
   "execution_count": 21,
   "id": "80594d77",
   "metadata": {},
   "outputs": [
    {
     "data": {
      "text/plain": [
       "16000000"
      ]
     },
     "execution_count": 21,
     "metadata": {},
     "output_type": "execute_result"
    }
   ],
   "source": [
    "test.nbytes"
   ]
  },
  {
   "cell_type": "code",
   "execution_count": 20,
   "id": "4f14166c",
   "metadata": {},
   "outputs": [
    {
     "data": {
      "text/plain": [
       "0.06611566750906843"
      ]
     },
     "execution_count": 20,
     "metadata": {},
     "output_type": "execute_result"
    }
   ],
   "source": [
    "16000000/242000128"
   ]
  },
  {
   "cell_type": "markdown",
   "id": "43817ad1",
   "metadata": {},
   "source": [
    "https://towardsdatascience.com/forgetful-pandas-98b50c1193a9"
   ]
  },
  {
   "cell_type": "code",
   "execution_count": null,
   "id": "0a4ec8f8",
   "metadata": {},
   "outputs": [],
   "source": []
  },
  {
   "cell_type": "code",
   "execution_count": 66,
   "id": "701e941e",
   "metadata": {},
   "outputs": [],
   "source": [
    "#del df"
   ]
  },
  {
   "cell_type": "code",
   "execution_count": 67,
   "id": "df1a0d18",
   "metadata": {},
   "outputs": [
    {
     "data": {
      "text/plain": [
       "(505, 5, 13)"
      ]
     },
     "execution_count": 67,
     "metadata": {},
     "output_type": "execute_result"
    }
   ],
   "source": [
    "import pandas as pd\n",
    "import sys  #system specific parameters and names\n",
    "import gc   #garbage collector interface\n",
    "\n",
    "gc.get_count()"
   ]
  },
  {
   "cell_type": "code",
   "execution_count": 68,
   "id": "42b01f73",
   "metadata": {},
   "outputs": [
    {
     "data": {
      "text/plain": [
       "(12, 0, 0)"
      ]
     },
     "execution_count": 68,
     "metadata": {},
     "output_type": "execute_result"
    }
   ],
   "source": [
    "gc.collect()\n",
    "gc.get_count()"
   ]
  },
  {
   "cell_type": "markdown",
   "id": "0a75c933",
   "metadata": {},
   "source": [
    "<div style=\"background-color: #DCE2F0\"><br>\n",
    "   <h2 style=\"font-size: 26pt; color: #50586C; padding-left: 40px;\">2. Importing a sample of data</h2>\n",
    "</div>\n",
    "\n",
    "\n",
    "<div style=\"background-color: #DCE2F0\"><br>\n",
    "    <span style=\"color: #50586C; padding-left: 40px\">Her er litt vanlig skrift</span><br>\n",
    "    <span style=\"color: #50586C; padding-left: 40px\">Her er litt vanlig skrift</span><br><br>\n",
    "</div>"
   ]
  },
  {
   "cell_type": "code",
   "execution_count": 92,
   "id": "90823a12",
   "metadata": {},
   "outputs": [
    {
     "name": "stderr",
     "output_type": "stream",
     "text": [
      "C:\\Users\\ARFEV\\AppData\\Local\\Temp\\ipykernel_7836\\1010459658.py:1: DtypeWarning: Columns (7,15,34,35,36,37) have mixed types. Specify dtype option on import or set low_memory=False.\n",
      "  df = pd.read_csv('data/VGO-EUV-Tema-2022.zip', nrows=5000000, sep=\";\", encoding='cp1252', compression='zip')\n"
     ]
    },
    {
     "data": {
      "text/html": [
       "<div>\n",
       "<style scoped>\n",
       "    .dataframe tbody tr th:only-of-type {\n",
       "        vertical-align: middle;\n",
       "    }\n",
       "\n",
       "    .dataframe tbody tr th {\n",
       "        vertical-align: top;\n",
       "    }\n",
       "\n",
       "    .dataframe thead th {\n",
       "        text-align: right;\n",
       "    }\n",
       "</style>\n",
       "<table border=\"1\" class=\"dataframe\">\n",
       "  <thead>\n",
       "    <tr style=\"text-align: right;\">\n",
       "      <th></th>\n",
       "      <th>TemaNivaa</th>\n",
       "      <th>Temakode</th>\n",
       "      <th>Temanavn</th>\n",
       "      <th>SpoersmaalNivaa</th>\n",
       "      <th>Spoersmaalkode</th>\n",
       "      <th>Spoersmaalnavn</th>\n",
       "      <th>SvaralternativNivaa</th>\n",
       "      <th>SvaralternativKode</th>\n",
       "      <th>SvaralternativNavn</th>\n",
       "      <th>Skoleaarnavn</th>\n",
       "      <th>...</th>\n",
       "      <th>EierformNivaa</th>\n",
       "      <th>Eierformkode</th>\n",
       "      <th>EierformNavn</th>\n",
       "      <th>Score</th>\n",
       "      <th>Standardavvik</th>\n",
       "      <th>AndelBesvart</th>\n",
       "      <th>AntallBesvart</th>\n",
       "      <th>Sidenummer</th>\n",
       "      <th>RaderSide</th>\n",
       "      <th>RaderTotalt</th>\n",
       "    </tr>\n",
       "  </thead>\n",
       "  <tbody>\n",
       "    <tr>\n",
       "      <th>0</th>\n",
       "      <td>1</td>\n",
       "      <td>EUTema_36</td>\n",
       "      <td>T27 - Arbeidsmiljø</td>\n",
       "      <td>2</td>\n",
       "      <td>EUSpoersmaal_Q7132</td>\n",
       "      <td>I hvilken grad er du enig i følgende påstander...</td>\n",
       "      <td>0</td>\n",
       "      <td>Alle</td>\n",
       "      <td>Alle svar</td>\n",
       "      <td>2022-23</td>\n",
       "      <td>...</td>\n",
       "      <td>1</td>\n",
       "      <td>3</td>\n",
       "      <td>Offentlig skole</td>\n",
       "      <td>*</td>\n",
       "      <td>*</td>\n",
       "      <td>*</td>\n",
       "      <td>*</td>\n",
       "      <td>1</td>\n",
       "      <td>7236</td>\n",
       "      <td>72759548</td>\n",
       "    </tr>\n",
       "    <tr>\n",
       "      <th>1</th>\n",
       "      <td>1</td>\n",
       "      <td>EUTema_36</td>\n",
       "      <td>T27 - Arbeidsmiljø</td>\n",
       "      <td>2</td>\n",
       "      <td>EUSpoersmaal_Q7132</td>\n",
       "      <td>I hvilken grad er du enig i følgende påstander...</td>\n",
       "      <td>0</td>\n",
       "      <td>Alle</td>\n",
       "      <td>Alle svar</td>\n",
       "      <td>2022-23</td>\n",
       "      <td>...</td>\n",
       "      <td>0</td>\n",
       "      <td>-10</td>\n",
       "      <td>Alle eierformer</td>\n",
       "      <td>*</td>\n",
       "      <td>*</td>\n",
       "      <td>*</td>\n",
       "      <td>*</td>\n",
       "      <td>1</td>\n",
       "      <td>7236</td>\n",
       "      <td>72759548</td>\n",
       "    </tr>\n",
       "    <tr>\n",
       "      <th>2</th>\n",
       "      <td>1</td>\n",
       "      <td>EUTema_36</td>\n",
       "      <td>T27 - Arbeidsmiljø</td>\n",
       "      <td>2</td>\n",
       "      <td>EUSpoersmaal_Q7132</td>\n",
       "      <td>I hvilken grad er du enig i følgende påstander...</td>\n",
       "      <td>0</td>\n",
       "      <td>Alle</td>\n",
       "      <td>Alle svar</td>\n",
       "      <td>2022-23</td>\n",
       "      <td>...</td>\n",
       "      <td>1</td>\n",
       "      <td>3</td>\n",
       "      <td>Offentlig skole</td>\n",
       "      <td>*</td>\n",
       "      <td>*</td>\n",
       "      <td>*</td>\n",
       "      <td>*</td>\n",
       "      <td>1</td>\n",
       "      <td>7236</td>\n",
       "      <td>72759548</td>\n",
       "    </tr>\n",
       "    <tr>\n",
       "      <th>3</th>\n",
       "      <td>1</td>\n",
       "      <td>EUTema_36</td>\n",
       "      <td>T27 - Arbeidsmiljø</td>\n",
       "      <td>2</td>\n",
       "      <td>EUSpoersmaal_Q7132</td>\n",
       "      <td>I hvilken grad er du enig i følgende påstander...</td>\n",
       "      <td>0</td>\n",
       "      <td>Alle</td>\n",
       "      <td>Alle svar</td>\n",
       "      <td>2022-23</td>\n",
       "      <td>...</td>\n",
       "      <td>0</td>\n",
       "      <td>-10</td>\n",
       "      <td>Alle eierformer</td>\n",
       "      <td>*</td>\n",
       "      <td>*</td>\n",
       "      <td>*</td>\n",
       "      <td>*</td>\n",
       "      <td>1</td>\n",
       "      <td>7236</td>\n",
       "      <td>72759548</td>\n",
       "    </tr>\n",
       "    <tr>\n",
       "      <th>4</th>\n",
       "      <td>1</td>\n",
       "      <td>EUTema_35</td>\n",
       "      <td>T26 - Arbeidsmiljø</td>\n",
       "      <td>2</td>\n",
       "      <td>EUSpoersmaal_Q7119</td>\n",
       "      <td>Er du blitt utsatt for urettferdig behandling/...</td>\n",
       "      <td>0</td>\n",
       "      <td>Alle</td>\n",
       "      <td>Alle svar</td>\n",
       "      <td>2022-23</td>\n",
       "      <td>...</td>\n",
       "      <td>0</td>\n",
       "      <td>-10</td>\n",
       "      <td>Alle eierformer</td>\n",
       "      <td>*</td>\n",
       "      <td>*</td>\n",
       "      <td>*</td>\n",
       "      <td>*</td>\n",
       "      <td>1</td>\n",
       "      <td>7236</td>\n",
       "      <td>72759548</td>\n",
       "    </tr>\n",
       "    <tr>\n",
       "      <th>...</th>\n",
       "      <td>...</td>\n",
       "      <td>...</td>\n",
       "      <td>...</td>\n",
       "      <td>...</td>\n",
       "      <td>...</td>\n",
       "      <td>...</td>\n",
       "      <td>...</td>\n",
       "      <td>...</td>\n",
       "      <td>...</td>\n",
       "      <td>...</td>\n",
       "      <td>...</td>\n",
       "      <td>...</td>\n",
       "      <td>...</td>\n",
       "      <td>...</td>\n",
       "      <td>...</td>\n",
       "      <td>...</td>\n",
       "      <td>...</td>\n",
       "      <td>...</td>\n",
       "      <td>...</td>\n",
       "      <td>...</td>\n",
       "      <td>...</td>\n",
       "    </tr>\n",
       "    <tr>\n",
       "      <th>4999995</th>\n",
       "      <td>1</td>\n",
       "      <td>EUTema_25</td>\n",
       "      <td>T16 - Trivsel med lærerne, mestring, elevdemok...</td>\n",
       "      <td>2</td>\n",
       "      <td>EUSpoersmaal_Q7003</td>\n",
       "      <td>Hvor godt arbeid synes du elevrådet gjør på sk...</td>\n",
       "      <td>1</td>\n",
       "      <td>0</td>\n",
       "      <td>Vet ikke</td>\n",
       "      <td>2022-23</td>\n",
       "      <td>...</td>\n",
       "      <td>0</td>\n",
       "      <td>-10</td>\n",
       "      <td>Alle eierformer</td>\n",
       "      <td>*</td>\n",
       "      <td>*</td>\n",
       "      <td>*</td>\n",
       "      <td>*</td>\n",
       "      <td>691</td>\n",
       "      <td>7236</td>\n",
       "      <td>72759548</td>\n",
       "    </tr>\n",
       "    <tr>\n",
       "      <th>4999996</th>\n",
       "      <td>1</td>\n",
       "      <td>EUTema_25</td>\n",
       "      <td>T16 - Trivsel med lærerne, mestring, elevdemok...</td>\n",
       "      <td>2</td>\n",
       "      <td>EUSpoersmaal_Q7003</td>\n",
       "      <td>Hvor godt arbeid synes du elevrådet gjør på sk...</td>\n",
       "      <td>1</td>\n",
       "      <td>0</td>\n",
       "      <td>Vet ikke</td>\n",
       "      <td>2022-23</td>\n",
       "      <td>...</td>\n",
       "      <td>0</td>\n",
       "      <td>-10</td>\n",
       "      <td>Alle eierformer</td>\n",
       "      <td>*</td>\n",
       "      <td>*</td>\n",
       "      <td>*</td>\n",
       "      <td>*</td>\n",
       "      <td>691</td>\n",
       "      <td>7236</td>\n",
       "      <td>72759548</td>\n",
       "    </tr>\n",
       "    <tr>\n",
       "      <th>4999997</th>\n",
       "      <td>1</td>\n",
       "      <td>EUTema_25</td>\n",
       "      <td>T16 - Trivsel med lærerne, mestring, elevdemok...</td>\n",
       "      <td>2</td>\n",
       "      <td>EUSpoersmaal_Q7003</td>\n",
       "      <td>Hvor godt arbeid synes du elevrådet gjør på sk...</td>\n",
       "      <td>1</td>\n",
       "      <td>0</td>\n",
       "      <td>Vet ikke</td>\n",
       "      <td>2022-23</td>\n",
       "      <td>...</td>\n",
       "      <td>0</td>\n",
       "      <td>-10</td>\n",
       "      <td>Alle eierformer</td>\n",
       "      <td>*</td>\n",
       "      <td>*</td>\n",
       "      <td>*</td>\n",
       "      <td>*</td>\n",
       "      <td>691</td>\n",
       "      <td>7236</td>\n",
       "      <td>72759548</td>\n",
       "    </tr>\n",
       "    <tr>\n",
       "      <th>4999998</th>\n",
       "      <td>1</td>\n",
       "      <td>EUTema_25</td>\n",
       "      <td>T16 - Trivsel med lærerne, mestring, elevdemok...</td>\n",
       "      <td>2</td>\n",
       "      <td>EUSpoersmaal_Q7003</td>\n",
       "      <td>Hvor godt arbeid synes du elevrådet gjør på sk...</td>\n",
       "      <td>1</td>\n",
       "      <td>0</td>\n",
       "      <td>Vet ikke</td>\n",
       "      <td>2022-23</td>\n",
       "      <td>...</td>\n",
       "      <td>0</td>\n",
       "      <td>-10</td>\n",
       "      <td>Alle eierformer</td>\n",
       "      <td>*</td>\n",
       "      <td>*</td>\n",
       "      <td>*</td>\n",
       "      <td>*</td>\n",
       "      <td>691</td>\n",
       "      <td>7236</td>\n",
       "      <td>72759548</td>\n",
       "    </tr>\n",
       "    <tr>\n",
       "      <th>4999999</th>\n",
       "      <td>1</td>\n",
       "      <td>EUTema_25</td>\n",
       "      <td>T16 - Trivsel med lærerne, mestring, elevdemok...</td>\n",
       "      <td>2</td>\n",
       "      <td>EUSpoersmaal_Q7004</td>\n",
       "      <td>Hører skolen på elevenes forslag?</td>\n",
       "      <td>1</td>\n",
       "      <td>2</td>\n",
       "      <td>Sjelden</td>\n",
       "      <td>2022-23</td>\n",
       "      <td>...</td>\n",
       "      <td>0</td>\n",
       "      <td>-10</td>\n",
       "      <td>Alle eierformer</td>\n",
       "      <td>*</td>\n",
       "      <td>*</td>\n",
       "      <td>*</td>\n",
       "      <td>*</td>\n",
       "      <td>691</td>\n",
       "      <td>7236</td>\n",
       "      <td>72759548</td>\n",
       "    </tr>\n",
       "  </tbody>\n",
       "</table>\n",
       "<p>5000000 rows × 41 columns</p>\n",
       "</div>"
      ],
      "text/plain": [
       "         TemaNivaa   Temakode  \\\n",
       "0                1  EUTema_36   \n",
       "1                1  EUTema_36   \n",
       "2                1  EUTema_36   \n",
       "3                1  EUTema_36   \n",
       "4                1  EUTema_35   \n",
       "...            ...        ...   \n",
       "4999995          1  EUTema_25   \n",
       "4999996          1  EUTema_25   \n",
       "4999997          1  EUTema_25   \n",
       "4999998          1  EUTema_25   \n",
       "4999999          1  EUTema_25   \n",
       "\n",
       "                                                  Temanavn  SpoersmaalNivaa  \\\n",
       "0                                       T27 - Arbeidsmiljø                2   \n",
       "1                                       T27 - Arbeidsmiljø                2   \n",
       "2                                       T27 - Arbeidsmiljø                2   \n",
       "3                                       T27 - Arbeidsmiljø                2   \n",
       "4                                       T26 - Arbeidsmiljø                2   \n",
       "...                                                    ...              ...   \n",
       "4999995  T16 - Trivsel med lærerne, mestring, elevdemok...                2   \n",
       "4999996  T16 - Trivsel med lærerne, mestring, elevdemok...                2   \n",
       "4999997  T16 - Trivsel med lærerne, mestring, elevdemok...                2   \n",
       "4999998  T16 - Trivsel med lærerne, mestring, elevdemok...                2   \n",
       "4999999  T16 - Trivsel med lærerne, mestring, elevdemok...                2   \n",
       "\n",
       "             Spoersmaalkode  \\\n",
       "0        EUSpoersmaal_Q7132   \n",
       "1        EUSpoersmaal_Q7132   \n",
       "2        EUSpoersmaal_Q7132   \n",
       "3        EUSpoersmaal_Q7132   \n",
       "4        EUSpoersmaal_Q7119   \n",
       "...                     ...   \n",
       "4999995  EUSpoersmaal_Q7003   \n",
       "4999996  EUSpoersmaal_Q7003   \n",
       "4999997  EUSpoersmaal_Q7003   \n",
       "4999998  EUSpoersmaal_Q7003   \n",
       "4999999  EUSpoersmaal_Q7004   \n",
       "\n",
       "                                            Spoersmaalnavn  \\\n",
       "0        I hvilken grad er du enig i følgende påstander...   \n",
       "1        I hvilken grad er du enig i følgende påstander...   \n",
       "2        I hvilken grad er du enig i følgende påstander...   \n",
       "3        I hvilken grad er du enig i følgende påstander...   \n",
       "4        Er du blitt utsatt for urettferdig behandling/...   \n",
       "...                                                    ...   \n",
       "4999995  Hvor godt arbeid synes du elevrådet gjør på sk...   \n",
       "4999996  Hvor godt arbeid synes du elevrådet gjør på sk...   \n",
       "4999997  Hvor godt arbeid synes du elevrådet gjør på sk...   \n",
       "4999998  Hvor godt arbeid synes du elevrådet gjør på sk...   \n",
       "4999999                  Hører skolen på elevenes forslag?   \n",
       "\n",
       "         SvaralternativNivaa SvaralternativKode SvaralternativNavn  \\\n",
       "0                          0               Alle          Alle svar   \n",
       "1                          0               Alle          Alle svar   \n",
       "2                          0               Alle          Alle svar   \n",
       "3                          0               Alle          Alle svar   \n",
       "4                          0               Alle          Alle svar   \n",
       "...                      ...                ...                ...   \n",
       "4999995                    1                  0           Vet ikke   \n",
       "4999996                    1                  0           Vet ikke   \n",
       "4999997                    1                  0           Vet ikke   \n",
       "4999998                    1                  0           Vet ikke   \n",
       "4999999                    1                  2            Sjelden   \n",
       "\n",
       "        Skoleaarnavn  ...  EierformNivaa Eierformkode     EierformNavn  Score  \\\n",
       "0            2022-23  ...              1            3  Offentlig skole      *   \n",
       "1            2022-23  ...              0          -10  Alle eierformer      *   \n",
       "2            2022-23  ...              1            3  Offentlig skole      *   \n",
       "3            2022-23  ...              0          -10  Alle eierformer      *   \n",
       "4            2022-23  ...              0          -10  Alle eierformer      *   \n",
       "...              ...  ...            ...          ...              ...    ...   \n",
       "4999995      2022-23  ...              0          -10  Alle eierformer      *   \n",
       "4999996      2022-23  ...              0          -10  Alle eierformer      *   \n",
       "4999997      2022-23  ...              0          -10  Alle eierformer      *   \n",
       "4999998      2022-23  ...              0          -10  Alle eierformer      *   \n",
       "4999999      2022-23  ...              0          -10  Alle eierformer      *   \n",
       "\n",
       "        Standardavvik AndelBesvart AntallBesvart  Sidenummer RaderSide  \\\n",
       "0                   *            *             *           1      7236   \n",
       "1                   *            *             *           1      7236   \n",
       "2                   *            *             *           1      7236   \n",
       "3                   *            *             *           1      7236   \n",
       "4                   *            *             *           1      7236   \n",
       "...               ...          ...           ...         ...       ...   \n",
       "4999995             *            *             *         691      7236   \n",
       "4999996             *            *             *         691      7236   \n",
       "4999997             *            *             *         691      7236   \n",
       "4999998             *            *             *         691      7236   \n",
       "4999999             *            *             *         691      7236   \n",
       "\n",
       "        RaderTotalt  \n",
       "0          72759548  \n",
       "1          72759548  \n",
       "2          72759548  \n",
       "3          72759548  \n",
       "4          72759548  \n",
       "...             ...  \n",
       "4999995    72759548  \n",
       "4999996    72759548  \n",
       "4999997    72759548  \n",
       "4999998    72759548  \n",
       "4999999    72759548  \n",
       "\n",
       "[5000000 rows x 41 columns]"
      ]
     },
     "execution_count": 92,
     "metadata": {},
     "output_type": "execute_result"
    }
   ],
   "source": [
    "df = pd.read_csv('data/VGO-EUV-Tema-2022.zip', nrows=5000000, sep=\";\", encoding='cp1252', compression='zip')\n",
    "df"
   ]
  },
  {
   "cell_type": "code",
   "execution_count": 93,
   "id": "e976f265",
   "metadata": {},
   "outputs": [
    {
     "data": {
      "text/plain": [
       "Index(['TemaNivaa', 'Temakode', 'Temanavn', 'SpoersmaalNivaa',\n",
       "       'Spoersmaalkode', 'Spoersmaalnavn', 'SvaralternativNivaa',\n",
       "       'SvaralternativKode', 'SvaralternativNavn', 'Skoleaarnavn',\n",
       "       'EnhetNivaa', 'Nasjonaltkode', 'Nasjonalt', 'Fylkekode', 'Fylke',\n",
       "       'Organisasjonsnummer', 'EnhetNavn', 'GruppeNivaa', 'GruppeKode',\n",
       "       'GruppeNavn', 'ProgramomraadeNivaa', 'UtdanningstypeKode',\n",
       "       'UtdanningstypeNavn', 'Utdanningsprogramkode', 'UtdanningsprogramNavn',\n",
       "       'TrinnNivaa', 'TrinnKode', 'Trinnnavn', 'KjoennNivaa', 'KjoennKode',\n",
       "       'Kjoenn', 'EierformNivaa', 'Eierformkode', 'EierformNavn', 'Score',\n",
       "       'Standardavvik', 'AndelBesvart', 'AntallBesvart', 'Sidenummer',\n",
       "       'RaderSide', 'RaderTotalt'],\n",
       "      dtype='object')"
      ]
     },
     "execution_count": 93,
     "metadata": {},
     "output_type": "execute_result"
    }
   ],
   "source": [
    "df.columns"
   ]
  },
  {
   "cell_type": "code",
   "execution_count": 94,
   "id": "160058b8",
   "metadata": {},
   "outputs": [],
   "source": [
    "column_list = ['Skoleaarnavn', 'Organisasjonsnummer', 'GruppeKode', 'Eierformkode', 'TrinnKode', 'KjoennKode', 'Spoersmaalkode']"
   ]
  },
  {
   "cell_type": "code",
   "execution_count": 95,
   "id": "44c07218",
   "metadata": {},
   "outputs": [],
   "source": [
    "column_list = ['Skoleaarnavn', 'Organisasjonsnummer', 'GruppeKode', 'Eierformkode', 'TrinnKode', 'KjoennKode', 'Spoersmaalkode']\n",
    "\n",
    "def key_maker(row):\n",
    "    key = str()\n",
    "    for column in column_list:\n",
    "        key += str(row[column])\n",
    "    return key"
   ]
  },
  {
   "cell_type": "code",
   "execution_count": 96,
   "id": "0e6f84ee",
   "metadata": {},
   "outputs": [],
   "source": [
    "df['key'] = df.apply(key_maker, axis=1)"
   ]
  },
  {
   "cell_type": "code",
   "execution_count": 97,
   "id": "83a1bc48",
   "metadata": {},
   "outputs": [
    {
     "data": {
      "text/html": [
       "<div>\n",
       "<style scoped>\n",
       "    .dataframe tbody tr th:only-of-type {\n",
       "        vertical-align: middle;\n",
       "    }\n",
       "\n",
       "    .dataframe tbody tr th {\n",
       "        vertical-align: top;\n",
       "    }\n",
       "\n",
       "    .dataframe thead th {\n",
       "        text-align: right;\n",
       "    }\n",
       "</style>\n",
       "<table border=\"1\" class=\"dataframe\">\n",
       "  <thead>\n",
       "    <tr style=\"text-align: right;\">\n",
       "      <th></th>\n",
       "      <th>TemaNivaa</th>\n",
       "      <th>Temakode</th>\n",
       "      <th>Temanavn</th>\n",
       "      <th>SpoersmaalNivaa</th>\n",
       "      <th>Spoersmaalkode</th>\n",
       "      <th>Spoersmaalnavn</th>\n",
       "      <th>SvaralternativNivaa</th>\n",
       "      <th>SvaralternativKode</th>\n",
       "      <th>SvaralternativNavn</th>\n",
       "      <th>Skoleaarnavn</th>\n",
       "      <th>...</th>\n",
       "      <th>Eierformkode</th>\n",
       "      <th>EierformNavn</th>\n",
       "      <th>Score</th>\n",
       "      <th>Standardavvik</th>\n",
       "      <th>AndelBesvart</th>\n",
       "      <th>AntallBesvart</th>\n",
       "      <th>Sidenummer</th>\n",
       "      <th>RaderSide</th>\n",
       "      <th>RaderTotalt</th>\n",
       "      <th>key</th>\n",
       "    </tr>\n",
       "  </thead>\n",
       "  <tbody>\n",
       "    <tr>\n",
       "      <th>0</th>\n",
       "      <td>1</td>\n",
       "      <td>EUTema_36</td>\n",
       "      <td>T27 - Arbeidsmiljø</td>\n",
       "      <td>2</td>\n",
       "      <td>EUSpoersmaal_Q7132</td>\n",
       "      <td>I hvilken grad er du enig i følgende påstander...</td>\n",
       "      <td>0</td>\n",
       "      <td>Alle</td>\n",
       "      <td>Alle svar</td>\n",
       "      <td>2022-23</td>\n",
       "      <td>...</td>\n",
       "      <td>3</td>\n",
       "      <td>Offentlig skole</td>\n",
       "      <td>*</td>\n",
       "      <td>*</td>\n",
       "      <td>*</td>\n",
       "      <td>*</td>\n",
       "      <td>1</td>\n",
       "      <td>7236</td>\n",
       "      <td>72759548</td>\n",
       "      <td>2022-23974576589Alle32GEUSpoersmaal_Q7132</td>\n",
       "    </tr>\n",
       "    <tr>\n",
       "      <th>1</th>\n",
       "      <td>1</td>\n",
       "      <td>EUTema_36</td>\n",
       "      <td>T27 - Arbeidsmiljø</td>\n",
       "      <td>2</td>\n",
       "      <td>EUSpoersmaal_Q7132</td>\n",
       "      <td>I hvilken grad er du enig i følgende påstander...</td>\n",
       "      <td>0</td>\n",
       "      <td>Alle</td>\n",
       "      <td>Alle svar</td>\n",
       "      <td>2022-23</td>\n",
       "      <td>...</td>\n",
       "      <td>-10</td>\n",
       "      <td>Alle eierformer</td>\n",
       "      <td>*</td>\n",
       "      <td>*</td>\n",
       "      <td>*</td>\n",
       "      <td>*</td>\n",
       "      <td>1</td>\n",
       "      <td>7236</td>\n",
       "      <td>72759548</td>\n",
       "      <td>2022-23974576589Alle-102AEUSpoersmaal_Q7132</td>\n",
       "    </tr>\n",
       "    <tr>\n",
       "      <th>2</th>\n",
       "      <td>1</td>\n",
       "      <td>EUTema_36</td>\n",
       "      <td>T27 - Arbeidsmiljø</td>\n",
       "      <td>2</td>\n",
       "      <td>EUSpoersmaal_Q7132</td>\n",
       "      <td>I hvilken grad er du enig i følgende påstander...</td>\n",
       "      <td>0</td>\n",
       "      <td>Alle</td>\n",
       "      <td>Alle svar</td>\n",
       "      <td>2022-23</td>\n",
       "      <td>...</td>\n",
       "      <td>3</td>\n",
       "      <td>Offentlig skole</td>\n",
       "      <td>*</td>\n",
       "      <td>*</td>\n",
       "      <td>*</td>\n",
       "      <td>*</td>\n",
       "      <td>1</td>\n",
       "      <td>7236</td>\n",
       "      <td>72759548</td>\n",
       "      <td>2022-23974576589Alle32AEUSpoersmaal_Q7132</td>\n",
       "    </tr>\n",
       "    <tr>\n",
       "      <th>3</th>\n",
       "      <td>1</td>\n",
       "      <td>EUTema_36</td>\n",
       "      <td>T27 - Arbeidsmiljø</td>\n",
       "      <td>2</td>\n",
       "      <td>EUSpoersmaal_Q7132</td>\n",
       "      <td>I hvilken grad er du enig i følgende påstander...</td>\n",
       "      <td>0</td>\n",
       "      <td>Alle</td>\n",
       "      <td>Alle svar</td>\n",
       "      <td>2022-23</td>\n",
       "      <td>...</td>\n",
       "      <td>-10</td>\n",
       "      <td>Alle eierformer</td>\n",
       "      <td>*</td>\n",
       "      <td>*</td>\n",
       "      <td>*</td>\n",
       "      <td>*</td>\n",
       "      <td>1</td>\n",
       "      <td>7236</td>\n",
       "      <td>72759548</td>\n",
       "      <td>2022-23974576589Alle-102GEUSpoersmaal_Q7132</td>\n",
       "    </tr>\n",
       "    <tr>\n",
       "      <th>4</th>\n",
       "      <td>1</td>\n",
       "      <td>EUTema_35</td>\n",
       "      <td>T26 - Arbeidsmiljø</td>\n",
       "      <td>2</td>\n",
       "      <td>EUSpoersmaal_Q7119</td>\n",
       "      <td>Er du blitt utsatt for urettferdig behandling/...</td>\n",
       "      <td>0</td>\n",
       "      <td>Alle</td>\n",
       "      <td>Alle svar</td>\n",
       "      <td>2022-23</td>\n",
       "      <td>...</td>\n",
       "      <td>-10</td>\n",
       "      <td>Alle eierformer</td>\n",
       "      <td>*</td>\n",
       "      <td>*</td>\n",
       "      <td>*</td>\n",
       "      <td>*</td>\n",
       "      <td>1</td>\n",
       "      <td>7236</td>\n",
       "      <td>72759548</td>\n",
       "      <td>2022-23974576694Alle-102JEUSpoersmaal_Q7119</td>\n",
       "    </tr>\n",
       "    <tr>\n",
       "      <th>...</th>\n",
       "      <td>...</td>\n",
       "      <td>...</td>\n",
       "      <td>...</td>\n",
       "      <td>...</td>\n",
       "      <td>...</td>\n",
       "      <td>...</td>\n",
       "      <td>...</td>\n",
       "      <td>...</td>\n",
       "      <td>...</td>\n",
       "      <td>...</td>\n",
       "      <td>...</td>\n",
       "      <td>...</td>\n",
       "      <td>...</td>\n",
       "      <td>...</td>\n",
       "      <td>...</td>\n",
       "      <td>...</td>\n",
       "      <td>...</td>\n",
       "      <td>...</td>\n",
       "      <td>...</td>\n",
       "      <td>...</td>\n",
       "      <td>...</td>\n",
       "    </tr>\n",
       "    <tr>\n",
       "      <th>4999995</th>\n",
       "      <td>1</td>\n",
       "      <td>EUTema_25</td>\n",
       "      <td>T16 - Trivsel med lærerne, mestring, elevdemok...</td>\n",
       "      <td>2</td>\n",
       "      <td>EUSpoersmaal_Q7003</td>\n",
       "      <td>Hvor godt arbeid synes du elevrådet gjør på sk...</td>\n",
       "      <td>1</td>\n",
       "      <td>0</td>\n",
       "      <td>Vet ikke</td>\n",
       "      <td>2022-23</td>\n",
       "      <td>...</td>\n",
       "      <td>-10</td>\n",
       "      <td>Alle eierformer</td>\n",
       "      <td>*</td>\n",
       "      <td>*</td>\n",
       "      <td>*</td>\n",
       "      <td>*</td>\n",
       "      <td>691</td>\n",
       "      <td>7236</td>\n",
       "      <td>72759548</td>\n",
       "      <td>2022-23974546671Alle-102GEUSpoersmaal_Q7003</td>\n",
       "    </tr>\n",
       "    <tr>\n",
       "      <th>4999996</th>\n",
       "      <td>1</td>\n",
       "      <td>EUTema_25</td>\n",
       "      <td>T16 - Trivsel med lærerne, mestring, elevdemok...</td>\n",
       "      <td>2</td>\n",
       "      <td>EUSpoersmaal_Q7003</td>\n",
       "      <td>Hvor godt arbeid synes du elevrådet gjør på sk...</td>\n",
       "      <td>1</td>\n",
       "      <td>0</td>\n",
       "      <td>Vet ikke</td>\n",
       "      <td>2022-23</td>\n",
       "      <td>...</td>\n",
       "      <td>-10</td>\n",
       "      <td>Alle eierformer</td>\n",
       "      <td>*</td>\n",
       "      <td>*</td>\n",
       "      <td>*</td>\n",
       "      <td>*</td>\n",
       "      <td>691</td>\n",
       "      <td>7236</td>\n",
       "      <td>72759548</td>\n",
       "      <td>2022-23974546744Alle-102GEUSpoersmaal_Q7003</td>\n",
       "    </tr>\n",
       "    <tr>\n",
       "      <th>4999997</th>\n",
       "      <td>1</td>\n",
       "      <td>EUTema_25</td>\n",
       "      <td>T16 - Trivsel med lærerne, mestring, elevdemok...</td>\n",
       "      <td>2</td>\n",
       "      <td>EUSpoersmaal_Q7003</td>\n",
       "      <td>Hvor godt arbeid synes du elevrådet gjør på sk...</td>\n",
       "      <td>1</td>\n",
       "      <td>0</td>\n",
       "      <td>Vet ikke</td>\n",
       "      <td>2022-23</td>\n",
       "      <td>...</td>\n",
       "      <td>-10</td>\n",
       "      <td>Alle eierformer</td>\n",
       "      <td>*</td>\n",
       "      <td>*</td>\n",
       "      <td>*</td>\n",
       "      <td>*</td>\n",
       "      <td>691</td>\n",
       "      <td>7236</td>\n",
       "      <td>72759548</td>\n",
       "      <td>2022-23993527084Alle-102GEUSpoersmaal_Q7003</td>\n",
       "    </tr>\n",
       "    <tr>\n",
       "      <th>4999998</th>\n",
       "      <td>1</td>\n",
       "      <td>EUTema_25</td>\n",
       "      <td>T16 - Trivsel med lærerne, mestring, elevdemok...</td>\n",
       "      <td>2</td>\n",
       "      <td>EUSpoersmaal_Q7003</td>\n",
       "      <td>Hvor godt arbeid synes du elevrådet gjør på sk...</td>\n",
       "      <td>1</td>\n",
       "      <td>0</td>\n",
       "      <td>Vet ikke</td>\n",
       "      <td>2022-23</td>\n",
       "      <td>...</td>\n",
       "      <td>-10</td>\n",
       "      <td>Alle eierformer</td>\n",
       "      <td>*</td>\n",
       "      <td>*</td>\n",
       "      <td>*</td>\n",
       "      <td>*</td>\n",
       "      <td>691</td>\n",
       "      <td>7236</td>\n",
       "      <td>72759548</td>\n",
       "      <td>2022-23974544466Alle-102GEUSpoersmaal_Q7003</td>\n",
       "    </tr>\n",
       "    <tr>\n",
       "      <th>4999999</th>\n",
       "      <td>1</td>\n",
       "      <td>EUTema_25</td>\n",
       "      <td>T16 - Trivsel med lærerne, mestring, elevdemok...</td>\n",
       "      <td>2</td>\n",
       "      <td>EUSpoersmaal_Q7004</td>\n",
       "      <td>Hører skolen på elevenes forslag?</td>\n",
       "      <td>1</td>\n",
       "      <td>2</td>\n",
       "      <td>Sjelden</td>\n",
       "      <td>2022-23</td>\n",
       "      <td>...</td>\n",
       "      <td>-10</td>\n",
       "      <td>Alle eierformer</td>\n",
       "      <td>*</td>\n",
       "      <td>*</td>\n",
       "      <td>*</td>\n",
       "      <td>*</td>\n",
       "      <td>691</td>\n",
       "      <td>7236</td>\n",
       "      <td>72759548</td>\n",
       "      <td>2022-23974590891Alle-102GEUSpoersmaal_Q7004</td>\n",
       "    </tr>\n",
       "  </tbody>\n",
       "</table>\n",
       "<p>5000000 rows × 42 columns</p>\n",
       "</div>"
      ],
      "text/plain": [
       "         TemaNivaa   Temakode  \\\n",
       "0                1  EUTema_36   \n",
       "1                1  EUTema_36   \n",
       "2                1  EUTema_36   \n",
       "3                1  EUTema_36   \n",
       "4                1  EUTema_35   \n",
       "...            ...        ...   \n",
       "4999995          1  EUTema_25   \n",
       "4999996          1  EUTema_25   \n",
       "4999997          1  EUTema_25   \n",
       "4999998          1  EUTema_25   \n",
       "4999999          1  EUTema_25   \n",
       "\n",
       "                                                  Temanavn  SpoersmaalNivaa  \\\n",
       "0                                       T27 - Arbeidsmiljø                2   \n",
       "1                                       T27 - Arbeidsmiljø                2   \n",
       "2                                       T27 - Arbeidsmiljø                2   \n",
       "3                                       T27 - Arbeidsmiljø                2   \n",
       "4                                       T26 - Arbeidsmiljø                2   \n",
       "...                                                    ...              ...   \n",
       "4999995  T16 - Trivsel med lærerne, mestring, elevdemok...                2   \n",
       "4999996  T16 - Trivsel med lærerne, mestring, elevdemok...                2   \n",
       "4999997  T16 - Trivsel med lærerne, mestring, elevdemok...                2   \n",
       "4999998  T16 - Trivsel med lærerne, mestring, elevdemok...                2   \n",
       "4999999  T16 - Trivsel med lærerne, mestring, elevdemok...                2   \n",
       "\n",
       "             Spoersmaalkode  \\\n",
       "0        EUSpoersmaal_Q7132   \n",
       "1        EUSpoersmaal_Q7132   \n",
       "2        EUSpoersmaal_Q7132   \n",
       "3        EUSpoersmaal_Q7132   \n",
       "4        EUSpoersmaal_Q7119   \n",
       "...                     ...   \n",
       "4999995  EUSpoersmaal_Q7003   \n",
       "4999996  EUSpoersmaal_Q7003   \n",
       "4999997  EUSpoersmaal_Q7003   \n",
       "4999998  EUSpoersmaal_Q7003   \n",
       "4999999  EUSpoersmaal_Q7004   \n",
       "\n",
       "                                            Spoersmaalnavn  \\\n",
       "0        I hvilken grad er du enig i følgende påstander...   \n",
       "1        I hvilken grad er du enig i følgende påstander...   \n",
       "2        I hvilken grad er du enig i følgende påstander...   \n",
       "3        I hvilken grad er du enig i følgende påstander...   \n",
       "4        Er du blitt utsatt for urettferdig behandling/...   \n",
       "...                                                    ...   \n",
       "4999995  Hvor godt arbeid synes du elevrådet gjør på sk...   \n",
       "4999996  Hvor godt arbeid synes du elevrådet gjør på sk...   \n",
       "4999997  Hvor godt arbeid synes du elevrådet gjør på sk...   \n",
       "4999998  Hvor godt arbeid synes du elevrådet gjør på sk...   \n",
       "4999999                  Hører skolen på elevenes forslag?   \n",
       "\n",
       "         SvaralternativNivaa SvaralternativKode SvaralternativNavn  \\\n",
       "0                          0               Alle          Alle svar   \n",
       "1                          0               Alle          Alle svar   \n",
       "2                          0               Alle          Alle svar   \n",
       "3                          0               Alle          Alle svar   \n",
       "4                          0               Alle          Alle svar   \n",
       "...                      ...                ...                ...   \n",
       "4999995                    1                  0           Vet ikke   \n",
       "4999996                    1                  0           Vet ikke   \n",
       "4999997                    1                  0           Vet ikke   \n",
       "4999998                    1                  0           Vet ikke   \n",
       "4999999                    1                  2            Sjelden   \n",
       "\n",
       "        Skoleaarnavn  ...  Eierformkode     EierformNavn Score  Standardavvik  \\\n",
       "0            2022-23  ...             3  Offentlig skole     *              *   \n",
       "1            2022-23  ...           -10  Alle eierformer     *              *   \n",
       "2            2022-23  ...             3  Offentlig skole     *              *   \n",
       "3            2022-23  ...           -10  Alle eierformer     *              *   \n",
       "4            2022-23  ...           -10  Alle eierformer     *              *   \n",
       "...              ...  ...           ...              ...   ...            ...   \n",
       "4999995      2022-23  ...           -10  Alle eierformer     *              *   \n",
       "4999996      2022-23  ...           -10  Alle eierformer     *              *   \n",
       "4999997      2022-23  ...           -10  Alle eierformer     *              *   \n",
       "4999998      2022-23  ...           -10  Alle eierformer     *              *   \n",
       "4999999      2022-23  ...           -10  Alle eierformer     *              *   \n",
       "\n",
       "        AndelBesvart AntallBesvart Sidenummer  RaderSide RaderTotalt  \\\n",
       "0                  *             *          1       7236    72759548   \n",
       "1                  *             *          1       7236    72759548   \n",
       "2                  *             *          1       7236    72759548   \n",
       "3                  *             *          1       7236    72759548   \n",
       "4                  *             *          1       7236    72759548   \n",
       "...              ...           ...        ...        ...         ...   \n",
       "4999995            *             *        691       7236    72759548   \n",
       "4999996            *             *        691       7236    72759548   \n",
       "4999997            *             *        691       7236    72759548   \n",
       "4999998            *             *        691       7236    72759548   \n",
       "4999999            *             *        691       7236    72759548   \n",
       "\n",
       "                                                 key  \n",
       "0          2022-23974576589Alle32GEUSpoersmaal_Q7132  \n",
       "1        2022-23974576589Alle-102AEUSpoersmaal_Q7132  \n",
       "2          2022-23974576589Alle32AEUSpoersmaal_Q7132  \n",
       "3        2022-23974576589Alle-102GEUSpoersmaal_Q7132  \n",
       "4        2022-23974576694Alle-102JEUSpoersmaal_Q7119  \n",
       "...                                              ...  \n",
       "4999995  2022-23974546671Alle-102GEUSpoersmaal_Q7003  \n",
       "4999996  2022-23974546744Alle-102GEUSpoersmaal_Q7003  \n",
       "4999997  2022-23993527084Alle-102GEUSpoersmaal_Q7003  \n",
       "4999998  2022-23974544466Alle-102GEUSpoersmaal_Q7003  \n",
       "4999999  2022-23974590891Alle-102GEUSpoersmaal_Q7004  \n",
       "\n",
       "[5000000 rows x 42 columns]"
      ]
     },
     "execution_count": 97,
     "metadata": {},
     "output_type": "execute_result"
    }
   ],
   "source": [
    "df"
   ]
  },
  {
   "cell_type": "code",
   "execution_count": 98,
   "id": "8d0661bd",
   "metadata": {},
   "outputs": [],
   "source": [
    "def hash(input_string):\n",
    "    return hashlib.sha256(input_string.encode('utf-8')).hexdigest()"
   ]
  },
  {
   "cell_type": "code",
   "execution_count": 99,
   "id": "ca0643a8",
   "metadata": {},
   "outputs": [],
   "source": [
    "df['key_hash'] = df['key'].map(hash)"
   ]
  },
  {
   "cell_type": "code",
   "execution_count": 100,
   "id": "298c2438",
   "metadata": {},
   "outputs": [
    {
     "data": {
      "text/html": [
       "<div>\n",
       "<style scoped>\n",
       "    .dataframe tbody tr th:only-of-type {\n",
       "        vertical-align: middle;\n",
       "    }\n",
       "\n",
       "    .dataframe tbody tr th {\n",
       "        vertical-align: top;\n",
       "    }\n",
       "\n",
       "    .dataframe thead th {\n",
       "        text-align: right;\n",
       "    }\n",
       "</style>\n",
       "<table border=\"1\" class=\"dataframe\">\n",
       "  <thead>\n",
       "    <tr style=\"text-align: right;\">\n",
       "      <th></th>\n",
       "      <th>TemaNivaa</th>\n",
       "      <th>Temakode</th>\n",
       "      <th>Temanavn</th>\n",
       "      <th>SpoersmaalNivaa</th>\n",
       "      <th>Spoersmaalkode</th>\n",
       "      <th>Spoersmaalnavn</th>\n",
       "      <th>SvaralternativNivaa</th>\n",
       "      <th>SvaralternativKode</th>\n",
       "      <th>SvaralternativNavn</th>\n",
       "      <th>Skoleaarnavn</th>\n",
       "      <th>...</th>\n",
       "      <th>EierformNavn</th>\n",
       "      <th>Score</th>\n",
       "      <th>Standardavvik</th>\n",
       "      <th>AndelBesvart</th>\n",
       "      <th>AntallBesvart</th>\n",
       "      <th>Sidenummer</th>\n",
       "      <th>RaderSide</th>\n",
       "      <th>RaderTotalt</th>\n",
       "      <th>key</th>\n",
       "      <th>key_hash</th>\n",
       "    </tr>\n",
       "  </thead>\n",
       "  <tbody>\n",
       "    <tr>\n",
       "      <th>0</th>\n",
       "      <td>1</td>\n",
       "      <td>EUTema_36</td>\n",
       "      <td>T27 - Arbeidsmiljø</td>\n",
       "      <td>2</td>\n",
       "      <td>EUSpoersmaal_Q7132</td>\n",
       "      <td>I hvilken grad er du enig i følgende påstander...</td>\n",
       "      <td>0</td>\n",
       "      <td>Alle</td>\n",
       "      <td>Alle svar</td>\n",
       "      <td>2022-23</td>\n",
       "      <td>...</td>\n",
       "      <td>Offentlig skole</td>\n",
       "      <td>*</td>\n",
       "      <td>*</td>\n",
       "      <td>*</td>\n",
       "      <td>*</td>\n",
       "      <td>1</td>\n",
       "      <td>7236</td>\n",
       "      <td>72759548</td>\n",
       "      <td>2022-23974576589Alle32GEUSpoersmaal_Q7132</td>\n",
       "      <td>29a8d06b8693886147e233ccbbe34e36c9f8b9d8550e4e...</td>\n",
       "    </tr>\n",
       "    <tr>\n",
       "      <th>1</th>\n",
       "      <td>1</td>\n",
       "      <td>EUTema_36</td>\n",
       "      <td>T27 - Arbeidsmiljø</td>\n",
       "      <td>2</td>\n",
       "      <td>EUSpoersmaal_Q7132</td>\n",
       "      <td>I hvilken grad er du enig i følgende påstander...</td>\n",
       "      <td>0</td>\n",
       "      <td>Alle</td>\n",
       "      <td>Alle svar</td>\n",
       "      <td>2022-23</td>\n",
       "      <td>...</td>\n",
       "      <td>Alle eierformer</td>\n",
       "      <td>*</td>\n",
       "      <td>*</td>\n",
       "      <td>*</td>\n",
       "      <td>*</td>\n",
       "      <td>1</td>\n",
       "      <td>7236</td>\n",
       "      <td>72759548</td>\n",
       "      <td>2022-23974576589Alle-102AEUSpoersmaal_Q7132</td>\n",
       "      <td>aabbf8a261e44fbb1662b9ec4ab526d66976657fe69c45...</td>\n",
       "    </tr>\n",
       "    <tr>\n",
       "      <th>2</th>\n",
       "      <td>1</td>\n",
       "      <td>EUTema_36</td>\n",
       "      <td>T27 - Arbeidsmiljø</td>\n",
       "      <td>2</td>\n",
       "      <td>EUSpoersmaal_Q7132</td>\n",
       "      <td>I hvilken grad er du enig i følgende påstander...</td>\n",
       "      <td>0</td>\n",
       "      <td>Alle</td>\n",
       "      <td>Alle svar</td>\n",
       "      <td>2022-23</td>\n",
       "      <td>...</td>\n",
       "      <td>Offentlig skole</td>\n",
       "      <td>*</td>\n",
       "      <td>*</td>\n",
       "      <td>*</td>\n",
       "      <td>*</td>\n",
       "      <td>1</td>\n",
       "      <td>7236</td>\n",
       "      <td>72759548</td>\n",
       "      <td>2022-23974576589Alle32AEUSpoersmaal_Q7132</td>\n",
       "      <td>d7a846a5468d21a2ebacb1c21f78ff702d28c6f682d165...</td>\n",
       "    </tr>\n",
       "    <tr>\n",
       "      <th>3</th>\n",
       "      <td>1</td>\n",
       "      <td>EUTema_36</td>\n",
       "      <td>T27 - Arbeidsmiljø</td>\n",
       "      <td>2</td>\n",
       "      <td>EUSpoersmaal_Q7132</td>\n",
       "      <td>I hvilken grad er du enig i følgende påstander...</td>\n",
       "      <td>0</td>\n",
       "      <td>Alle</td>\n",
       "      <td>Alle svar</td>\n",
       "      <td>2022-23</td>\n",
       "      <td>...</td>\n",
       "      <td>Alle eierformer</td>\n",
       "      <td>*</td>\n",
       "      <td>*</td>\n",
       "      <td>*</td>\n",
       "      <td>*</td>\n",
       "      <td>1</td>\n",
       "      <td>7236</td>\n",
       "      <td>72759548</td>\n",
       "      <td>2022-23974576589Alle-102GEUSpoersmaal_Q7132</td>\n",
       "      <td>f2931cf0de54988d94294845084e0711040247107fb848...</td>\n",
       "    </tr>\n",
       "    <tr>\n",
       "      <th>4</th>\n",
       "      <td>1</td>\n",
       "      <td>EUTema_35</td>\n",
       "      <td>T26 - Arbeidsmiljø</td>\n",
       "      <td>2</td>\n",
       "      <td>EUSpoersmaal_Q7119</td>\n",
       "      <td>Er du blitt utsatt for urettferdig behandling/...</td>\n",
       "      <td>0</td>\n",
       "      <td>Alle</td>\n",
       "      <td>Alle svar</td>\n",
       "      <td>2022-23</td>\n",
       "      <td>...</td>\n",
       "      <td>Alle eierformer</td>\n",
       "      <td>*</td>\n",
       "      <td>*</td>\n",
       "      <td>*</td>\n",
       "      <td>*</td>\n",
       "      <td>1</td>\n",
       "      <td>7236</td>\n",
       "      <td>72759548</td>\n",
       "      <td>2022-23974576694Alle-102JEUSpoersmaal_Q7119</td>\n",
       "      <td>7ed3b7cbd352c5953b08394a86c7624703ab295b452aad...</td>\n",
       "    </tr>\n",
       "    <tr>\n",
       "      <th>...</th>\n",
       "      <td>...</td>\n",
       "      <td>...</td>\n",
       "      <td>...</td>\n",
       "      <td>...</td>\n",
       "      <td>...</td>\n",
       "      <td>...</td>\n",
       "      <td>...</td>\n",
       "      <td>...</td>\n",
       "      <td>...</td>\n",
       "      <td>...</td>\n",
       "      <td>...</td>\n",
       "      <td>...</td>\n",
       "      <td>...</td>\n",
       "      <td>...</td>\n",
       "      <td>...</td>\n",
       "      <td>...</td>\n",
       "      <td>...</td>\n",
       "      <td>...</td>\n",
       "      <td>...</td>\n",
       "      <td>...</td>\n",
       "      <td>...</td>\n",
       "    </tr>\n",
       "    <tr>\n",
       "      <th>4999995</th>\n",
       "      <td>1</td>\n",
       "      <td>EUTema_25</td>\n",
       "      <td>T16 - Trivsel med lærerne, mestring, elevdemok...</td>\n",
       "      <td>2</td>\n",
       "      <td>EUSpoersmaal_Q7003</td>\n",
       "      <td>Hvor godt arbeid synes du elevrådet gjør på sk...</td>\n",
       "      <td>1</td>\n",
       "      <td>0</td>\n",
       "      <td>Vet ikke</td>\n",
       "      <td>2022-23</td>\n",
       "      <td>...</td>\n",
       "      <td>Alle eierformer</td>\n",
       "      <td>*</td>\n",
       "      <td>*</td>\n",
       "      <td>*</td>\n",
       "      <td>*</td>\n",
       "      <td>691</td>\n",
       "      <td>7236</td>\n",
       "      <td>72759548</td>\n",
       "      <td>2022-23974546671Alle-102GEUSpoersmaal_Q7003</td>\n",
       "      <td>309916b2d4a53b9b0f13d89ee4f13b3d961ddca1272148...</td>\n",
       "    </tr>\n",
       "    <tr>\n",
       "      <th>4999996</th>\n",
       "      <td>1</td>\n",
       "      <td>EUTema_25</td>\n",
       "      <td>T16 - Trivsel med lærerne, mestring, elevdemok...</td>\n",
       "      <td>2</td>\n",
       "      <td>EUSpoersmaal_Q7003</td>\n",
       "      <td>Hvor godt arbeid synes du elevrådet gjør på sk...</td>\n",
       "      <td>1</td>\n",
       "      <td>0</td>\n",
       "      <td>Vet ikke</td>\n",
       "      <td>2022-23</td>\n",
       "      <td>...</td>\n",
       "      <td>Alle eierformer</td>\n",
       "      <td>*</td>\n",
       "      <td>*</td>\n",
       "      <td>*</td>\n",
       "      <td>*</td>\n",
       "      <td>691</td>\n",
       "      <td>7236</td>\n",
       "      <td>72759548</td>\n",
       "      <td>2022-23974546744Alle-102GEUSpoersmaal_Q7003</td>\n",
       "      <td>80430dd4ffc51a1cc0dc7708d21f5b217b9b2f109e6962...</td>\n",
       "    </tr>\n",
       "    <tr>\n",
       "      <th>4999997</th>\n",
       "      <td>1</td>\n",
       "      <td>EUTema_25</td>\n",
       "      <td>T16 - Trivsel med lærerne, mestring, elevdemok...</td>\n",
       "      <td>2</td>\n",
       "      <td>EUSpoersmaal_Q7003</td>\n",
       "      <td>Hvor godt arbeid synes du elevrådet gjør på sk...</td>\n",
       "      <td>1</td>\n",
       "      <td>0</td>\n",
       "      <td>Vet ikke</td>\n",
       "      <td>2022-23</td>\n",
       "      <td>...</td>\n",
       "      <td>Alle eierformer</td>\n",
       "      <td>*</td>\n",
       "      <td>*</td>\n",
       "      <td>*</td>\n",
       "      <td>*</td>\n",
       "      <td>691</td>\n",
       "      <td>7236</td>\n",
       "      <td>72759548</td>\n",
       "      <td>2022-23993527084Alle-102GEUSpoersmaal_Q7003</td>\n",
       "      <td>01db73a1128fb8972c28e909fb78b3aea467402a4012f3...</td>\n",
       "    </tr>\n",
       "    <tr>\n",
       "      <th>4999998</th>\n",
       "      <td>1</td>\n",
       "      <td>EUTema_25</td>\n",
       "      <td>T16 - Trivsel med lærerne, mestring, elevdemok...</td>\n",
       "      <td>2</td>\n",
       "      <td>EUSpoersmaal_Q7003</td>\n",
       "      <td>Hvor godt arbeid synes du elevrådet gjør på sk...</td>\n",
       "      <td>1</td>\n",
       "      <td>0</td>\n",
       "      <td>Vet ikke</td>\n",
       "      <td>2022-23</td>\n",
       "      <td>...</td>\n",
       "      <td>Alle eierformer</td>\n",
       "      <td>*</td>\n",
       "      <td>*</td>\n",
       "      <td>*</td>\n",
       "      <td>*</td>\n",
       "      <td>691</td>\n",
       "      <td>7236</td>\n",
       "      <td>72759548</td>\n",
       "      <td>2022-23974544466Alle-102GEUSpoersmaal_Q7003</td>\n",
       "      <td>89aef351487382033fbaaed66289c124f509205c0cea2f...</td>\n",
       "    </tr>\n",
       "    <tr>\n",
       "      <th>4999999</th>\n",
       "      <td>1</td>\n",
       "      <td>EUTema_25</td>\n",
       "      <td>T16 - Trivsel med lærerne, mestring, elevdemok...</td>\n",
       "      <td>2</td>\n",
       "      <td>EUSpoersmaal_Q7004</td>\n",
       "      <td>Hører skolen på elevenes forslag?</td>\n",
       "      <td>1</td>\n",
       "      <td>2</td>\n",
       "      <td>Sjelden</td>\n",
       "      <td>2022-23</td>\n",
       "      <td>...</td>\n",
       "      <td>Alle eierformer</td>\n",
       "      <td>*</td>\n",
       "      <td>*</td>\n",
       "      <td>*</td>\n",
       "      <td>*</td>\n",
       "      <td>691</td>\n",
       "      <td>7236</td>\n",
       "      <td>72759548</td>\n",
       "      <td>2022-23974590891Alle-102GEUSpoersmaal_Q7004</td>\n",
       "      <td>bb67ce358caa7365eff532be6e43c4708c1df59dd042ab...</td>\n",
       "    </tr>\n",
       "  </tbody>\n",
       "</table>\n",
       "<p>5000000 rows × 43 columns</p>\n",
       "</div>"
      ],
      "text/plain": [
       "         TemaNivaa   Temakode  \\\n",
       "0                1  EUTema_36   \n",
       "1                1  EUTema_36   \n",
       "2                1  EUTema_36   \n",
       "3                1  EUTema_36   \n",
       "4                1  EUTema_35   \n",
       "...            ...        ...   \n",
       "4999995          1  EUTema_25   \n",
       "4999996          1  EUTema_25   \n",
       "4999997          1  EUTema_25   \n",
       "4999998          1  EUTema_25   \n",
       "4999999          1  EUTema_25   \n",
       "\n",
       "                                                  Temanavn  SpoersmaalNivaa  \\\n",
       "0                                       T27 - Arbeidsmiljø                2   \n",
       "1                                       T27 - Arbeidsmiljø                2   \n",
       "2                                       T27 - Arbeidsmiljø                2   \n",
       "3                                       T27 - Arbeidsmiljø                2   \n",
       "4                                       T26 - Arbeidsmiljø                2   \n",
       "...                                                    ...              ...   \n",
       "4999995  T16 - Trivsel med lærerne, mestring, elevdemok...                2   \n",
       "4999996  T16 - Trivsel med lærerne, mestring, elevdemok...                2   \n",
       "4999997  T16 - Trivsel med lærerne, mestring, elevdemok...                2   \n",
       "4999998  T16 - Trivsel med lærerne, mestring, elevdemok...                2   \n",
       "4999999  T16 - Trivsel med lærerne, mestring, elevdemok...                2   \n",
       "\n",
       "             Spoersmaalkode  \\\n",
       "0        EUSpoersmaal_Q7132   \n",
       "1        EUSpoersmaal_Q7132   \n",
       "2        EUSpoersmaal_Q7132   \n",
       "3        EUSpoersmaal_Q7132   \n",
       "4        EUSpoersmaal_Q7119   \n",
       "...                     ...   \n",
       "4999995  EUSpoersmaal_Q7003   \n",
       "4999996  EUSpoersmaal_Q7003   \n",
       "4999997  EUSpoersmaal_Q7003   \n",
       "4999998  EUSpoersmaal_Q7003   \n",
       "4999999  EUSpoersmaal_Q7004   \n",
       "\n",
       "                                            Spoersmaalnavn  \\\n",
       "0        I hvilken grad er du enig i følgende påstander...   \n",
       "1        I hvilken grad er du enig i følgende påstander...   \n",
       "2        I hvilken grad er du enig i følgende påstander...   \n",
       "3        I hvilken grad er du enig i følgende påstander...   \n",
       "4        Er du blitt utsatt for urettferdig behandling/...   \n",
       "...                                                    ...   \n",
       "4999995  Hvor godt arbeid synes du elevrådet gjør på sk...   \n",
       "4999996  Hvor godt arbeid synes du elevrådet gjør på sk...   \n",
       "4999997  Hvor godt arbeid synes du elevrådet gjør på sk...   \n",
       "4999998  Hvor godt arbeid synes du elevrådet gjør på sk...   \n",
       "4999999                  Hører skolen på elevenes forslag?   \n",
       "\n",
       "         SvaralternativNivaa SvaralternativKode SvaralternativNavn  \\\n",
       "0                          0               Alle          Alle svar   \n",
       "1                          0               Alle          Alle svar   \n",
       "2                          0               Alle          Alle svar   \n",
       "3                          0               Alle          Alle svar   \n",
       "4                          0               Alle          Alle svar   \n",
       "...                      ...                ...                ...   \n",
       "4999995                    1                  0           Vet ikke   \n",
       "4999996                    1                  0           Vet ikke   \n",
       "4999997                    1                  0           Vet ikke   \n",
       "4999998                    1                  0           Vet ikke   \n",
       "4999999                    1                  2            Sjelden   \n",
       "\n",
       "        Skoleaarnavn  ...     EierformNavn Score Standardavvik  AndelBesvart  \\\n",
       "0            2022-23  ...  Offentlig skole     *             *             *   \n",
       "1            2022-23  ...  Alle eierformer     *             *             *   \n",
       "2            2022-23  ...  Offentlig skole     *             *             *   \n",
       "3            2022-23  ...  Alle eierformer     *             *             *   \n",
       "4            2022-23  ...  Alle eierformer     *             *             *   \n",
       "...              ...  ...              ...   ...           ...           ...   \n",
       "4999995      2022-23  ...  Alle eierformer     *             *             *   \n",
       "4999996      2022-23  ...  Alle eierformer     *             *             *   \n",
       "4999997      2022-23  ...  Alle eierformer     *             *             *   \n",
       "4999998      2022-23  ...  Alle eierformer     *             *             *   \n",
       "4999999      2022-23  ...  Alle eierformer     *             *             *   \n",
       "\n",
       "        AntallBesvart Sidenummer RaderSide  RaderTotalt  \\\n",
       "0                   *          1      7236     72759548   \n",
       "1                   *          1      7236     72759548   \n",
       "2                   *          1      7236     72759548   \n",
       "3                   *          1      7236     72759548   \n",
       "4                   *          1      7236     72759548   \n",
       "...               ...        ...       ...          ...   \n",
       "4999995             *        691      7236     72759548   \n",
       "4999996             *        691      7236     72759548   \n",
       "4999997             *        691      7236     72759548   \n",
       "4999998             *        691      7236     72759548   \n",
       "4999999             *        691      7236     72759548   \n",
       "\n",
       "                                                 key  \\\n",
       "0          2022-23974576589Alle32GEUSpoersmaal_Q7132   \n",
       "1        2022-23974576589Alle-102AEUSpoersmaal_Q7132   \n",
       "2          2022-23974576589Alle32AEUSpoersmaal_Q7132   \n",
       "3        2022-23974576589Alle-102GEUSpoersmaal_Q7132   \n",
       "4        2022-23974576694Alle-102JEUSpoersmaal_Q7119   \n",
       "...                                              ...   \n",
       "4999995  2022-23974546671Alle-102GEUSpoersmaal_Q7003   \n",
       "4999996  2022-23974546744Alle-102GEUSpoersmaal_Q7003   \n",
       "4999997  2022-23993527084Alle-102GEUSpoersmaal_Q7003   \n",
       "4999998  2022-23974544466Alle-102GEUSpoersmaal_Q7003   \n",
       "4999999  2022-23974590891Alle-102GEUSpoersmaal_Q7004   \n",
       "\n",
       "                                                  key_hash  \n",
       "0        29a8d06b8693886147e233ccbbe34e36c9f8b9d8550e4e...  \n",
       "1        aabbf8a261e44fbb1662b9ec4ab526d66976657fe69c45...  \n",
       "2        d7a846a5468d21a2ebacb1c21f78ff702d28c6f682d165...  \n",
       "3        f2931cf0de54988d94294845084e0711040247107fb848...  \n",
       "4        7ed3b7cbd352c5953b08394a86c7624703ab295b452aad...  \n",
       "...                                                    ...  \n",
       "4999995  309916b2d4a53b9b0f13d89ee4f13b3d961ddca1272148...  \n",
       "4999996  80430dd4ffc51a1cc0dc7708d21f5b217b9b2f109e6962...  \n",
       "4999997  01db73a1128fb8972c28e909fb78b3aea467402a4012f3...  \n",
       "4999998  89aef351487382033fbaaed66289c124f509205c0cea2f...  \n",
       "4999999  bb67ce358caa7365eff532be6e43c4708c1df59dd042ab...  \n",
       "\n",
       "[5000000 rows x 43 columns]"
      ]
     },
     "execution_count": 100,
     "metadata": {},
     "output_type": "execute_result"
    }
   ],
   "source": [
    "df"
   ]
  },
  {
   "cell_type": "code",
   "execution_count": 101,
   "id": "dd787151",
   "metadata": {},
   "outputs": [
    {
     "data": {
      "text/plain": [
       "Index                         128\n",
       "TemaNivaa                40000000\n",
       "Temakode                 40000000\n",
       "Temanavn                 40000000\n",
       "SpoersmaalNivaa          40000000\n",
       "Spoersmaalkode           40000000\n",
       "Spoersmaalnavn           40000000\n",
       "SvaralternativNivaa      40000000\n",
       "SvaralternativKode       40000000\n",
       "SvaralternativNavn       40000000\n",
       "Skoleaarnavn             40000000\n",
       "EnhetNivaa               40000000\n",
       "Nasjonaltkode            40000000\n",
       "Nasjonalt                40000000\n",
       "Fylkekode                40000000\n",
       "Fylke                    40000000\n",
       "Organisasjonsnummer      40000000\n",
       "EnhetNavn                40000000\n",
       "GruppeNivaa              40000000\n",
       "GruppeKode               40000000\n",
       "GruppeNavn               40000000\n",
       "ProgramomraadeNivaa      40000000\n",
       "UtdanningstypeKode       40000000\n",
       "UtdanningstypeNavn       40000000\n",
       "Utdanningsprogramkode    40000000\n",
       "UtdanningsprogramNavn    40000000\n",
       "TrinnNivaa               40000000\n",
       "TrinnKode                40000000\n",
       "Trinnnavn                40000000\n",
       "KjoennNivaa              40000000\n",
       "KjoennKode               40000000\n",
       "Kjoenn                   40000000\n",
       "EierformNivaa            40000000\n",
       "Eierformkode             40000000\n",
       "EierformNavn             40000000\n",
       "Score                    40000000\n",
       "Standardavvik            40000000\n",
       "AndelBesvart             40000000\n",
       "AntallBesvart            40000000\n",
       "Sidenummer               40000000\n",
       "RaderSide                40000000\n",
       "RaderTotalt              40000000\n",
       "key                      40000000\n",
       "key_hash                 40000000\n",
       "dtype: int64"
      ]
     },
     "execution_count": 101,
     "metadata": {},
     "output_type": "execute_result"
    }
   ],
   "source": [
    "df.memory_usage()"
   ]
  },
  {
   "cell_type": "code",
   "execution_count": 51,
   "id": "58ba7843",
   "metadata": {},
   "outputs": [
    {
     "data": {
      "text/plain": [
       "TemaNivaa                 int64\n",
       "Temakode                 object\n",
       "Temanavn                 object\n",
       "SpoersmaalNivaa           int64\n",
       "Spoersmaalkode           object\n",
       "Spoersmaalnavn           object\n",
       "SvaralternativNivaa       int64\n",
       "SvaralternativKode       object\n",
       "SvaralternativNavn       object\n",
       "Skoleaarnavn             object\n",
       "EnhetNivaa                int64\n",
       "Nasjonaltkode            object\n",
       "Nasjonalt                object\n",
       "Fylkekode                 int64\n",
       "Fylke                    object\n",
       "Organisasjonsnummer      object\n",
       "EnhetNavn                object\n",
       "GruppeNivaa               int64\n",
       "GruppeKode               object\n",
       "GruppeNavn               object\n",
       "ProgramomraadeNivaa       int64\n",
       "UtdanningstypeKode       object\n",
       "UtdanningstypeNavn       object\n",
       "Utdanningsprogramkode    object\n",
       "UtdanningsprogramNavn    object\n",
       "TrinnNivaa                int64\n",
       "TrinnKode                 int64\n",
       "Trinnnavn                object\n",
       "KjoennNivaa               int64\n",
       "KjoennKode               object\n",
       "Kjoenn                   object\n",
       "EierformNivaa             int64\n",
       "Eierformkode              int64\n",
       "EierformNavn             object\n",
       "Score                    object\n",
       "Standardavvik            object\n",
       "AndelBesvart             object\n",
       "AntallBesvart            object\n",
       "Sidenummer                int64\n",
       "RaderSide                 int64\n",
       "RaderTotalt               int64\n",
       "key                      object\n",
       "key_hash                 object\n",
       "dtype: object"
      ]
     },
     "execution_count": 51,
     "metadata": {},
     "output_type": "execute_result"
    }
   ],
   "source": [
    "df.dtypes"
   ]
  },
  {
   "cell_type": "code",
   "execution_count": 37,
   "id": "db434a3f",
   "metadata": {},
   "outputs": [
    {
     "data": {
      "text/plain": [
       "TemaNivaa                 int64\n",
       "Temakode                 object\n",
       "Temanavn                 object\n",
       "SpoersmaalNivaa           int64\n",
       "Spoersmaalkode           object\n",
       "Spoersmaalnavn           object\n",
       "SvaralternativNivaa       int64\n",
       "SvaralternativKode       object\n",
       "SvaralternativNavn       object\n",
       "Skoleaarnavn             object\n",
       "EnhetNivaa                int64\n",
       "Nasjonaltkode            object\n",
       "Nasjonalt                object\n",
       "Fylkekode                 int64\n",
       "Fylke                    object\n",
       "Organisasjonsnummer      object\n",
       "EnhetNavn                object\n",
       "GruppeNivaa               int64\n",
       "GruppeKode               object\n",
       "GruppeNavn               object\n",
       "ProgramomraadeNivaa       int64\n",
       "UtdanningstypeKode       object\n",
       "UtdanningstypeNavn       object\n",
       "Utdanningsprogramkode    object\n",
       "UtdanningsprogramNavn    object\n",
       "TrinnNivaa                int64\n",
       "TrinnKode                 int64\n",
       "Trinnnavn                object\n",
       "KjoennNivaa               int64\n",
       "KjoennKode               object\n",
       "Kjoenn                   object\n",
       "EierformNivaa             int64\n",
       "Eierformkode              int64\n",
       "EierformNavn             object\n",
       "Score                    object\n",
       "Standardavvik            object\n",
       "AndelBesvart             object\n",
       "AntallBesvart            object\n",
       "Sidenummer                int64\n",
       "RaderSide                 int64\n",
       "RaderTotalt               int64\n",
       "key                      object\n",
       "key_hash                 object\n",
       "dtype: object"
      ]
     },
     "execution_count": 37,
     "metadata": {},
     "output_type": "execute_result"
    }
   ],
   "source": [
    "df.dtypes"
   ]
  },
  {
   "cell_type": "code",
   "execution_count": 46,
   "id": "28eb84ae",
   "metadata": {},
   "outputs": [
    {
     "data": {
      "text/plain": [
       "18843095560923654843346214715790911398864063672305750101136307732944682769110"
      ]
     },
     "execution_count": 46,
     "metadata": {},
     "output_type": "execute_result"
    }
   ],
   "source": [
    "df['key_hash'].iloc[0]"
   ]
  },
  {
   "cell_type": "code",
   "execution_count": null,
   "id": "223e6e0e",
   "metadata": {},
   "outputs": [],
   "source": []
  },
  {
   "cell_type": "code",
   "execution_count": 19,
   "id": "d8fd8077",
   "metadata": {},
   "outputs": [
    {
     "data": {
      "text/plain": [
       "18843095560923654843346214715790911398864063672305750101136307732944682769110"
      ]
     },
     "execution_count": 19,
     "metadata": {},
     "output_type": "execute_result"
    }
   ],
   "source": [
    "int(df['test'].iloc[0], 16)"
   ]
  },
  {
   "cell_type": "code",
   "execution_count": 52,
   "id": "74b5bbed",
   "metadata": {},
   "outputs": [
    {
     "data": {
      "text/plain": [
       "5184000000000000"
      ]
     },
     "execution_count": 52,
     "metadata": {},
     "output_type": "execute_result"
    }
   ],
   "source": [
    "72000000**2"
   ]
  },
  {
   "cell_type": "code",
   "execution_count": 53,
   "id": "0e3ccb80",
   "metadata": {},
   "outputs": [
    {
     "data": {
      "text/plain": [
       "144000000"
      ]
     },
     "execution_count": 53,
     "metadata": {},
     "output_type": "execute_result"
    }
   ],
   "source": [
    "72000000*2"
   ]
  },
  {
   "cell_type": "code",
   "execution_count": null,
   "id": "0026ef04",
   "metadata": {},
   "outputs": [],
   "source": [
    "start = time.perf_counter()\n",
    "\n",
    "columns_in_key = df.columns\n",
    "input_file = 'data/VGO_EUV_Tema_2022.csv'\n",
    "output_file = 'data/test_data.csv'\n",
    "\n",
    "with open(input_file) as file_read:\n",
    "    DictReader_obj = csv.DictReader(file_read, delimiter=';')\n",
    "    \n",
    "    key_list = []\n",
    "    count = 1\n",
    "    \n",
    "    for i, data in enumerate(DictReader_obj):\n",
    "        if i > 1000000: \n",
    "            break\n",
    "        \n",
    "        # Every time the list reaches 1,000,000 rows, we write the rows to file and empty the list \n",
    "        limit = 100000\n",
    "        if (i > 1) and (i % limit) == 0: \n",
    "            with open(output_file, 'a') as file_write:\n",
    "                file_write.writelines(key_list)\n",
    "            key_list = []\n",
    "            print(f\"Iteration {count: <10} A total of {count * limit} rows written to {output_file}\")\n",
    "            count += 1\n",
    "        \n",
    "        # We create hashed keys that are stored in key_list. Each key consists of all its columnvalues concatinated and then hashed\n",
    "        key = str()\n",
    "        for column in columns_in_key:\n",
    "            key += str(data[column])\n",
    "        key = hashlib.sha256(key.encode('utf-8')).hexdigest()\n",
    "        key = key.upper()\n",
    "        key += \"\\n\"\n",
    "        key_list.append(key)\n",
    "\n",
    "    # Write the remaining rows to file    \n",
    "    with open(output_file, 'a') as file_write:\n",
    "        file_write.writelines(key_list)\n",
    "    del key_list\n",
    "            \n",
    "end = time.perf_counter()\n",
    "print(\"\")\n",
    "print(\"Time in seconds:\", round(end - start, 2))\n",
    "print(\"Time in minutes:\", round((end - start)/ 60, 2))"
   ]
  },
  {
   "cell_type": "code",
   "execution_count": null,
   "id": "7942bb5d",
   "metadata": {},
   "outputs": [],
   "source": []
  },
  {
   "cell_type": "code",
   "execution_count": 129,
   "id": "7980aa9c",
   "metadata": {},
   "outputs": [
    {
     "data": {
      "text/plain": [
       "121000265"
      ]
     },
     "execution_count": 129,
     "metadata": {},
     "output_type": "execute_result"
    }
   ],
   "source": [
    "#sys.getsizeof(df_test_data)\n",
    "df_test_data.memory_usage(deep=True)"
   ]
  },
  {
   "cell_type": "code",
   "execution_count": 136,
   "id": "01ee26be",
   "metadata": {},
   "outputs": [
    {
     "data": {
      "text/plain": [
       "121000249"
      ]
     },
     "execution_count": 136,
     "metadata": {},
     "output_type": "execute_result"
    }
   ],
   "source": [
    "sum(df_test_data.memory_usage(deep=True))"
   ]
  },
  {
   "cell_type": "code",
   "execution_count": 131,
   "id": "6cfb475a",
   "metadata": {
    "scrolled": true
   },
   "outputs": [
    {
     "name": "stderr",
     "output_type": "stream",
     "text": [
      "C:\\Users\\ARFEV\\AppData\\Local\\Temp\\ipykernel_12028\\904630515.py:2: DtypeWarning: Columns (7,15,37) have mixed types. Specify dtype option on import or set low_memory=False.\n",
      "  df_test2_data = pd.read_csv('data/test2_data.csv')  #nrows=10\n"
     ]
    },
    {
     "data": {
      "text/html": [
       "<div>\n",
       "<style scoped>\n",
       "    .dataframe tbody tr th:only-of-type {\n",
       "        vertical-align: middle;\n",
       "    }\n",
       "\n",
       "    .dataframe tbody tr th {\n",
       "        vertical-align: top;\n",
       "    }\n",
       "\n",
       "    .dataframe thead th {\n",
       "        text-align: right;\n",
       "    }\n",
       "</style>\n",
       "<table border=\"1\" class=\"dataframe\">\n",
       "  <thead>\n",
       "    <tr style=\"text-align: right;\">\n",
       "      <th></th>\n",
       "      <th>TemaNivaa</th>\n",
       "      <th>Temakode</th>\n",
       "      <th>Temanavn</th>\n",
       "      <th>SpoersmaalNivaa</th>\n",
       "      <th>Spoersmaalkode</th>\n",
       "      <th>Spoersmaalnavn</th>\n",
       "      <th>SvaralternativNivaa</th>\n",
       "      <th>SvaralternativKode</th>\n",
       "      <th>SvaralternativNavn</th>\n",
       "      <th>Skoleaarnavn</th>\n",
       "      <th>...</th>\n",
       "      <th>EierformNivaa</th>\n",
       "      <th>Eierformkode</th>\n",
       "      <th>EierformNavn</th>\n",
       "      <th>Score</th>\n",
       "      <th>Standardavvik</th>\n",
       "      <th>AndelBesvart</th>\n",
       "      <th>AntallBesvart</th>\n",
       "      <th>Sidenummer</th>\n",
       "      <th>RaderSide</th>\n",
       "      <th>RaderTotalt</th>\n",
       "    </tr>\n",
       "  </thead>\n",
       "  <tbody>\n",
       "    <tr>\n",
       "      <th>0</th>\n",
       "      <td>1</td>\n",
       "      <td>EUTema_36</td>\n",
       "      <td>T27 - Arbeidsmiljø</td>\n",
       "      <td>2</td>\n",
       "      <td>EUSpoersmaal_Q7132</td>\n",
       "      <td>I hvilken grad er du enig i følgende påstander...</td>\n",
       "      <td>0</td>\n",
       "      <td>Alle</td>\n",
       "      <td>Alle svar</td>\n",
       "      <td>2022-23</td>\n",
       "      <td>...</td>\n",
       "      <td>1</td>\n",
       "      <td>3</td>\n",
       "      <td>Offentlig skole</td>\n",
       "      <td>*</td>\n",
       "      <td>*</td>\n",
       "      <td>*</td>\n",
       "      <td>*</td>\n",
       "      <td>1</td>\n",
       "      <td>7236</td>\n",
       "      <td>72759548</td>\n",
       "    </tr>\n",
       "    <tr>\n",
       "      <th>1</th>\n",
       "      <td>1</td>\n",
       "      <td>EUTema_36</td>\n",
       "      <td>T27 - Arbeidsmiljø</td>\n",
       "      <td>2</td>\n",
       "      <td>EUSpoersmaal_Q7132</td>\n",
       "      <td>I hvilken grad er du enig i følgende påstander...</td>\n",
       "      <td>0</td>\n",
       "      <td>Alle</td>\n",
       "      <td>Alle svar</td>\n",
       "      <td>2022-23</td>\n",
       "      <td>...</td>\n",
       "      <td>0</td>\n",
       "      <td>-10</td>\n",
       "      <td>Alle eierformer</td>\n",
       "      <td>*</td>\n",
       "      <td>*</td>\n",
       "      <td>*</td>\n",
       "      <td>*</td>\n",
       "      <td>1</td>\n",
       "      <td>7236</td>\n",
       "      <td>72759548</td>\n",
       "    </tr>\n",
       "    <tr>\n",
       "      <th>2</th>\n",
       "      <td>1</td>\n",
       "      <td>EUTema_36</td>\n",
       "      <td>T27 - Arbeidsmiljø</td>\n",
       "      <td>2</td>\n",
       "      <td>EUSpoersmaal_Q7132</td>\n",
       "      <td>I hvilken grad er du enig i følgende påstander...</td>\n",
       "      <td>0</td>\n",
       "      <td>Alle</td>\n",
       "      <td>Alle svar</td>\n",
       "      <td>2022-23</td>\n",
       "      <td>...</td>\n",
       "      <td>1</td>\n",
       "      <td>3</td>\n",
       "      <td>Offentlig skole</td>\n",
       "      <td>*</td>\n",
       "      <td>*</td>\n",
       "      <td>*</td>\n",
       "      <td>*</td>\n",
       "      <td>1</td>\n",
       "      <td>7236</td>\n",
       "      <td>72759548</td>\n",
       "    </tr>\n",
       "    <tr>\n",
       "      <th>3</th>\n",
       "      <td>1</td>\n",
       "      <td>EUTema_36</td>\n",
       "      <td>T27 - Arbeidsmiljø</td>\n",
       "      <td>2</td>\n",
       "      <td>EUSpoersmaal_Q7132</td>\n",
       "      <td>I hvilken grad er du enig i følgende påstander...</td>\n",
       "      <td>0</td>\n",
       "      <td>Alle</td>\n",
       "      <td>Alle svar</td>\n",
       "      <td>2022-23</td>\n",
       "      <td>...</td>\n",
       "      <td>0</td>\n",
       "      <td>-10</td>\n",
       "      <td>Alle eierformer</td>\n",
       "      <td>*</td>\n",
       "      <td>*</td>\n",
       "      <td>*</td>\n",
       "      <td>*</td>\n",
       "      <td>1</td>\n",
       "      <td>7236</td>\n",
       "      <td>72759548</td>\n",
       "    </tr>\n",
       "    <tr>\n",
       "      <th>4</th>\n",
       "      <td>1</td>\n",
       "      <td>EUTema_35</td>\n",
       "      <td>T26 - Arbeidsmiljø</td>\n",
       "      <td>2</td>\n",
       "      <td>EUSpoersmaal_Q7119</td>\n",
       "      <td>Er du blitt utsatt for urettferdig behandling/...</td>\n",
       "      <td>0</td>\n",
       "      <td>Alle</td>\n",
       "      <td>Alle svar</td>\n",
       "      <td>2022-23</td>\n",
       "      <td>...</td>\n",
       "      <td>0</td>\n",
       "      <td>-10</td>\n",
       "      <td>Alle eierformer</td>\n",
       "      <td>*</td>\n",
       "      <td>*</td>\n",
       "      <td>*</td>\n",
       "      <td>*</td>\n",
       "      <td>1</td>\n",
       "      <td>7236</td>\n",
       "      <td>72759548</td>\n",
       "    </tr>\n",
       "    <tr>\n",
       "      <th>...</th>\n",
       "      <td>...</td>\n",
       "      <td>...</td>\n",
       "      <td>...</td>\n",
       "      <td>...</td>\n",
       "      <td>...</td>\n",
       "      <td>...</td>\n",
       "      <td>...</td>\n",
       "      <td>...</td>\n",
       "      <td>...</td>\n",
       "      <td>...</td>\n",
       "      <td>...</td>\n",
       "      <td>...</td>\n",
       "      <td>...</td>\n",
       "      <td>...</td>\n",
       "      <td>...</td>\n",
       "      <td>...</td>\n",
       "      <td>...</td>\n",
       "      <td>...</td>\n",
       "      <td>...</td>\n",
       "      <td>...</td>\n",
       "      <td>...</td>\n",
       "    </tr>\n",
       "    <tr>\n",
       "      <th>999995</th>\n",
       "      <td>1</td>\n",
       "      <td>EUTema_7</td>\n",
       "      <td>Vurdering for læring</td>\n",
       "      <td>2</td>\n",
       "      <td>EUSpoersmaal_Q7208</td>\n",
       "      <td>Har læreren snakket om hva som kreves for å op...</td>\n",
       "      <td>1</td>\n",
       "      <td>1</td>\n",
       "      <td>Ikke i noen fag</td>\n",
       "      <td>2022-23</td>\n",
       "      <td>...</td>\n",
       "      <td>0</td>\n",
       "      <td>-10</td>\n",
       "      <td>Alle eierformer</td>\n",
       "      <td>*</td>\n",
       "      <td>*</td>\n",
       "      <td>*</td>\n",
       "      <td>*</td>\n",
       "      <td>139</td>\n",
       "      <td>7236</td>\n",
       "      <td>72759548</td>\n",
       "    </tr>\n",
       "    <tr>\n",
       "      <th>999996</th>\n",
       "      <td>1</td>\n",
       "      <td>EUTema_7</td>\n",
       "      <td>Vurdering for læring</td>\n",
       "      <td>2</td>\n",
       "      <td>EUSpoersmaal_Q7208</td>\n",
       "      <td>Har læreren snakket om hva som kreves for å op...</td>\n",
       "      <td>1</td>\n",
       "      <td>1</td>\n",
       "      <td>Ikke i noen fag</td>\n",
       "      <td>2022-23</td>\n",
       "      <td>...</td>\n",
       "      <td>0</td>\n",
       "      <td>-10</td>\n",
       "      <td>Alle eierformer</td>\n",
       "      <td>*</td>\n",
       "      <td>*</td>\n",
       "      <td>*</td>\n",
       "      <td>*</td>\n",
       "      <td>139</td>\n",
       "      <td>7236</td>\n",
       "      <td>72759548</td>\n",
       "    </tr>\n",
       "    <tr>\n",
       "      <th>999997</th>\n",
       "      <td>1</td>\n",
       "      <td>EUTema_7</td>\n",
       "      <td>Vurdering for læring</td>\n",
       "      <td>2</td>\n",
       "      <td>EUSpoersmaal_Q7208</td>\n",
       "      <td>Har læreren snakket om hva som kreves for å op...</td>\n",
       "      <td>1</td>\n",
       "      <td>1</td>\n",
       "      <td>Ikke i noen fag</td>\n",
       "      <td>2022-23</td>\n",
       "      <td>...</td>\n",
       "      <td>0</td>\n",
       "      <td>-10</td>\n",
       "      <td>Alle eierformer</td>\n",
       "      <td>*</td>\n",
       "      <td>*</td>\n",
       "      <td>*</td>\n",
       "      <td>*</td>\n",
       "      <td>139</td>\n",
       "      <td>7236</td>\n",
       "      <td>72759548</td>\n",
       "    </tr>\n",
       "    <tr>\n",
       "      <th>999998</th>\n",
       "      <td>1</td>\n",
       "      <td>EUTema_7</td>\n",
       "      <td>Vurdering for læring</td>\n",
       "      <td>2</td>\n",
       "      <td>EUSpoersmaal_Q7208</td>\n",
       "      <td>Har læreren snakket om hva som kreves for å op...</td>\n",
       "      <td>1</td>\n",
       "      <td>1</td>\n",
       "      <td>Ikke i noen fag</td>\n",
       "      <td>2022-23</td>\n",
       "      <td>...</td>\n",
       "      <td>0</td>\n",
       "      <td>-10</td>\n",
       "      <td>Alle eierformer</td>\n",
       "      <td>*</td>\n",
       "      <td>*</td>\n",
       "      <td>*</td>\n",
       "      <td>*</td>\n",
       "      <td>139</td>\n",
       "      <td>7236</td>\n",
       "      <td>72759548</td>\n",
       "    </tr>\n",
       "    <tr>\n",
       "      <th>999999</th>\n",
       "      <td>1</td>\n",
       "      <td>EUTema_7</td>\n",
       "      <td>Vurdering for læring</td>\n",
       "      <td>2</td>\n",
       "      <td>EUSpoersmaal_Q7208</td>\n",
       "      <td>Har læreren snakket om hva som kreves for å op...</td>\n",
       "      <td>1</td>\n",
       "      <td>1</td>\n",
       "      <td>Ikke i noen fag</td>\n",
       "      <td>2022-23</td>\n",
       "      <td>...</td>\n",
       "      <td>0</td>\n",
       "      <td>-10</td>\n",
       "      <td>Alle eierformer</td>\n",
       "      <td>*</td>\n",
       "      <td>*</td>\n",
       "      <td>*</td>\n",
       "      <td>*</td>\n",
       "      <td>139</td>\n",
       "      <td>7236</td>\n",
       "      <td>72759548</td>\n",
       "    </tr>\n",
       "  </tbody>\n",
       "</table>\n",
       "<p>1000000 rows × 41 columns</p>\n",
       "</div>"
      ],
      "text/plain": [
       "        TemaNivaa   Temakode              Temanavn  SpoersmaalNivaa  \\\n",
       "0               1  EUTema_36    T27 - Arbeidsmiljø                2   \n",
       "1               1  EUTema_36    T27 - Arbeidsmiljø                2   \n",
       "2               1  EUTema_36    T27 - Arbeidsmiljø                2   \n",
       "3               1  EUTema_36    T27 - Arbeidsmiljø                2   \n",
       "4               1  EUTema_35    T26 - Arbeidsmiljø                2   \n",
       "...           ...        ...                   ...              ...   \n",
       "999995          1   EUTema_7  Vurdering for læring                2   \n",
       "999996          1   EUTema_7  Vurdering for læring                2   \n",
       "999997          1   EUTema_7  Vurdering for læring                2   \n",
       "999998          1   EUTema_7  Vurdering for læring                2   \n",
       "999999          1   EUTema_7  Vurdering for læring                2   \n",
       "\n",
       "            Spoersmaalkode                                     Spoersmaalnavn  \\\n",
       "0       EUSpoersmaal_Q7132  I hvilken grad er du enig i følgende påstander...   \n",
       "1       EUSpoersmaal_Q7132  I hvilken grad er du enig i følgende påstander...   \n",
       "2       EUSpoersmaal_Q7132  I hvilken grad er du enig i følgende påstander...   \n",
       "3       EUSpoersmaal_Q7132  I hvilken grad er du enig i følgende påstander...   \n",
       "4       EUSpoersmaal_Q7119  Er du blitt utsatt for urettferdig behandling/...   \n",
       "...                    ...                                                ...   \n",
       "999995  EUSpoersmaal_Q7208  Har læreren snakket om hva som kreves for å op...   \n",
       "999996  EUSpoersmaal_Q7208  Har læreren snakket om hva som kreves for å op...   \n",
       "999997  EUSpoersmaal_Q7208  Har læreren snakket om hva som kreves for å op...   \n",
       "999998  EUSpoersmaal_Q7208  Har læreren snakket om hva som kreves for å op...   \n",
       "999999  EUSpoersmaal_Q7208  Har læreren snakket om hva som kreves for å op...   \n",
       "\n",
       "        SvaralternativNivaa SvaralternativKode SvaralternativNavn  \\\n",
       "0                         0               Alle          Alle svar   \n",
       "1                         0               Alle          Alle svar   \n",
       "2                         0               Alle          Alle svar   \n",
       "3                         0               Alle          Alle svar   \n",
       "4                         0               Alle          Alle svar   \n",
       "...                     ...                ...                ...   \n",
       "999995                    1                  1    Ikke i noen fag   \n",
       "999996                    1                  1    Ikke i noen fag   \n",
       "999997                    1                  1    Ikke i noen fag   \n",
       "999998                    1                  1    Ikke i noen fag   \n",
       "999999                    1                  1    Ikke i noen fag   \n",
       "\n",
       "       Skoleaarnavn  ...  EierformNivaa Eierformkode     EierformNavn  Score  \\\n",
       "0           2022-23  ...              1            3  Offentlig skole      *   \n",
       "1           2022-23  ...              0          -10  Alle eierformer      *   \n",
       "2           2022-23  ...              1            3  Offentlig skole      *   \n",
       "3           2022-23  ...              0          -10  Alle eierformer      *   \n",
       "4           2022-23  ...              0          -10  Alle eierformer      *   \n",
       "...             ...  ...            ...          ...              ...    ...   \n",
       "999995      2022-23  ...              0          -10  Alle eierformer      *   \n",
       "999996      2022-23  ...              0          -10  Alle eierformer      *   \n",
       "999997      2022-23  ...              0          -10  Alle eierformer      *   \n",
       "999998      2022-23  ...              0          -10  Alle eierformer      *   \n",
       "999999      2022-23  ...              0          -10  Alle eierformer      *   \n",
       "\n",
       "       Standardavvik AndelBesvart AntallBesvart  Sidenummer RaderSide  \\\n",
       "0                  *            *             *           1      7236   \n",
       "1                  *            *             *           1      7236   \n",
       "2                  *            *             *           1      7236   \n",
       "3                  *            *             *           1      7236   \n",
       "4                  *            *             *           1      7236   \n",
       "...              ...          ...           ...         ...       ...   \n",
       "999995             *            *             *         139      7236   \n",
       "999996             *            *             *         139      7236   \n",
       "999997             *            *             *         139      7236   \n",
       "999998             *            *             *         139      7236   \n",
       "999999             *            *             *         139      7236   \n",
       "\n",
       "       RaderTotalt  \n",
       "0         72759548  \n",
       "1         72759548  \n",
       "2         72759548  \n",
       "3         72759548  \n",
       "4         72759548  \n",
       "...            ...  \n",
       "999995    72759548  \n",
       "999996    72759548  \n",
       "999997    72759548  \n",
       "999998    72759548  \n",
       "999999    72759548  \n",
       "\n",
       "[1000000 rows x 41 columns]"
      ]
     },
     "execution_count": 131,
     "metadata": {},
     "output_type": "execute_result"
    }
   ],
   "source": [
    "# Confirming that the data looks fine\n",
    "df_test2_data = pd.read_csv('data/test2_data.csv')  #nrows=10\n",
    "df_test2_data"
   ]
  },
  {
   "cell_type": "code",
   "execution_count": 135,
   "id": "e8ec07ec",
   "metadata": {},
   "outputs": [
    {
     "data": {
      "text/plain": [
       "2059554609"
      ]
     },
     "execution_count": 135,
     "metadata": {},
     "output_type": "execute_result"
    }
   ],
   "source": [
    "sum(df_test2_data.memory_usage(deep=True))"
   ]
  },
  {
   "cell_type": "code",
   "execution_count": 132,
   "id": "0341ca20",
   "metadata": {},
   "outputs": [
    {
     "data": {
      "text/plain": [
       "2059554625"
      ]
     },
     "execution_count": 132,
     "metadata": {},
     "output_type": "execute_result"
    }
   ],
   "source": [
    "sys.getsizeof(df_test2_data)"
   ]
  },
  {
   "cell_type": "code",
   "execution_count": 137,
   "id": "1c025d23",
   "metadata": {},
   "outputs": [
    {
     "data": {
      "text/plain": [
       "17.021077576460193"
      ]
     },
     "execution_count": 137,
     "metadata": {},
     "output_type": "execute_result"
    }
   ],
   "source": [
    "2059554625 / 121000249"
   ]
  },
  {
   "cell_type": "code",
   "execution_count": null,
   "id": "c4c6ab50",
   "metadata": {},
   "outputs": [],
   "source": []
  },
  {
   "cell_type": "code",
   "execution_count": null,
   "id": "0623379e",
   "metadata": {},
   "outputs": [],
   "source": []
  },
  {
   "cell_type": "code",
   "execution_count": null,
   "id": "43d426b3",
   "metadata": {},
   "outputs": [],
   "source": [
    "import multiprocessing as mp\n",
    "\n",
    "def worker_function(item, q):\n",
    "    \"\"\"\n",
    "    do some work, put results in queue\n",
    "    \"\"\"\n",
    "    res = f'item: {item} - result: {item ** 2}'\n",
    "    print(res)\n",
    "    q.put(res)\n",
    "\n",
    "\n",
    "def listener(q):\n",
    "    \"\"\"\n",
    "    continue to listen for messages on the queue and writes to file when receive one\n",
    "    if it receives a '#done#' message it will exit\n",
    "    \"\"\"\n",
    "    with open('output.txt', 'a') as f:\n",
    "        while True:\n",
    "            m = q.get()\n",
    "            if m == '#done#':\n",
    "                break\n",
    "            f.write(str(m) + '\\n')\n",
    "            f.flush()\n",
    "\n",
    "\n",
    "if __name__ == '__main__':\n",
    "    manager = mp.Manager()\n",
    "    q = manager.Queue()\n",
    "    file_pool = mp.Pool(1)\n",
    "    file_pool.apply_async(listener, (q, ))\n",
    "\n",
    "    pool = mp.Pool(16)\n",
    "    jobs = []\n",
    "    for item in range(10000):\n",
    "        job = pool.apply_async(worker_function, (item, q))\n",
    "        jobs.append(job)\n",
    "\n",
    "    for job in jobs:\n",
    "        job.get()\n",
    "\n",
    "    q.put('#done#')  # all workers are done, we close the output file\n",
    "    pool.close()\n",
    "    pool.join()"
   ]
  },
  {
   "cell_type": "code",
   "execution_count": 2,
   "id": "0689fb9b",
   "metadata": {},
   "outputs": [],
   "source": [
    "from concurrency2 import start"
   ]
  },
  {
   "cell_type": "code",
   "execution_count": 3,
   "id": "46782720",
   "metadata": {},
   "outputs": [],
   "source": [
    "start()"
   ]
  },
  {
   "cell_type": "code",
   "execution_count": 6,
   "id": "6c8bac86",
   "metadata": {},
   "outputs": [
    {
     "name": "stdout",
     "output_type": "stream",
     "text": [
      "(array([     0,  33333,  66667, 100001]), 33333.666666666664)\n"
     ]
    }
   ],
   "source": [
    "print(np.linspace(start = 0, stop = 100001, num = 5, endpoint = True, retstep = True, dtype = int))"
   ]
  },
  {
   "cell_type": "code",
   "execution_count": 7,
   "id": "d269a77e",
   "metadata": {},
   "outputs": [],
   "source": [
    "space = np.linspace(start = 0, stop = 100001, num = 5, endpoint = True, retstep = True, dtype = int)"
   ]
  },
  {
   "cell_type": "code",
   "execution_count": 13,
   "id": "59972c8a",
   "metadata": {},
   "outputs": [
    {
     "data": {
      "text/plain": [
       "array([ 25000,  50000,  75000, 100001])"
      ]
     },
     "execution_count": 13,
     "metadata": {},
     "output_type": "execute_result"
    }
   ],
   "source": [
    "space[0][1:]"
   ]
  },
  {
   "cell_type": "code",
   "execution_count": 18,
   "id": "6823ba60",
   "metadata": {},
   "outputs": [
    {
     "name": "stdout",
     "output_type": "stream",
     "text": [
      "0 25000\n",
      "25001 50000\n",
      "50001 75000\n",
      "75001 100001\n"
     ]
    }
   ],
   "source": [
    "first = 0\n",
    "for second in space[0][1:]:\n",
    "    print(first, second)\n",
    "    first = second +1"
   ]
  },
  {
   "cell_type": "code",
   "execution_count": null,
   "id": "3faef337",
   "metadata": {},
   "outputs": [],
   "source": []
  }
 ],
 "metadata": {
  "kernelspec": {
   "display_name": "Python 3",
   "language": "python",
   "name": "python3"
  },
  "language_info": {
   "codemirror_mode": {
    "name": "ipython",
    "version": 3
   },
   "file_extension": ".py",
   "mimetype": "text/x-python",
   "name": "python",
   "nbconvert_exporter": "python",
   "pygments_lexer": "ipython3",
   "version": "3.11.3 (tags/v3.11.3:f3909b8, Apr  4 2023, 23:49:59) [MSC v.1934 64 bit (AMD64)]"
  },
  "vscode": {
   "interpreter": {
    "hash": "44b390ea56f802349112b6199685820807620b3937c38b7ee85e880728a38cb2"
   }
  }
 },
 "nbformat": 4,
 "nbformat_minor": 5
}
